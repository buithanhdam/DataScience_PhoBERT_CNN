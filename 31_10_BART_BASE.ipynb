{
 "cells": [
  {
   "cell_type": "markdown",
   "id": "0152a420",
   "metadata": {
    "id": "_leEuhPQUiwC",
    "papermill": {
     "duration": 0.013788,
     "end_time": "2023-11-12T05:29:31.533955",
     "exception": false,
     "start_time": "2023-11-12T05:29:31.520167",
     "status": "completed"
    },
    "tags": []
   },
   "source": [
    "# Pre"
   ]
  },
  {
   "cell_type": "markdown",
   "id": "2dc7341d",
   "metadata": {
    "id": "iHxLSAJakHXy",
    "papermill": {
     "duration": 0.012654,
     "end_time": "2023-11-12T05:29:31.559832",
     "exception": false,
     "start_time": "2023-11-12T05:29:31.547178",
     "status": "completed"
    },
    "tags": []
   },
   "source": [
    "Import libraries"
   ]
  },
  {
   "cell_type": "code",
   "execution_count": 1,
   "id": "4903305a",
   "metadata": {
    "execution": {
     "iopub.execute_input": "2023-11-12T05:29:31.587215Z",
     "iopub.status.busy": "2023-11-12T05:29:31.586860Z",
     "iopub.status.idle": "2023-11-12T05:30:21.820049Z",
     "shell.execute_reply": "2023-11-12T05:30:21.819080Z"
    },
    "id": "_dpRJkj0WPxU",
    "outputId": "ba930632-9401-4730-9e63-9782841236a2",
    "papermill": {
     "duration": 50.249894,
     "end_time": "2023-11-12T05:30:21.822508",
     "exception": false,
     "start_time": "2023-11-12T05:29:31.572614",
     "status": "completed"
    },
    "tags": []
   },
   "outputs": [
    {
     "name": "stdout",
     "output_type": "stream",
     "text": [
      "Requirement already satisfied: wandb in /opt/conda/lib/python3.10/site-packages (0.15.9)\r\n",
      "Requirement already satisfied: Click!=8.0.0,>=7.1 in /opt/conda/lib/python3.10/site-packages (from wandb) (8.1.7)\r\n",
      "Requirement already satisfied: GitPython!=3.1.29,>=1.0.0 in /opt/conda/lib/python3.10/site-packages (from wandb) (3.1.31)\r\n",
      "Requirement already satisfied: requests<3,>=2.0.0 in /opt/conda/lib/python3.10/site-packages (from wandb) (2.31.0)\r\n",
      "Requirement already satisfied: psutil>=5.0.0 in /opt/conda/lib/python3.10/site-packages (from wandb) (5.9.3)\r\n",
      "Requirement already satisfied: sentry-sdk>=1.0.0 in /opt/conda/lib/python3.10/site-packages (from wandb) (1.30.0)\r\n",
      "Requirement already satisfied: docker-pycreds>=0.4.0 in /opt/conda/lib/python3.10/site-packages (from wandb) (0.4.0)\r\n",
      "Requirement already satisfied: PyYAML in /opt/conda/lib/python3.10/site-packages (from wandb) (6.0)\r\n",
      "Requirement already satisfied: pathtools in /opt/conda/lib/python3.10/site-packages (from wandb) (0.1.2)\r\n",
      "Requirement already satisfied: setproctitle in /opt/conda/lib/python3.10/site-packages (from wandb) (1.3.2)\r\n",
      "Requirement already satisfied: setuptools in /opt/conda/lib/python3.10/site-packages (from wandb) (68.0.0)\r\n",
      "Requirement already satisfied: appdirs>=1.4.3 in /opt/conda/lib/python3.10/site-packages (from wandb) (1.4.4)\r\n",
      "Requirement already satisfied: protobuf!=4.21.0,<5,>=3.19.0 in /opt/conda/lib/python3.10/site-packages (from wandb) (3.20.3)\r\n",
      "Requirement already satisfied: six>=1.4.0 in /opt/conda/lib/python3.10/site-packages (from docker-pycreds>=0.4.0->wandb) (1.16.0)\r\n",
      "Requirement already satisfied: gitdb<5,>=4.0.1 in /opt/conda/lib/python3.10/site-packages (from GitPython!=3.1.29,>=1.0.0->wandb) (4.0.10)\r\n",
      "Requirement already satisfied: charset-normalizer<4,>=2 in /opt/conda/lib/python3.10/site-packages (from requests<3,>=2.0.0->wandb) (3.1.0)\r\n",
      "Requirement already satisfied: idna<4,>=2.5 in /opt/conda/lib/python3.10/site-packages (from requests<3,>=2.0.0->wandb) (3.4)\r\n",
      "Requirement already satisfied: urllib3<3,>=1.21.1 in /opt/conda/lib/python3.10/site-packages (from requests<3,>=2.0.0->wandb) (1.26.15)\r\n",
      "Requirement already satisfied: certifi>=2017.4.17 in /opt/conda/lib/python3.10/site-packages (from requests<3,>=2.0.0->wandb) (2023.7.22)\r\n",
      "Requirement already satisfied: smmap<6,>=3.0.1 in /opt/conda/lib/python3.10/site-packages (from gitdb<5,>=4.0.1->GitPython!=3.1.29,>=1.0.0->wandb) (5.0.0)\r\n",
      "Requirement already satisfied: torch in /opt/conda/lib/python3.10/site-packages (2.0.0)\r\n",
      "Requirement already satisfied: filelock in /opt/conda/lib/python3.10/site-packages (from torch) (3.12.2)\r\n",
      "Requirement already satisfied: typing-extensions in /opt/conda/lib/python3.10/site-packages (from torch) (4.6.3)\r\n",
      "Requirement already satisfied: sympy in /opt/conda/lib/python3.10/site-packages (from torch) (1.12)\r\n",
      "Requirement already satisfied: networkx in /opt/conda/lib/python3.10/site-packages (from torch) (3.1)\r\n",
      "Requirement already satisfied: jinja2 in /opt/conda/lib/python3.10/site-packages (from torch) (3.1.2)\r\n",
      "Requirement already satisfied: MarkupSafe>=2.0 in /opt/conda/lib/python3.10/site-packages (from jinja2->torch) (2.1.3)\r\n",
      "Requirement already satisfied: mpmath>=0.19 in /opt/conda/lib/python3.10/site-packages (from sympy->torch) (1.3.0)\r\n",
      "Requirement already satisfied: transformers in /opt/conda/lib/python3.10/site-packages (4.33.0)\r\n",
      "Requirement already satisfied: filelock in /opt/conda/lib/python3.10/site-packages (from transformers) (3.12.2)\r\n",
      "Requirement already satisfied: huggingface-hub<1.0,>=0.15.1 in /opt/conda/lib/python3.10/site-packages (from transformers) (0.16.4)\r\n",
      "Requirement already satisfied: numpy>=1.17 in /opt/conda/lib/python3.10/site-packages (from transformers) (1.23.5)\r\n",
      "Requirement already satisfied: packaging>=20.0 in /opt/conda/lib/python3.10/site-packages (from transformers) (21.3)\r\n",
      "Requirement already satisfied: pyyaml>=5.1 in /opt/conda/lib/python3.10/site-packages (from transformers) (6.0)\r\n",
      "Requirement already satisfied: regex!=2019.12.17 in /opt/conda/lib/python3.10/site-packages (from transformers) (2023.6.3)\r\n",
      "Requirement already satisfied: requests in /opt/conda/lib/python3.10/site-packages (from transformers) (2.31.0)\r\n",
      "Requirement already satisfied: tokenizers!=0.11.3,<0.14,>=0.11.1 in /opt/conda/lib/python3.10/site-packages (from transformers) (0.13.3)\r\n",
      "Requirement already satisfied: safetensors>=0.3.1 in /opt/conda/lib/python3.10/site-packages (from transformers) (0.3.3)\r\n",
      "Requirement already satisfied: tqdm>=4.27 in /opt/conda/lib/python3.10/site-packages (from transformers) (4.66.1)\r\n",
      "Requirement already satisfied: fsspec in /opt/conda/lib/python3.10/site-packages (from huggingface-hub<1.0,>=0.15.1->transformers) (2023.9.0)\r\n",
      "Requirement already satisfied: typing-extensions>=3.7.4.3 in /opt/conda/lib/python3.10/site-packages (from huggingface-hub<1.0,>=0.15.1->transformers) (4.6.3)\r\n",
      "Requirement already satisfied: pyparsing!=3.0.5,>=2.0.2 in /opt/conda/lib/python3.10/site-packages (from packaging>=20.0->transformers) (3.0.9)\r\n",
      "Requirement already satisfied: charset-normalizer<4,>=2 in /opt/conda/lib/python3.10/site-packages (from requests->transformers) (3.1.0)\r\n",
      "Requirement already satisfied: idna<4,>=2.5 in /opt/conda/lib/python3.10/site-packages (from requests->transformers) (3.4)\r\n",
      "Requirement already satisfied: urllib3<3,>=1.21.1 in /opt/conda/lib/python3.10/site-packages (from requests->transformers) (1.26.15)\r\n",
      "Requirement already satisfied: certifi>=2017.4.17 in /opt/conda/lib/python3.10/site-packages (from requests->transformers) (2023.7.22)\r\n",
      "Collecting stopwordsiso\r\n",
      "  Downloading stopwordsiso-0.6.1-py3-none-any.whl (73 kB)\r\n",
      "\u001b[2K     \u001b[90m━━━━━━━━━━━━━━━━━━━━━━━━━━━━━━━━━━━━━━━━\u001b[0m \u001b[32m73.5/73.5 kB\u001b[0m \u001b[31m2.7 MB/s\u001b[0m eta \u001b[36m0:00:00\u001b[0m\r\n",
      "\u001b[?25hInstalling collected packages: stopwordsiso\r\n",
      "Successfully installed stopwordsiso-0.6.1\r\n"
     ]
    }
   ],
   "source": [
    "!pip install wandb\n",
    "!pip install torch\n",
    "!pip install transformers\n",
    "!pip install stopwordsiso"
   ]
  },
  {
   "cell_type": "code",
   "execution_count": 2,
   "id": "8486a577",
   "metadata": {
    "execution": {
     "iopub.execute_input": "2023-11-12T05:30:21.852131Z",
     "iopub.status.busy": "2023-11-12T05:30:21.851715Z",
     "iopub.status.idle": "2023-11-12T05:30:39.735495Z",
     "shell.execute_reply": "2023-11-12T05:30:39.734704Z"
    },
    "id": "CmyovMvbjyXU",
    "papermill": {
     "duration": 17.901004,
     "end_time": "2023-11-12T05:30:39.737842",
     "exception": false,
     "start_time": "2023-11-12T05:30:21.836838",
     "status": "completed"
    },
    "tags": []
   },
   "outputs": [
    {
     "name": "stderr",
     "output_type": "stream",
     "text": [
      "/opt/conda/lib/python3.10/site-packages/scipy/__init__.py:146: UserWarning: A NumPy version >=1.16.5 and <1.23.0 is required for this version of SciPy (detected version 1.23.5\n",
      "  warnings.warn(f\"A NumPy version >={np_minversion} and <{np_maxversion}\"\n"
     ]
    }
   ],
   "source": [
    "import pandas as pd\n",
    "import json\n",
    "import nltk\n",
    "import torch.nn.functional as F\n",
    "import random,operator\n",
    "from nltk.tokenize import word_tokenize\n",
    "from stopwordsiso import stopwords\n",
    "from nltk.stem.porter import PorterStemmer\n",
    "import re\n",
    "import wandb\n",
    "import numpy as np\n",
    "from torch.utils.data import DataLoader, TensorDataset\n",
    "# from torch.utils.data import DataLoader, Dataset\n",
    "import os, re, string\n",
    "import torch\n",
    "import re\n",
    "import torch.nn as nn\n",
    "import logging\n",
    "\n",
    "from transformers import AdamW, get_linear_schedule_with_warmup, AutoTokenizer, AutoModelForSeq2SeqLM, TrainerCallback\n",
    "from sklearn.model_selection import train_test_split"
   ]
  },
  {
   "cell_type": "code",
   "execution_count": 3,
   "id": "baeca6b8",
   "metadata": {
    "execution": {
     "iopub.execute_input": "2023-11-12T05:30:39.767762Z",
     "iopub.status.busy": "2023-11-12T05:30:39.767162Z",
     "iopub.status.idle": "2023-11-12T05:30:39.947382Z",
     "shell.execute_reply": "2023-11-12T05:30:39.946576Z"
    },
    "papermill": {
     "duration": 0.197743,
     "end_time": "2023-11-12T05:30:39.949690",
     "exception": false,
     "start_time": "2023-11-12T05:30:39.751947",
     "status": "completed"
    },
    "tags": []
   },
   "outputs": [
    {
     "name": "stdout",
     "output_type": "stream",
     "text": [
      "[nltk_data] Downloading package punkt to /usr/share/nltk_data...\n",
      "[nltk_data]   Package punkt is already up-to-date!\n",
      "[nltk_data] Downloading package stopwords to /usr/share/nltk_data...\n",
      "[nltk_data]   Package stopwords is already up-to-date!\n"
     ]
    },
    {
     "data": {
      "text/plain": [
       "True"
      ]
     },
     "execution_count": 3,
     "metadata": {},
     "output_type": "execute_result"
    }
   ],
   "source": [
    "nltk.download('punkt')\n",
    "nltk.download('stopwords')"
   ]
  },
  {
   "cell_type": "code",
   "execution_count": 4,
   "id": "e6fba8f4",
   "metadata": {
    "execution": {
     "iopub.execute_input": "2023-11-12T05:30:39.979644Z",
     "iopub.status.busy": "2023-11-12T05:30:39.979309Z",
     "iopub.status.idle": "2023-11-12T05:30:41.020788Z",
     "shell.execute_reply": "2023-11-12T05:30:41.019565Z"
    },
    "papermill": {
     "duration": 1.058629,
     "end_time": "2023-11-12T05:30:41.023218",
     "exception": false,
     "start_time": "2023-11-12T05:30:39.964589",
     "status": "completed"
    },
    "tags": []
   },
   "outputs": [
    {
     "name": "stdout",
     "output_type": "stream",
     "text": [
      "PyTorch version: 2.0.0\n",
      "CUDA version: 11.8\n",
      "nvcc: NVIDIA (R) Cuda compiler driver\r\n",
      "Copyright (c) 2005-2022 NVIDIA Corporation\r\n",
      "Built on Wed_Sep_21_10:33:58_PDT_2022\r\n",
      "Cuda compilation tools, release 11.8, V11.8.89\r\n",
      "Build cuda_11.8.r11.8/compiler.31833905_0\r\n"
     ]
    }
   ],
   "source": [
    "print(\"PyTorch version:\", torch.__version__)\n",
    "print(\"CUDA version:\", torch.version.cuda)\n",
    "!nvcc --version"
   ]
  },
  {
   "cell_type": "code",
   "execution_count": 5,
   "id": "5eff7585",
   "metadata": {
    "execution": {
     "iopub.execute_input": "2023-11-12T05:30:41.054353Z",
     "iopub.status.busy": "2023-11-12T05:30:41.054020Z",
     "iopub.status.idle": "2023-11-12T05:30:41.066525Z",
     "shell.execute_reply": "2023-11-12T05:30:41.065764Z"
    },
    "papermill": {
     "duration": 0.030196,
     "end_time": "2023-11-12T05:30:41.068497",
     "exception": false,
     "start_time": "2023-11-12T05:30:41.038301",
     "status": "completed"
    },
    "tags": []
   },
   "outputs": [],
   "source": [
    "seed = 42\n",
    "os.environ['CUDA_LAUNCH_BLOCKING'] = \"1\"\n",
    "# os.environ[\"CUDA_VISIBLE_DEVICES\"] = \"1\" \n",
    "torch.manual_seed(seed)\n",
    "torch.cuda.manual_seed(seed)\n",
    "torch.cuda.manual_seed_all(seed)\n",
    "\n",
    "random.seed(seed)\n",
    "np.random.seed(seed)\n",
    "os.environ['PYTHONHASHSEED'] = str(seed)\n",
    "torch.backends.cudnn.deterministic = True\n",
    "torch.backends.cudnn.benchmark = False"
   ]
  },
  {
   "cell_type": "code",
   "execution_count": 6,
   "id": "8b03685a",
   "metadata": {
    "execution": {
     "iopub.execute_input": "2023-11-12T05:30:41.099163Z",
     "iopub.status.busy": "2023-11-12T05:30:41.098875Z",
     "iopub.status.idle": "2023-11-12T05:30:42.309066Z",
     "shell.execute_reply": "2023-11-12T05:30:42.307832Z"
    },
    "papermill": {
     "duration": 1.228216,
     "end_time": "2023-11-12T05:30:42.311619",
     "exception": false,
     "start_time": "2023-11-12T05:30:41.083403",
     "status": "completed"
    },
    "tags": []
   },
   "outputs": [
    {
     "name": "stdout",
     "output_type": "stream",
     "text": [
      "Device:  cuda:0\n",
      "Sun Nov 12 05:30:42 2023       \r\n",
      "+-----------------------------------------------------------------------------+\r\n",
      "| NVIDIA-SMI 470.161.03   Driver Version: 470.161.03   CUDA Version: 11.4     |\r\n",
      "|-------------------------------+----------------------+----------------------+\r\n",
      "| GPU  Name        Persistence-M| Bus-Id        Disp.A | Volatile Uncorr. ECC |\r\n",
      "| Fan  Temp  Perf  Pwr:Usage/Cap|         Memory-Usage | GPU-Util  Compute M. |\r\n",
      "|                               |                      |               MIG M. |\r\n",
      "|===============================+======================+======================|\r\n",
      "|   0  Tesla T4            Off  | 00000000:00:04.0 Off |                    0 |\r\n",
      "| N/A   36C    P8     9W /  70W |      3MiB / 15109MiB |      0%      Default |\r\n",
      "|                               |                      |                  N/A |\r\n",
      "+-------------------------------+----------------------+----------------------+\r\n",
      "|   1  Tesla T4            Off  | 00000000:00:05.0 Off |                    0 |\r\n",
      "| N/A   38C    P8     9W /  70W |      3MiB / 15109MiB |      0%      Default |\r\n",
      "|                               |                      |                  N/A |\r\n",
      "+-------------------------------+----------------------+----------------------+\r\n",
      "                                                                               \r\n",
      "+-----------------------------------------------------------------------------+\r\n",
      "| Processes:                                                                  |\r\n",
      "|  GPU   GI   CI        PID   Type   Process name                  GPU Memory |\r\n",
      "|        ID   ID                                                   Usage      |\r\n",
      "|=============================================================================|\r\n",
      "|  No running processes found                                                 |\r\n",
      "+-----------------------------------------------------------------------------+\r\n"
     ]
    }
   ],
   "source": [
    "\n",
    "device = torch.device(\"cuda:0\") if torch.cuda.is_available() else 'cpu'\n",
    "# device_s = torch.device(\"cuda:1\") if torch.cuda.is_available() else 'cpu'\n",
    "print(\"Device: \", device)\n",
    "!nvidia-smi"
   ]
  },
  {
   "cell_type": "code",
   "execution_count": 7,
   "id": "bf04ddd9",
   "metadata": {
    "execution": {
     "iopub.execute_input": "2023-11-12T05:30:42.343850Z",
     "iopub.status.busy": "2023-11-12T05:30:42.343465Z",
     "iopub.status.idle": "2023-11-12T05:30:42.349058Z",
     "shell.execute_reply": "2023-11-12T05:30:42.347530Z"
    },
    "papermill": {
     "duration": 0.024744,
     "end_time": "2023-11-12T05:30:42.351807",
     "exception": false,
     "start_time": "2023-11-12T05:30:42.327063",
     "status": "completed"
    },
    "tags": []
   },
   "outputs": [],
   "source": [
    "torch.cuda.empty_cache()\n",
    "# torch.cuda.memory_summary(device=device, abbreviated=False)"
   ]
  },
  {
   "cell_type": "code",
   "execution_count": 8,
   "id": "216659d8",
   "metadata": {
    "execution": {
     "iopub.execute_input": "2023-11-12T05:30:42.383251Z",
     "iopub.status.busy": "2023-11-12T05:30:42.382956Z",
     "iopub.status.idle": "2023-11-12T05:30:42.387385Z",
     "shell.execute_reply": "2023-11-12T05:30:42.386585Z"
    },
    "papermill": {
     "duration": 0.02237,
     "end_time": "2023-11-12T05:30:42.389404",
     "exception": false,
     "start_time": "2023-11-12T05:30:42.367034",
     "status": "completed"
    },
    "tags": []
   },
   "outputs": [],
   "source": [
    "path = '/kaggle/input/data-json/'\n",
    "save_path = \"/kaggle/working/\"\n",
    "checkpoints_path = save_path + 'checkpoints/'"
   ]
  },
  {
   "cell_type": "code",
   "execution_count": 9,
   "id": "57a98d64",
   "metadata": {
    "execution": {
     "iopub.execute_input": "2023-11-12T05:30:42.419995Z",
     "iopub.status.busy": "2023-11-12T05:30:42.419689Z",
     "iopub.status.idle": "2023-11-12T05:31:01.110092Z",
     "shell.execute_reply": "2023-11-12T05:31:01.108935Z"
    },
    "id": "pVV-GOSvlnXZ",
    "outputId": "5fd9e6b7-0717-478a-ed8e-2730bd19277c",
    "papermill": {
     "duration": 18.708296,
     "end_time": "2023-11-12T05:31:01.112766",
     "exception": false,
     "start_time": "2023-11-12T05:30:42.404470",
     "status": "completed"
    },
    "tags": []
   },
   "outputs": [
    {
     "data": {
      "text/html": [
       "<div>\n",
       "<style scoped>\n",
       "    .dataframe tbody tr th:only-of-type {\n",
       "        vertical-align: middle;\n",
       "    }\n",
       "\n",
       "    .dataframe tbody tr th {\n",
       "        vertical-align: top;\n",
       "    }\n",
       "\n",
       "    .dataframe thead th {\n",
       "        text-align: right;\n",
       "    }\n",
       "</style>\n",
       "<table border=\"1\" class=\"dataframe\">\n",
       "  <thead>\n",
       "    <tr style=\"text-align: right;\">\n",
       "      <th></th>\n",
       "      <th>context</th>\n",
       "      <th>claim</th>\n",
       "      <th>verdict</th>\n",
       "      <th>evidence</th>\n",
       "      <th>domain</th>\n",
       "    </tr>\n",
       "  </thead>\n",
       "  <tbody>\n",
       "    <tr>\n",
       "      <th>7125</th>\n",
       "      <td>Phát biểu tại lễ ký kết vào ngày 17/11, Giám đ...</td>\n",
       "      <td>Ngoài việc không giới hạn mức lương, công ty c...</td>\n",
       "      <td>SUPPORTED</td>\n",
       "      <td>Công ty cũng có chế độ đãi ngộ tốt, có lương t...</td>\n",
       "      <td>giao-duc</td>\n",
       "    </tr>\n",
       "    <tr>\n",
       "      <th>7126</th>\n",
       "      <td>Phát biểu tại lễ ký kết vào ngày 17/11, Giám đ...</td>\n",
       "      <td>Thành lập năm 2016, phát triển phần mềm, tổ ch...</td>\n",
       "      <td>SUPPORTED</td>\n",
       "      <td>FABA Technology thành lập năm 2016, chuyên cun...</td>\n",
       "      <td>giao-duc</td>\n",
       "    </tr>\n",
       "    <tr>\n",
       "      <th>7127</th>\n",
       "      <td>Phát biểu tại lễ ký kết vào ngày 17/11, Giám đ...</td>\n",
       "      <td>Nhằm phát triển đội ngũ, FABA thường tổ chức n...</td>\n",
       "      <td>SUPPORTED</td>\n",
       "      <td>Bên cạnh đó, FABA thường xuyên tổ chức những d...</td>\n",
       "      <td>giao-duc</td>\n",
       "    </tr>\n",
       "    <tr>\n",
       "      <th>7128</th>\n",
       "      <td>Đối với các nhà khoa học, trí thức, điều kiện ...</td>\n",
       "      <td>Sở dĩ vị trí kỹ sư phần mềm có mức lương cao n...</td>\n",
       "      <td>SUPPORTED</td>\n",
       "      <td>Theo Adeco Việt Nam, mức lương cao nhất đối vớ...</td>\n",
       "      <td>giao-duc</td>\n",
       "    </tr>\n",
       "    <tr>\n",
       "      <th>7129</th>\n",
       "      <td>Đối với các nhà khoa học, trí thức, điều kiện ...</td>\n",
       "      <td>Theo Adeco Việt Nam, mức lương cao nhất đối vớ...</td>\n",
       "      <td>SUPPORTED</td>\n",
       "      <td>Trong khi đó, theo báo cáo \"Thị trường nhân lự...</td>\n",
       "      <td>giao-duc</td>\n",
       "    </tr>\n",
       "    <tr>\n",
       "      <th>7130</th>\n",
       "      <td>Đối với các nhà khoa học, trí thức, điều kiện ...</td>\n",
       "      <td>Việc ủng hộ phương án vừa làm việc ở nước ngoà...</td>\n",
       "      <td>SUPPORTED</td>\n",
       "      <td>Tiến sĩ Liêm cũng ủng hộ phương án vừa làm việ...</td>\n",
       "      <td>giao-duc</td>\n",
       "    </tr>\n",
       "    <tr>\n",
       "      <th>7131</th>\n",
       "      <td>Thầy Anh kể, từ nhiều năm trước, thông tin về ...</td>\n",
       "      <td>Một học sinh tâm sự với thầy rằng không dám gó...</td>\n",
       "      <td>SUPPORTED</td>\n",
       "      <td>Học sinh này tâm sự rằng các em rất muốn được ...</td>\n",
       "      <td>giao-duc</td>\n",
       "    </tr>\n",
       "    <tr>\n",
       "      <th>7132</th>\n",
       "      <td>Thầy Anh kể, từ nhiều năm trước, thông tin về ...</td>\n",
       "      <td>Khi tiếp nhận, nếu nội dung phản ánh nằm ngoài...</td>\n",
       "      <td>SUPPORTED</td>\n",
       "      <td>Nhận tin báo, thầy Anh chuyển nội dung tới côn...</td>\n",
       "      <td>giao-duc</td>\n",
       "    </tr>\n",
       "    <tr>\n",
       "      <th>7133</th>\n",
       "      <td>Thầy Anh kể, từ nhiều năm trước, thông tin về ...</td>\n",
       "      <td>Ví dụ, năm 2020 một học sinh tại THCS Quỳnh Ph...</td>\n",
       "      <td>SUPPORTED</td>\n",
       "      <td>Hơn hai năm công bố số điện thoại, vị hiệu trư...</td>\n",
       "      <td>giao-duc</td>\n",
       "    </tr>\n",
       "    <tr>\n",
       "      <th>7134</th>\n",
       "      <td>PGS.TS Nguyễn Quang Liệu, hiệu trưởng trường T...</td>\n",
       "      <td>Điểm xét tuyển là tổng điểm các môn thi theo t...</td>\n",
       "      <td>SUPPORTED</td>\n",
       "      <td>Trường không cộng điểm ưu tiên trong tuyển sin...</td>\n",
       "      <td>giao-duc</td>\n",
       "    </tr>\n",
       "  </tbody>\n",
       "</table>\n",
       "</div>"
      ],
      "text/plain": [
       "                                                context  \\\n",
       "7125  Phát biểu tại lễ ký kết vào ngày 17/11, Giám đ...   \n",
       "7126  Phát biểu tại lễ ký kết vào ngày 17/11, Giám đ...   \n",
       "7127  Phát biểu tại lễ ký kết vào ngày 17/11, Giám đ...   \n",
       "7128  Đối với các nhà khoa học, trí thức, điều kiện ...   \n",
       "7129  Đối với các nhà khoa học, trí thức, điều kiện ...   \n",
       "7130  Đối với các nhà khoa học, trí thức, điều kiện ...   \n",
       "7131  Thầy Anh kể, từ nhiều năm trước, thông tin về ...   \n",
       "7132  Thầy Anh kể, từ nhiều năm trước, thông tin về ...   \n",
       "7133  Thầy Anh kể, từ nhiều năm trước, thông tin về ...   \n",
       "7134  PGS.TS Nguyễn Quang Liệu, hiệu trưởng trường T...   \n",
       "\n",
       "                                                  claim    verdict  \\\n",
       "7125  Ngoài việc không giới hạn mức lương, công ty c...  SUPPORTED   \n",
       "7126  Thành lập năm 2016, phát triển phần mềm, tổ ch...  SUPPORTED   \n",
       "7127  Nhằm phát triển đội ngũ, FABA thường tổ chức n...  SUPPORTED   \n",
       "7128  Sở dĩ vị trí kỹ sư phần mềm có mức lương cao n...  SUPPORTED   \n",
       "7129  Theo Adeco Việt Nam, mức lương cao nhất đối vớ...  SUPPORTED   \n",
       "7130  Việc ủng hộ phương án vừa làm việc ở nước ngoà...  SUPPORTED   \n",
       "7131  Một học sinh tâm sự với thầy rằng không dám gó...  SUPPORTED   \n",
       "7132  Khi tiếp nhận, nếu nội dung phản ánh nằm ngoài...  SUPPORTED   \n",
       "7133  Ví dụ, năm 2020 một học sinh tại THCS Quỳnh Ph...  SUPPORTED   \n",
       "7134  Điểm xét tuyển là tổng điểm các môn thi theo t...  SUPPORTED   \n",
       "\n",
       "                                               evidence    domain  \n",
       "7125  Công ty cũng có chế độ đãi ngộ tốt, có lương t...  giao-duc  \n",
       "7126  FABA Technology thành lập năm 2016, chuyên cun...  giao-duc  \n",
       "7127  Bên cạnh đó, FABA thường xuyên tổ chức những d...  giao-duc  \n",
       "7128  Theo Adeco Việt Nam, mức lương cao nhất đối vớ...  giao-duc  \n",
       "7129  Trong khi đó, theo báo cáo \"Thị trường nhân lự...  giao-duc  \n",
       "7130  Tiến sĩ Liêm cũng ủng hộ phương án vừa làm việ...  giao-duc  \n",
       "7131  Học sinh này tâm sự rằng các em rất muốn được ...  giao-duc  \n",
       "7132  Nhận tin báo, thầy Anh chuyển nội dung tới côn...  giao-duc  \n",
       "7133  Hơn hai năm công bố số điện thoại, vị hiệu trư...  giao-duc  \n",
       "7134  Trường không cộng điểm ưu tiên trong tuyển sin...  giao-duc  "
      ]
     },
     "execution_count": 9,
     "metadata": {},
     "output_type": "execute_result"
    }
   ],
   "source": [
    "df = pd.read_json(path+\"ise-dsc01-train.json\")\n",
    "df = df.transpose()\n",
    "df.head(10)\n"
   ]
  },
  {
   "cell_type": "code",
   "execution_count": 10,
   "id": "cb10263d",
   "metadata": {
    "execution": {
     "iopub.execute_input": "2023-11-12T05:31:01.191512Z",
     "iopub.status.busy": "2023-11-12T05:31:01.190611Z",
     "iopub.status.idle": "2023-11-12T05:31:03.840354Z",
     "shell.execute_reply": "2023-11-12T05:31:03.839391Z"
    },
    "id": "L9VTivWgtUZ7",
    "outputId": "3df4bdcb-c6dc-4af1-8332-0ac724fea4b5",
    "papermill": {
     "duration": 2.714528,
     "end_time": "2023-11-12T05:31:03.842838",
     "exception": false,
     "start_time": "2023-11-12T05:31:01.128310",
     "status": "completed"
    },
    "tags": []
   },
   "outputs": [
    {
     "data": {
      "text/html": [
       "<div>\n",
       "<style scoped>\n",
       "    .dataframe tbody tr th:only-of-type {\n",
       "        vertical-align: middle;\n",
       "    }\n",
       "\n",
       "    .dataframe tbody tr th {\n",
       "        vertical-align: top;\n",
       "    }\n",
       "\n",
       "    .dataframe thead th {\n",
       "        text-align: right;\n",
       "    }\n",
       "</style>\n",
       "<table border=\"1\" class=\"dataframe\">\n",
       "  <thead>\n",
       "    <tr style=\"text-align: right;\">\n",
       "      <th></th>\n",
       "      <th>context</th>\n",
       "      <th>claim</th>\n",
       "    </tr>\n",
       "  </thead>\n",
       "  <tbody>\n",
       "    <tr>\n",
       "      <th>39773</th>\n",
       "      <td>Sáng 7/6, bà Nguyễn Thị Lệ Thanh, Giám đốc Sở ...</td>\n",
       "      <td>Xuyên suốt thời gian diễn ra Festival biển Nha...</td>\n",
       "    </tr>\n",
       "    <tr>\n",
       "      <th>37657</th>\n",
       "      <td>Còn với Công nghệ dệt may, em không biết may h...</td>\n",
       "      <td>Một số người khuyên Nhi Pham theo Công nghệ th...</td>\n",
       "    </tr>\n",
       "    <tr>\n",
       "      <th>40265</th>\n",
       "      <td>Nhà nghiên cứu Guangming Tao ở Đại học Khoa họ...</td>\n",
       "      <td>Nhiệt độ da bên dưới lớp cotton cao làm người ...</td>\n",
       "    </tr>\n",
       "    <tr>\n",
       "      <th>47711</th>\n",
       "      <td>Trong không gian của du thuyền 5 sao, Shynh Ho...</td>\n",
       "      <td>Nhãn hàng sẽ cùng 6 đối tác đề ra những chiến ...</td>\n",
       "    </tr>\n",
       "    <tr>\n",
       "      <th>39930</th>\n",
       "      <td>Pin sinh học là giải pháp mới để cung cấp năng...</td>\n",
       "      <td>Bụi thông minh chỉ cần 5 tế bào vi khuẩn cũng ...</td>\n",
       "    </tr>\n",
       "    <tr>\n",
       "      <th>37208</th>\n",
       "      <td>Thạc sĩ, bác sĩ Lê Thị Hồng Thắm, khoa Hô hấp ...</td>\n",
       "      <td>Người mắc bệnh tim mạch, thắt cơ tim, dãn tim,...</td>\n",
       "    </tr>\n",
       "    <tr>\n",
       "      <th>38194</th>\n",
       "      <td>Liên kết Dữ liệu An toàn Vaccine thuộc CDC Mỹ ...</td>\n",
       "      <td>CDC chỉ khuyến nghị trẻ em mắc Covid-19 vẫn  p...</td>\n",
       "    </tr>\n",
       "    <tr>\n",
       "      <th>42930</th>\n",
       "      <td>Sự kiện cũng là không gian để chủ doanh nghiệp...</td>\n",
       "      <td>Bên cạnh đó, HIU cũng công bố chương trình \"Họ...</td>\n",
       "    </tr>\n",
       "    <tr>\n",
       "      <th>40100</th>\n",
       "      <td>Hãy tưởng tượng thời tiết mùa hè ở bang Louisi...</td>\n",
       "      <td>Mỗi thành viên trong đội tuần tra xoáy nước ấm...</td>\n",
       "    </tr>\n",
       "    <tr>\n",
       "      <th>44099</th>\n",
       "      <td>Theo ông Duy, mức thu 60 triệu đồng mỗi tháng ...</td>\n",
       "      <td>Cảng hoàn thành năm 2015</td>\n",
       "    </tr>\n",
       "  </tbody>\n",
       "</table>\n",
       "</div>"
      ],
      "text/plain": [
       "                                                 context  \\\n",
       "39773  Sáng 7/6, bà Nguyễn Thị Lệ Thanh, Giám đốc Sở ...   \n",
       "37657  Còn với Công nghệ dệt may, em không biết may h...   \n",
       "40265  Nhà nghiên cứu Guangming Tao ở Đại học Khoa họ...   \n",
       "47711  Trong không gian của du thuyền 5 sao, Shynh Ho...   \n",
       "39930  Pin sinh học là giải pháp mới để cung cấp năng...   \n",
       "37208  Thạc sĩ, bác sĩ Lê Thị Hồng Thắm, khoa Hô hấp ...   \n",
       "38194  Liên kết Dữ liệu An toàn Vaccine thuộc CDC Mỹ ...   \n",
       "42930  Sự kiện cũng là không gian để chủ doanh nghiệp...   \n",
       "40100  Hãy tưởng tượng thời tiết mùa hè ở bang Louisi...   \n",
       "44099  Theo ông Duy, mức thu 60 triệu đồng mỗi tháng ...   \n",
       "\n",
       "                                                   claim  \n",
       "39773  Xuyên suốt thời gian diễn ra Festival biển Nha...  \n",
       "37657  Một số người khuyên Nhi Pham theo Công nghệ th...  \n",
       "40265  Nhiệt độ da bên dưới lớp cotton cao làm người ...  \n",
       "47711  Nhãn hàng sẽ cùng 6 đối tác đề ra những chiến ...  \n",
       "39930  Bụi thông minh chỉ cần 5 tế bào vi khuẩn cũng ...  \n",
       "37208  Người mắc bệnh tim mạch, thắt cơ tim, dãn tim,...  \n",
       "38194  CDC chỉ khuyến nghị trẻ em mắc Covid-19 vẫn  p...  \n",
       "42930  Bên cạnh đó, HIU cũng công bố chương trình \"Họ...  \n",
       "40100  Mỗi thành viên trong đội tuần tra xoáy nước ấm...  \n",
       "44099                           Cảng hoàn thành năm 2015  "
      ]
     },
     "execution_count": 10,
     "metadata": {},
     "output_type": "execute_result"
    }
   ],
   "source": [
    "test_df = pd.read_json(path+\"ise-dsc01-private-test-offcial.json\")\n",
    "test_df = test_df.transpose()\n",
    "\n",
    "test_df.head(10)"
   ]
  },
  {
   "cell_type": "code",
   "execution_count": 11,
   "id": "6a2713a7",
   "metadata": {
    "execution": {
     "iopub.execute_input": "2023-11-12T05:31:03.875961Z",
     "iopub.status.busy": "2023-11-12T05:31:03.875427Z",
     "iopub.status.idle": "2023-11-12T05:31:03.882713Z",
     "shell.execute_reply": "2023-11-12T05:31:03.881817Z"
    },
    "id": "M1XBVlQlYE1_",
    "papermill": {
     "duration": 0.025113,
     "end_time": "2023-11-12T05:31:03.884713",
     "exception": false,
     "start_time": "2023-11-12T05:31:03.859600",
     "status": "completed"
    },
    "tags": []
   },
   "outputs": [],
   "source": [
    "def clean_text(example):\n",
    "    text = example\n",
    "    text = re.sub(r'[^\\w\\s]', '', text)\n",
    "    text = re.sub(r'[ \\n]', ' ', text)\n",
    "    text = re.sub(r' +', ' ', text).strip()\n",
    "    text = text.lower()\n",
    "    return text\n",
    "\n",
    "def remove_stopwords(text):\n",
    "    stop_words = stopwords([\"vi\"])\n",
    "    stop_words_pattern = r'\\b(?:{})\\b'.format('|'.join(stop_words))\n",
    "    text = re.sub(stop_words_pattern, '', text)\n",
    "    text = re.sub(r'\\s+', ' ', text).strip()\n",
    "    return text\n",
    "\n",
    "def preprocess_text(example):\n",
    "    # Convert to lowercase\n",
    "    text = clean_text(example)\n",
    "    \n",
    "    preprocessed_text = remove_stopwords(text)\n",
    "    \n",
    "    return preprocessed_text"
   ]
  },
  {
   "cell_type": "code",
   "execution_count": 12,
   "id": "8753cf44",
   "metadata": {
    "execution": {
     "iopub.execute_input": "2023-11-12T05:31:03.915298Z",
     "iopub.status.busy": "2023-11-12T05:31:03.915045Z",
     "iopub.status.idle": "2023-11-12T05:31:03.929624Z",
     "shell.execute_reply": "2023-11-12T05:31:03.928624Z"
    },
    "id": "Oi39uNt42MPk",
    "outputId": "522ed56a-402b-4965-f9fc-03df9064c47e",
    "papermill": {
     "duration": 0.032181,
     "end_time": "2023-11-12T05:31:03.931683",
     "exception": false,
     "start_time": "2023-11-12T05:31:03.899502",
     "status": "completed"
    },
    "tags": []
   },
   "outputs": [
    {
     "name": "stdout",
     "output_type": "stream",
     "text": [
      "1\n",
      "3\n"
     ]
    }
   ],
   "source": [
    "verdicts = df['verdict'].unique().tolist()\n",
    "num_labels = len(verdicts)\n",
    "def to_category_vector(label):\n",
    "  return verdicts.index(label)\n",
    "\n",
    "# Show example\n",
    "print(to_category_vector(\"NEI\"))\n",
    "print(num_labels)"
   ]
  },
  {
   "cell_type": "code",
   "execution_count": 13,
   "id": "e1d81467",
   "metadata": {
    "execution": {
     "iopub.execute_input": "2023-11-12T05:31:03.961667Z",
     "iopub.status.busy": "2023-11-12T05:31:03.961360Z",
     "iopub.status.idle": "2023-11-12T05:31:03.968654Z",
     "shell.execute_reply": "2023-11-12T05:31:03.967691Z"
    },
    "id": "5IwIs4iuzXx7",
    "outputId": "5b8d92d5-a7bf-40d0-b994-6159631161ac",
    "papermill": {
     "duration": 0.024498,
     "end_time": "2023-11-12T05:31:03.970579",
     "exception": false,
     "start_time": "2023-11-12T05:31:03.946081",
     "status": "completed"
    },
    "tags": []
   },
   "outputs": [
    {
     "data": {
      "text/plain": [
       "7125    Công ty cũng có chế độ đãi ngộ tốt, có lương t...\n",
       "7126    FABA Technology thành lập năm 2016, chuyên cun...\n",
       "7127    Bên cạnh đó, FABA thường xuyên tổ chức những d...\n",
       "7128    Theo Adeco Việt Nam, mức lương cao nhất đối vớ...\n",
       "7129    Trong khi đó, theo báo cáo \"Thị trường nhân lự...\n",
       "7130    Tiến sĩ Liêm cũng ủng hộ phương án vừa làm việ...\n",
       "7131    Học sinh này tâm sự rằng các em rất muốn được ...\n",
       "7132    Nhận tin báo, thầy Anh chuyển nội dung tới côn...\n",
       "7133    Hơn hai năm công bố số điện thoại, vị hiệu trư...\n",
       "7134    Trường không cộng điểm ưu tiên trong tuyển sin...\n",
       "7135    Điểm xét tuyển vào lớp này là tổng ba môn chun...\n",
       "7136    Điểm xét tuyển vào lớp này là tổng ba môn chun...\n",
       "7137    Thí sinh chỉ trúng tuyển một nguyện vọng cao n...\n",
       "7138    Các ngành thuộc khối sức khỏe có mức điểm chuẩ...\n",
       "7139    Các ngành thuộc khối sức khỏe có mức điểm chuẩ...\n",
       "7140     Chỉ tiêu, tổ hợp xét tuyển từng ngành như sau...\n",
       "7141    Năm ngoái, điểm chuẩn Học viện Ngân hàng theo ...\n",
       "7142    TS Trần Mạnh Hà, Trưởng phòng Đào tạo, hôm 28/...\n",
       "7143    Các dạng thức khác gồm vu khống (16,1%), theo ...\n",
       "7144    Lee cũng cho rằng nhiều học sinh đã mất niềm t...\n",
       "Name: evidence, dtype: object"
      ]
     },
     "execution_count": 13,
     "metadata": {},
     "output_type": "execute_result"
    }
   ],
   "source": [
    "df['evidence'].head(20)"
   ]
  },
  {
   "cell_type": "code",
   "execution_count": 14,
   "id": "b86a38bc",
   "metadata": {
    "execution": {
     "iopub.execute_input": "2023-11-12T05:31:04.002094Z",
     "iopub.status.busy": "2023-11-12T05:31:04.001785Z",
     "iopub.status.idle": "2023-11-12T05:31:04.015865Z",
     "shell.execute_reply": "2023-11-12T05:31:04.014947Z"
    },
    "id": "JVU01ZumycPW",
    "papermill": {
     "duration": 0.032605,
     "end_time": "2023-11-12T05:31:04.018238",
     "exception": false,
     "start_time": "2023-11-12T05:31:03.985633",
     "status": "completed"
    },
    "tags": []
   },
   "outputs": [],
   "source": [
    "df['evidence'] = df['evidence'].fillna('Không có chứng cứ')"
   ]
  },
  {
   "cell_type": "code",
   "execution_count": 15,
   "id": "75382905",
   "metadata": {
    "execution": {
     "iopub.execute_input": "2023-11-12T05:31:04.051013Z",
     "iopub.status.busy": "2023-11-12T05:31:04.050728Z",
     "iopub.status.idle": "2023-11-12T05:31:04.097604Z",
     "shell.execute_reply": "2023-11-12T05:31:04.096605Z"
    },
    "id": "9XrlRqAsyDU1",
    "outputId": "377f8490-341d-4063-ec4f-7136731864af",
    "papermill": {
     "duration": 0.065814,
     "end_time": "2023-11-12T05:31:04.099646",
     "exception": false,
     "start_time": "2023-11-12T05:31:04.033832",
     "status": "completed"
    },
    "tags": []
   },
   "outputs": [
    {
     "name": "stdout",
     "output_type": "stream",
     "text": [
      "<class 'pandas.core.frame.DataFrame'>\n",
      "Index: 37967 entries, 7125 to 35081\n",
      "Data columns (total 5 columns):\n",
      " #   Column    Non-Null Count  Dtype \n",
      "---  ------    --------------  ----- \n",
      " 0   context   37967 non-null  object\n",
      " 1   claim     37967 non-null  object\n",
      " 2   verdict   37967 non-null  object\n",
      " 3   evidence  37967 non-null  object\n",
      " 4   domain    37967 non-null  object\n",
      "dtypes: object(5)\n",
      "memory usage: 2.7+ MB\n"
     ]
    }
   ],
   "source": [
    "df.info()"
   ]
  },
  {
   "cell_type": "code",
   "execution_count": 16,
   "id": "b2467fc4",
   "metadata": {
    "execution": {
     "iopub.execute_input": "2023-11-12T05:31:04.133188Z",
     "iopub.status.busy": "2023-11-12T05:31:04.132887Z",
     "iopub.status.idle": "2023-11-12T05:35:15.146486Z",
     "shell.execute_reply": "2023-11-12T05:35:15.145617Z"
    },
    "id": "u4hj2zoVOBME",
    "papermill": {
     "duration": 251.032984,
     "end_time": "2023-11-12T05:35:15.148958",
     "exception": false,
     "start_time": "2023-11-12T05:31:04.115974",
     "status": "completed"
    },
    "tags": []
   },
   "outputs": [],
   "source": [
    "\n",
    "# ctxDF = df['context'].apply(text_to_sentences)\n",
    "# claimDF = df['claim'].apply(text_to_sentences)\n",
    "ctxDF = df['context'].apply(preprocess_text)\n",
    "claimDF = df['claim'].apply(preprocess_text)\n",
    "evidenceDF = df['evidence'].apply(preprocess_text)\n",
    "\n",
    "testCtxDF = test_df['context'].apply(preprocess_text)\n",
    "testClaimDF = test_df['claim'].apply(preprocess_text)"
   ]
  },
  {
   "cell_type": "code",
   "execution_count": 17,
   "id": "cb41c381",
   "metadata": {
    "execution": {
     "iopub.execute_input": "2023-11-12T05:35:15.180783Z",
     "iopub.status.busy": "2023-11-12T05:35:15.180455Z",
     "iopub.status.idle": "2023-11-12T05:35:15.186177Z",
     "shell.execute_reply": "2023-11-12T05:35:15.185415Z"
    },
    "papermill": {
     "duration": 0.023663,
     "end_time": "2023-11-12T05:35:15.188157",
     "exception": false,
     "start_time": "2023-11-12T05:35:15.164494",
     "status": "completed"
    },
    "tags": []
   },
   "outputs": [],
   "source": [
    "df['evidence'] = evidenceDF"
   ]
  },
  {
   "cell_type": "code",
   "execution_count": 18,
   "id": "a1fc7af9",
   "metadata": {
    "execution": {
     "iopub.execute_input": "2023-11-12T05:35:15.219481Z",
     "iopub.status.busy": "2023-11-12T05:35:15.219179Z",
     "iopub.status.idle": "2023-11-12T05:35:15.506398Z",
     "shell.execute_reply": "2023-11-12T05:35:15.505607Z"
    },
    "papermill": {
     "duration": 0.30585,
     "end_time": "2023-11-12T05:35:15.508810",
     "exception": false,
     "start_time": "2023-11-12T05:35:15.202960",
     "status": "completed"
    },
    "tags": []
   },
   "outputs": [],
   "source": [
    "# Nối context và claim trong cột mới\n",
    "df['context_claim'] = \"Context: \" + ctxDF + \" [SEP] Claim: \" + claimDF"
   ]
  },
  {
   "cell_type": "code",
   "execution_count": 19,
   "id": "10e3b403",
   "metadata": {
    "execution": {
     "iopub.execute_input": "2023-11-12T05:35:15.541544Z",
     "iopub.status.busy": "2023-11-12T05:35:15.541248Z",
     "iopub.status.idle": "2023-11-12T05:35:15.564145Z",
     "shell.execute_reply": "2023-11-12T05:35:15.563404Z"
    },
    "papermill": {
     "duration": 0.041934,
     "end_time": "2023-11-12T05:35:15.566210",
     "exception": false,
     "start_time": "2023-11-12T05:35:15.524276",
     "status": "completed"
    },
    "tags": []
   },
   "outputs": [],
   "source": [
    "test_df['context_claim'] = \"Context: \" + testCtxDF + \" [SEP] Claim: \" + testClaimDF"
   ]
  },
  {
   "cell_type": "code",
   "execution_count": 20,
   "id": "0da018ed",
   "metadata": {
    "execution": {
     "iopub.execute_input": "2023-11-12T05:35:15.599437Z",
     "iopub.status.busy": "2023-11-12T05:35:15.599136Z",
     "iopub.status.idle": "2023-11-12T05:35:15.604205Z",
     "shell.execute_reply": "2023-11-12T05:35:15.603297Z"
    },
    "papermill": {
     "duration": 0.023908,
     "end_time": "2023-11-12T05:35:15.606434",
     "exception": false,
     "start_time": "2023-11-12T05:35:15.582526",
     "status": "completed"
    },
    "tags": []
   },
   "outputs": [
    {
     "name": "stdout",
     "output_type": "stream",
     "text": [
      "Context: mức thu 60 triệu đồng bao gồm kho khu vực mặt tiền cảng biển dài 70 m công ty hợp tác đơn vị nâng cấp hướng cảng biển du lịch dân sinh phân lô tiểu thương thuê phản ứng dân đơn vị tạm dừng thu phí tổ chức đối thoại tiểu thương sở hài hoà lợi ích bên lãnh đạo đơn vị chờ cục hàng hải tổ chức đấu giá tìm thầu ba khu vực dân buôn bán đóng phí công ty trúng thầu sách ưu đãi tránh gây sốc dân tài trợ phí neo đậu 700 nghìn đồng 2 triệu đồng trợ giá vé tham quan 3000 đồng giá vé 35000 đồng hỗ trợ chuyến tham quan học tập biểu giá công ty ban hành cano 30 chỗ đóng phí cập bến 100300 nghìn đồng 25 triệu đồng thuê tàu 30 chỗ 300600 nghìn đồng 610 triệu nước dùng rửa tàu sinh hoạt công ty cấp giá 60000 đồng m3 tối thiểu 2 m3 cấp bến cảng 120000 đồng m3 bến phao tối thiểu 15 m3 chủ cano mức phí an thới cảng biển phú quốc nước đầu tư kinh phí 120 tỷ đồng thêm gần 160 tỷ đồng hoàn thiện hạ tầng cảng hoàn thành 2012 công suất thiết kế 280000 hàng hóa 440000 khách cảng phú quốc thể tiếp tàu biển tải trọng 3000 dwt khu bến chuyển tải bến phao tàu 30000 dwt 4 công ty tnhh cảng quốc tế namas an thới trúng thầu khai thác cảng giá 952 tỷ đồng khai thác gần 50 ngọc tài [SEP] Claim: cảng hoàn thành 2015\n"
     ]
    }
   ],
   "source": [
    "\n",
    "print(test_df.at[44099, 'context_claim'])"
   ]
  },
  {
   "cell_type": "code",
   "execution_count": 21,
   "id": "c0e156a3",
   "metadata": {
    "execution": {
     "iopub.execute_input": "2023-11-12T05:35:15.638509Z",
     "iopub.status.busy": "2023-11-12T05:35:15.638234Z",
     "iopub.status.idle": "2023-11-12T05:35:15.642771Z",
     "shell.execute_reply": "2023-11-12T05:35:15.641727Z"
    },
    "papermill": {
     "duration": 0.022777,
     "end_time": "2023-11-12T05:35:15.644708",
     "exception": false,
     "start_time": "2023-11-12T05:35:15.621931",
     "status": "completed"
    },
    "tags": []
   },
   "outputs": [
    {
     "name": "stdout",
     "output_type": "stream",
     "text": [
      "Context: phát biểu lễ ký kết 1711 giám đốc hành kiêm đồng sáng lập faba technology nguyễn thành hưng định bối cảnh bình hiện mô hình đào tạo 100 online funix cách thể giải toán khan hiếm nhân lực ngành công nghệ thông tin chia sẻ trở thành đối tác đào tạo tuyển dụng funix giúp faba technology đạt mục tiêu trở thành công ty offshore development chất lượng khu vực hợp tác faba kỳ vọng ứng viên chất lượng vị trí công tìm kiếm automation tester uiux designer web developer mobile developer cấp độ tin tưởng chất lượng đào tạo funix nhấn mạnh thu hút giữ chân nhân tài thị trường nhân it khốc liệt faba giới hạn mức lương cập nhật dải lương đạt mức cạnh tranh tốt thị trường công ty chế độ đãi ngộ tốt lương 13 14 phụ cấp bên cạnh faba xuyên tổ chức dự án đào tạo kỹ năng nghề nghiệp kỹ năng mềm trọng xây dựng văn hoá doanh nghiệp thúc đẩy phát triển đội ngũ faba technology thành lập 2016 chuyên cung cấp dịch vụ phát triển phần mềm offshore khách hàng toàn cầu mỹ australia singapore châu âu havas tập đoàn quảng cáo truyền thông giới vân nguyễn [SEP] Claim: giới hạn mức lương công ty đãi ngộ tốt phụ cấp lương 1314\n"
     ]
    }
   ],
   "source": [
    "\n",
    "print(df.at[7125, 'context_claim'])"
   ]
  },
  {
   "cell_type": "code",
   "execution_count": 22,
   "id": "0d7e012b",
   "metadata": {
    "execution": {
     "iopub.execute_input": "2023-11-12T05:35:15.677969Z",
     "iopub.status.busy": "2023-11-12T05:35:15.677670Z",
     "iopub.status.idle": "2023-11-12T05:35:15.715248Z",
     "shell.execute_reply": "2023-11-12T05:35:15.714384Z"
    },
    "id": "Evixq8Ty2b2Z",
    "outputId": "5f425d03-27c3-4abf-bdbc-4d5e2f04c0e1",
    "papermill": {
     "duration": 0.056525,
     "end_time": "2023-11-12T05:35:15.717252",
     "exception": false,
     "start_time": "2023-11-12T05:35:15.660727",
     "status": "completed"
    },
    "tags": []
   },
   "outputs": [
    {
     "data": {
      "text/plain": [
       "7125     0\n",
       "7126     0\n",
       "7127     0\n",
       "7128     0\n",
       "7129     0\n",
       "        ..\n",
       "35077    2\n",
       "35078    2\n",
       "35079    2\n",
       "35080    2\n",
       "35081    2\n",
       "Name: verdict, Length: 37967, dtype: int64"
      ]
     },
     "execution_count": 22,
     "metadata": {},
     "output_type": "execute_result"
    }
   ],
   "source": [
    "verDF = df['verdict'].apply(to_category_vector)\n",
    "verDF"
   ]
  },
  {
   "cell_type": "code",
   "execution_count": 23,
   "id": "c8aa2690",
   "metadata": {
    "execution": {
     "iopub.execute_input": "2023-11-12T05:35:15.751835Z",
     "iopub.status.busy": "2023-11-12T05:35:15.751516Z",
     "iopub.status.idle": "2023-11-12T05:35:15.756508Z",
     "shell.execute_reply": "2023-11-12T05:35:15.755712Z"
    },
    "papermill": {
     "duration": 0.024379,
     "end_time": "2023-11-12T05:35:15.758664",
     "exception": false,
     "start_time": "2023-11-12T05:35:15.734285",
     "status": "completed"
    },
    "scrolled": true,
    "tags": []
   },
   "outputs": [],
   "source": [
    "df['verdict'] = verDF\n"
   ]
  },
  {
   "cell_type": "code",
   "execution_count": 24,
   "id": "7517817b",
   "metadata": {
    "execution": {
     "iopub.execute_input": "2023-11-12T05:35:15.794268Z",
     "iopub.status.busy": "2023-11-12T05:35:15.793929Z",
     "iopub.status.idle": "2023-11-12T05:35:15.810150Z",
     "shell.execute_reply": "2023-11-12T05:35:15.809069Z"
    },
    "papermill": {
     "duration": 0.03622,
     "end_time": "2023-11-12T05:35:15.812371",
     "exception": false,
     "start_time": "2023-11-12T05:35:15.776151",
     "status": "completed"
    },
    "tags": []
   },
   "outputs": [
    {
     "data": {
      "text/html": [
       "<div>\n",
       "<style scoped>\n",
       "    .dataframe tbody tr th:only-of-type {\n",
       "        vertical-align: middle;\n",
       "    }\n",
       "\n",
       "    .dataframe tbody tr th {\n",
       "        vertical-align: top;\n",
       "    }\n",
       "\n",
       "    .dataframe thead th {\n",
       "        text-align: right;\n",
       "    }\n",
       "</style>\n",
       "<table border=\"1\" class=\"dataframe\">\n",
       "  <thead>\n",
       "    <tr style=\"text-align: right;\">\n",
       "      <th></th>\n",
       "      <th>context</th>\n",
       "      <th>claim</th>\n",
       "      <th>verdict</th>\n",
       "      <th>evidence</th>\n",
       "      <th>domain</th>\n",
       "      <th>context_claim</th>\n",
       "    </tr>\n",
       "  </thead>\n",
       "  <tbody>\n",
       "    <tr>\n",
       "      <th>7125</th>\n",
       "      <td>Phát biểu tại lễ ký kết vào ngày 17/11, Giám đ...</td>\n",
       "      <td>Ngoài việc không giới hạn mức lương, công ty c...</td>\n",
       "      <td>0</td>\n",
       "      <td>công ty chế độ đãi ngộ tốt lương 13 14 phụ cấp</td>\n",
       "      <td>giao-duc</td>\n",
       "      <td>Context: phát biểu lễ ký kết 1711 giám đốc hàn...</td>\n",
       "    </tr>\n",
       "    <tr>\n",
       "      <th>7126</th>\n",
       "      <td>Phát biểu tại lễ ký kết vào ngày 17/11, Giám đ...</td>\n",
       "      <td>Thành lập năm 2016, phát triển phần mềm, tổ ch...</td>\n",
       "      <td>0</td>\n",
       "      <td>faba technology thành lập 2016 chuyên cung cấp...</td>\n",
       "      <td>giao-duc</td>\n",
       "      <td>Context: phát biểu lễ ký kết 1711 giám đốc hàn...</td>\n",
       "    </tr>\n",
       "    <tr>\n",
       "      <th>7127</th>\n",
       "      <td>Phát biểu tại lễ ký kết vào ngày 17/11, Giám đ...</td>\n",
       "      <td>Nhằm phát triển đội ngũ, FABA thường tổ chức n...</td>\n",
       "      <td>0</td>\n",
       "      <td>bên cạnh faba xuyên tổ chức dự án đào tạo kỹ n...</td>\n",
       "      <td>giao-duc</td>\n",
       "      <td>Context: phát biểu lễ ký kết 1711 giám đốc hàn...</td>\n",
       "    </tr>\n",
       "    <tr>\n",
       "      <th>7128</th>\n",
       "      <td>Đối với các nhà khoa học, trí thức, điều kiện ...</td>\n",
       "      <td>Sở dĩ vị trí kỹ sư phần mềm có mức lương cao n...</td>\n",
       "      <td>0</td>\n",
       "      <td>adeco việt nam mức lương đối vị trí kỹ sư phần...</td>\n",
       "      <td>giao-duc</td>\n",
       "      <td>Context: đối khoa học trí thức kiện sở vật chấ...</td>\n",
       "    </tr>\n",
       "    <tr>\n",
       "      <th>7129</th>\n",
       "      <td>Đối với các nhà khoa học, trí thức, điều kiện ...</td>\n",
       "      <td>Theo Adeco Việt Nam, mức lương cao nhất đối vớ...</td>\n",
       "      <td>0</td>\n",
       "      <td>báo cáo thị trường nhân lực ngành công nghệ th...</td>\n",
       "      <td>giao-duc</td>\n",
       "      <td>Context: đối khoa học trí thức kiện sở vật chấ...</td>\n",
       "    </tr>\n",
       "    <tr>\n",
       "      <th>...</th>\n",
       "      <td>...</td>\n",
       "      <td>...</td>\n",
       "      <td>...</td>\n",
       "      <td>...</td>\n",
       "      <td>...</td>\n",
       "      <td>...</td>\n",
       "    </tr>\n",
       "    <tr>\n",
       "      <th>35077</th>\n",
       "      <td>\"Tôi cảm nhận mình đang sống, đang tự do\", Bia...</td>\n",
       "      <td>Thái Lan không dự kiến đón ít nhất 5 triệu khá...</td>\n",
       "      <td>2</td>\n",
       "      <td>thái lan dự kiến đón ít 5 triệu khách trung qu...</td>\n",
       "      <td>the-gioi</td>\n",
       "      <td>Context: cảm sống tự bian hào hứng giấc mơ tru...</td>\n",
       "    </tr>\n",
       "    <tr>\n",
       "      <th>35078</th>\n",
       "      <td>\"Tôi cảm nhận mình đang sống, đang tự do\", Bia...</td>\n",
       "      <td>Trước đại dịch, người Trung Quốc chiếm gần 1/2...</td>\n",
       "      <td>2</td>\n",
       "      <td>đại dịch trung quốc chiếm gần 13 tổng 40 triệu...</td>\n",
       "      <td>the-gioi</td>\n",
       "      <td>Context: cảm sống tự bian hào hứng giấc mơ tru...</td>\n",
       "    </tr>\n",
       "    <tr>\n",
       "      <th>35079</th>\n",
       "      <td>\"Tôi cảm nhận mình đang sống, đang tự do\", Bia...</td>\n",
       "      <td>Zhu nói rằng Số tiền 290.000 USD không thể mua...</td>\n",
       "      <td>2</td>\n",
       "      <td>tiền thể mua hộ nhỏ vị trí đẹp thành phố trung...</td>\n",
       "      <td>the-gioi</td>\n",
       "      <td>Context: cảm sống tự bian hào hứng giấc mơ tru...</td>\n",
       "    </tr>\n",
       "    <tr>\n",
       "      <th>35080</th>\n",
       "      <td>\"Tôi không có đầu óc đầu tư chứng khoán và đan...</td>\n",
       "      <td>Tiền tiết kiệm của các hộ gia đình giảm 9,9 ng...</td>\n",
       "      <td>2</td>\n",
       "      <td>tiền tiết kiệm hộ gia đình tăng 99 nghìn tỷ nh...</td>\n",
       "      <td>the-gioi</td>\n",
       "      <td>Context: đầu óc đầu tư chứng khoán chờ điểm hò...</td>\n",
       "    </tr>\n",
       "    <tr>\n",
       "      <th>35081</th>\n",
       "      <td>\"Tôi không có đầu óc đầu tư chứng khoán và đan...</td>\n",
       "      <td>Zhu cho hay cô chưa tham gia vào nhiều cuộc đấ...</td>\n",
       "      <td>2</td>\n",
       "      <td>tham gia đấu giá trang sức diễn đàn thảo luận ...</td>\n",
       "      <td>the-gioi</td>\n",
       "      <td>Context: đầu óc đầu tư chứng khoán chờ điểm hò...</td>\n",
       "    </tr>\n",
       "  </tbody>\n",
       "</table>\n",
       "<p>37967 rows × 6 columns</p>\n",
       "</div>"
      ],
      "text/plain": [
       "                                                 context  \\\n",
       "7125   Phát biểu tại lễ ký kết vào ngày 17/11, Giám đ...   \n",
       "7126   Phát biểu tại lễ ký kết vào ngày 17/11, Giám đ...   \n",
       "7127   Phát biểu tại lễ ký kết vào ngày 17/11, Giám đ...   \n",
       "7128   Đối với các nhà khoa học, trí thức, điều kiện ...   \n",
       "7129   Đối với các nhà khoa học, trí thức, điều kiện ...   \n",
       "...                                                  ...   \n",
       "35077  \"Tôi cảm nhận mình đang sống, đang tự do\", Bia...   \n",
       "35078  \"Tôi cảm nhận mình đang sống, đang tự do\", Bia...   \n",
       "35079  \"Tôi cảm nhận mình đang sống, đang tự do\", Bia...   \n",
       "35080  \"Tôi không có đầu óc đầu tư chứng khoán và đan...   \n",
       "35081  \"Tôi không có đầu óc đầu tư chứng khoán và đan...   \n",
       "\n",
       "                                                   claim  verdict  \\\n",
       "7125   Ngoài việc không giới hạn mức lương, công ty c...        0   \n",
       "7126   Thành lập năm 2016, phát triển phần mềm, tổ ch...        0   \n",
       "7127   Nhằm phát triển đội ngũ, FABA thường tổ chức n...        0   \n",
       "7128   Sở dĩ vị trí kỹ sư phần mềm có mức lương cao n...        0   \n",
       "7129   Theo Adeco Việt Nam, mức lương cao nhất đối vớ...        0   \n",
       "...                                                  ...      ...   \n",
       "35077  Thái Lan không dự kiến đón ít nhất 5 triệu khá...        2   \n",
       "35078  Trước đại dịch, người Trung Quốc chiếm gần 1/2...        2   \n",
       "35079  Zhu nói rằng Số tiền 290.000 USD không thể mua...        2   \n",
       "35080  Tiền tiết kiệm của các hộ gia đình giảm 9,9 ng...        2   \n",
       "35081  Zhu cho hay cô chưa tham gia vào nhiều cuộc đấ...        2   \n",
       "\n",
       "                                                evidence    domain  \\\n",
       "7125      công ty chế độ đãi ngộ tốt lương 13 14 phụ cấp  giao-duc   \n",
       "7126   faba technology thành lập 2016 chuyên cung cấp...  giao-duc   \n",
       "7127   bên cạnh faba xuyên tổ chức dự án đào tạo kỹ n...  giao-duc   \n",
       "7128   adeco việt nam mức lương đối vị trí kỹ sư phần...  giao-duc   \n",
       "7129   báo cáo thị trường nhân lực ngành công nghệ th...  giao-duc   \n",
       "...                                                  ...       ...   \n",
       "35077  thái lan dự kiến đón ít 5 triệu khách trung qu...  the-gioi   \n",
       "35078  đại dịch trung quốc chiếm gần 13 tổng 40 triệu...  the-gioi   \n",
       "35079  tiền thể mua hộ nhỏ vị trí đẹp thành phố trung...  the-gioi   \n",
       "35080  tiền tiết kiệm hộ gia đình tăng 99 nghìn tỷ nh...  the-gioi   \n",
       "35081  tham gia đấu giá trang sức diễn đàn thảo luận ...  the-gioi   \n",
       "\n",
       "                                           context_claim  \n",
       "7125   Context: phát biểu lễ ký kết 1711 giám đốc hàn...  \n",
       "7126   Context: phát biểu lễ ký kết 1711 giám đốc hàn...  \n",
       "7127   Context: phát biểu lễ ký kết 1711 giám đốc hàn...  \n",
       "7128   Context: đối khoa học trí thức kiện sở vật chấ...  \n",
       "7129   Context: đối khoa học trí thức kiện sở vật chấ...  \n",
       "...                                                  ...  \n",
       "35077  Context: cảm sống tự bian hào hứng giấc mơ tru...  \n",
       "35078  Context: cảm sống tự bian hào hứng giấc mơ tru...  \n",
       "35079  Context: cảm sống tự bian hào hứng giấc mơ tru...  \n",
       "35080  Context: đầu óc đầu tư chứng khoán chờ điểm hò...  \n",
       "35081  Context: đầu óc đầu tư chứng khoán chờ điểm hò...  \n",
       "\n",
       "[37967 rows x 6 columns]"
      ]
     },
     "execution_count": 24,
     "metadata": {},
     "output_type": "execute_result"
    }
   ],
   "source": [
    "df"
   ]
  },
  {
   "cell_type": "code",
   "execution_count": 25,
   "id": "22cee575",
   "metadata": {
    "execution": {
     "iopub.execute_input": "2023-11-12T05:35:15.846537Z",
     "iopub.status.busy": "2023-11-12T05:35:15.846282Z",
     "iopub.status.idle": "2023-11-12T05:35:15.855250Z",
     "shell.execute_reply": "2023-11-12T05:35:15.854308Z"
    },
    "papermill": {
     "duration": 0.028693,
     "end_time": "2023-11-12T05:35:15.857450",
     "exception": false,
     "start_time": "2023-11-12T05:35:15.828757",
     "status": "completed"
    },
    "tags": []
   },
   "outputs": [],
   "source": [
    "train_contexts_claims = df['context_claim'].values.tolist()\n",
    "train_verdicts = df['verdict'].values.tolist()\n",
    "train_evidences = df['evidence'].values.tolist()\n",
    "\n",
    "\n",
    "test_contexts_claims =test_df['context_claim'].values.tolist()\n"
   ]
  },
  {
   "cell_type": "markdown",
   "id": "7cfaa2e1",
   "metadata": {
    "id": "moZrBbKjUn5K",
    "papermill": {
     "duration": 0.015703,
     "end_time": "2023-11-12T05:35:15.889832",
     "exception": false,
     "start_time": "2023-11-12T05:35:15.874129",
     "status": "completed"
    },
    "tags": []
   },
   "source": [
    "# Post"
   ]
  },
  {
   "cell_type": "code",
   "execution_count": 26,
   "id": "034bcb7b",
   "metadata": {
    "execution": {
     "iopub.execute_input": "2023-11-12T05:35:15.923753Z",
     "iopub.status.busy": "2023-11-12T05:35:15.923150Z",
     "iopub.status.idle": "2023-11-12T05:35:15.927918Z",
     "shell.execute_reply": "2023-11-12T05:35:15.926853Z"
    },
    "papermill": {
     "duration": 0.023645,
     "end_time": "2023-11-12T05:35:15.929878",
     "exception": false,
     "start_time": "2023-11-12T05:35:15.906233",
     "status": "completed"
    },
    "tags": []
   },
   "outputs": [],
   "source": [
    "# from transformers.models.bart.modeling_bart import BartForConditionalGeneration\n",
    "\n",
    "# class CustomBartForConditionalGeneration(BartForConditionalGeneration):\n",
    "#     def shift_tokens_right(self, input_ids, pad_token_id):\n",
    "#         # Kiểm tra số chiều của input_ids\n",
    "#         if input_ids.dim() == 1:\n",
    "#             input_ids = input_ids.unsqueeze(0)\n",
    "\n",
    "#         # Sử dụng phương pháp tùy chỉnh để shift tokens right\n",
    "#         shifted_input_ids = input_ids.new_zeros(input_ids.shape)\n",
    "#         shifted_input_ids[:, 1:] = input_ids[:, :-1].clone()\n",
    "#         shifted_input_ids[:, 0] = pad_token_id\n",
    "\n",
    "#         return shifted_input_ids"
   ]
  },
  {
   "cell_type": "code",
   "execution_count": 27,
   "id": "9f72ec78",
   "metadata": {
    "execution": {
     "iopub.execute_input": "2023-11-12T05:35:15.963063Z",
     "iopub.status.busy": "2023-11-12T05:35:15.962796Z",
     "iopub.status.idle": "2023-11-12T05:35:30.700745Z",
     "shell.execute_reply": "2023-11-12T05:35:30.699834Z"
    },
    "id": "Klzhn4r1TVYS",
    "papermill": {
     "duration": 14.757042,
     "end_time": "2023-11-12T05:35:30.703141",
     "exception": false,
     "start_time": "2023-11-12T05:35:15.946099",
     "status": "completed"
    },
    "tags": []
   },
   "outputs": [
    {
     "data": {
      "application/vnd.jupyter.widget-view+json": {
       "model_id": "26851d8a10bb4bcd9da2cc2c418dd4bf",
       "version_major": 2,
       "version_minor": 0
      },
      "text/plain": [
       "Downloading (…)lve/main/config.json:   0%|          | 0.00/1.72k [00:00<?, ?B/s]"
      ]
     },
     "metadata": {},
     "output_type": "display_data"
    },
    {
     "data": {
      "application/vnd.jupyter.widget-view+json": {
       "model_id": "a77d8d3083714b39b56c3a33db60b27f",
       "version_major": 2,
       "version_minor": 0
      },
      "text/plain": [
       "Downloading model.safetensors:   0%|          | 0.00/558M [00:00<?, ?B/s]"
      ]
     },
     "metadata": {},
     "output_type": "display_data"
    },
    {
     "data": {
      "application/vnd.jupyter.widget-view+json": {
       "model_id": "6b432355eba8408fb5205351325f1799",
       "version_major": 2,
       "version_minor": 0
      },
      "text/plain": [
       "Downloading (…)olve/main/vocab.json:   0%|          | 0.00/899k [00:00<?, ?B/s]"
      ]
     },
     "metadata": {},
     "output_type": "display_data"
    },
    {
     "data": {
      "application/vnd.jupyter.widget-view+json": {
       "model_id": "bdd03ae079b44852b2d40d71f77c5b2a",
       "version_major": 2,
       "version_minor": 0
      },
      "text/plain": [
       "Downloading (…)olve/main/merges.txt:   0%|          | 0.00/456k [00:00<?, ?B/s]"
      ]
     },
     "metadata": {},
     "output_type": "display_data"
    },
    {
     "data": {
      "application/vnd.jupyter.widget-view+json": {
       "model_id": "168ea533b4a146d1829649f6fdf0b9fd",
       "version_major": 2,
       "version_minor": 0
      },
      "text/plain": [
       "Downloading (…)/main/tokenizer.json:   0%|          | 0.00/1.36M [00:00<?, ?B/s]"
      ]
     },
     "metadata": {},
     "output_type": "display_data"
    }
   ],
   "source": [
    "\n",
    "# # Load pre-trained BART model and tokenizer\n",
    "model_name = 'facebook/bart-base'\n",
    "model = AutoModelForSeq2SeqLM.from_pretrained(model_name).to(device)\n",
    "tokenizer = AutoTokenizer.from_pretrained(model_name)\n",
    "\n",
    "transformers_logger = logging.getLogger(\"transformers\")\n",
    "transformers_logger.setLevel(logging.ERROR)"
   ]
  },
  {
   "cell_type": "code",
   "execution_count": 28,
   "id": "ff12f707",
   "metadata": {
    "execution": {
     "iopub.execute_input": "2023-11-12T05:35:30.745020Z",
     "iopub.status.busy": "2023-11-12T05:35:30.744089Z",
     "iopub.status.idle": "2023-11-12T05:35:30.750115Z",
     "shell.execute_reply": "2023-11-12T05:35:30.749259Z"
    },
    "papermill": {
     "duration": 0.028023,
     "end_time": "2023-11-12T05:35:30.752062",
     "exception": false,
     "start_time": "2023-11-12T05:35:30.724039",
     "status": "completed"
    },
    "tags": []
   },
   "outputs": [],
   "source": [
    "# class CustomDataset(Dataset):\n",
    "#     def __init__(self, dataset, tokenizer, max_len_input=512, max_len_output=256):\n",
    "#         self.dataset = dataset\n",
    "#         self.tokenizer = tokenizer\n",
    "#         self.max_len_input = max_len_input\n",
    "#         self.max_len_output = max_len_output\n",
    "\n",
    "#     def __getitem__(self, idx):\n",
    "#         row = self.dataset.iloc[idx]\n",
    "#         self.tokenizer.padding_side = 'right'\n",
    "\n",
    "#         input_encoding = self.tokenizer(\n",
    "#             row['context_claim'],\n",
    "#             max_length=self.max_len_input,\n",
    "#             truncation=True,\n",
    "#             padding=\"max_length\",\n",
    "#             return_tensors='pt',\n",
    "#         )\n",
    "#         item = {key: val.clone().detach()[0] for key, val in input_encoding.items()}\n",
    "\n",
    "#         # Mã hóa nhãn verdict thành dạng one-hot\n",
    "#         verdict = row['verdict']  # Lấy giá trị verdict từ dữ liệu\n",
    "#         labels = F.one_hot(torch.tensor(verdict), num_classes=3).squeeze(0)\n",
    "\n",
    "#         # Mở rộng labels thành kích thước (10, 512)\n",
    "# #         labels = labels.unsqueeze(0).expand((10, -1))\n",
    "\n",
    "#         item['labels'] = labels\n",
    "\n",
    "#         return item\n",
    "\n",
    "#     def __len__(self):\n",
    "#         return self.dataset.shape[0]\n",
    "# print('done')"
   ]
  },
  {
   "cell_type": "code",
   "execution_count": 29,
   "id": "2d390750",
   "metadata": {
    "execution": {
     "iopub.execute_input": "2023-11-12T05:35:30.790254Z",
     "iopub.status.busy": "2023-11-12T05:35:30.789948Z",
     "iopub.status.idle": "2023-11-12T05:35:30.795112Z",
     "shell.execute_reply": "2023-11-12T05:35:30.794218Z"
    },
    "papermill": {
     "duration": 0.027226,
     "end_time": "2023-11-12T05:35:30.797084",
     "exception": false,
     "start_time": "2023-11-12T05:35:30.769858",
     "status": "completed"
    },
    "tags": []
   },
   "outputs": [],
   "source": [
    "# class CustomDataLoader(DataLoader):\n",
    "#     def __init__(self, dataset, tokenizer, batch_size=1, max_len_input=512, max_len_output=256):\n",
    "#         self.dataset = dataset\n",
    "#         self.tokenizer = tokenizer\n",
    "#         self.max_len_input = max_len_input\n",
    "#         self.max_len_output = max_len_output\n",
    "#         self.batch_size = batch_size\n",
    "\n",
    "#         self.collate_fn = self._collate_fn\n",
    "\n",
    "#         super().__init__(\n",
    "#             dataset=dataset,\n",
    "#             batch_size=batch_size,\n",
    "#             collate_fn=self.collate_fn\n",
    "#         )\n",
    "\n",
    "#     def _collate_fn(self, batch):\n",
    "#         input_batch = [item['input_ids'] for item in batch]\n",
    "#         attention_mask_batch = [item['attention_mask'] for item in batch]\n",
    "#         labels_batch = torch.stack([item['labels'] for item in batch])\n",
    "\n",
    "#         padded_input_batch = torch.nn.utils.rnn.pad_sequence(input_batch, batch_first=True, padding_value=self.tokenizer.pad_token_id)\n",
    "#         padded_attention_mask_batch = torch.nn.utils.rnn.pad_sequence(attention_mask_batch, batch_first=True, padding_value=0)\n",
    "\n",
    "#         return {\n",
    "#             'input_ids': padded_input_batch,\n",
    "#             'attention_mask': padded_attention_mask_batch,\n",
    "#             'labels': labels_batch\n",
    "#         }\n",
    "# print('done')"
   ]
  },
  {
   "cell_type": "code",
   "execution_count": 30,
   "id": "4fd2ccf5",
   "metadata": {
    "execution": {
     "iopub.execute_input": "2023-11-12T05:35:30.834989Z",
     "iopub.status.busy": "2023-11-12T05:35:30.834685Z",
     "iopub.status.idle": "2023-11-12T05:35:30.868736Z",
     "shell.execute_reply": "2023-11-12T05:35:30.867720Z"
    },
    "papermill": {
     "duration": 0.056251,
     "end_time": "2023-11-12T05:35:30.870882",
     "exception": false,
     "start_time": "2023-11-12T05:35:30.814631",
     "status": "completed"
    },
    "tags": []
   },
   "outputs": [
    {
     "name": "stdout",
     "output_type": "stream",
     "text": [
      "tensor([0, 0, 0,  ..., 2, 2, 2])\n"
     ]
    }
   ],
   "source": [
    "train_labels=train_verdicts\n",
    "train_labels = torch.tensor(train_labels)\n",
    "print(train_labels)"
   ]
  },
  {
   "cell_type": "code",
   "execution_count": 31,
   "id": "9d7678a9",
   "metadata": {
    "execution": {
     "iopub.execute_input": "2023-11-12T05:35:30.906769Z",
     "iopub.status.busy": "2023-11-12T05:35:30.906443Z",
     "iopub.status.idle": "2023-11-12T05:36:23.808602Z",
     "shell.execute_reply": "2023-11-12T05:36:23.807719Z"
    },
    "papermill": {
     "duration": 52.922488,
     "end_time": "2023-11-12T05:36:23.811084",
     "exception": false,
     "start_time": "2023-11-12T05:35:30.888596",
     "status": "completed"
    },
    "tags": []
   },
   "outputs": [],
   "source": [
    " train_input_encoding = tokenizer(\n",
    "            train_contexts_claims,\n",
    "            max_length=512,\n",
    "            truncation=True,\n",
    "            padding=\"max_length\",\n",
    "            return_tensors='pt',\n",
    "        )"
   ]
  },
  {
   "cell_type": "code",
   "execution_count": 32,
   "id": "be1692a8",
   "metadata": {
    "execution": {
     "iopub.execute_input": "2023-11-12T05:36:23.848227Z",
     "iopub.status.busy": "2023-11-12T05:36:23.847592Z",
     "iopub.status.idle": "2023-11-12T05:36:31.350071Z",
     "shell.execute_reply": "2023-11-12T05:36:31.349070Z"
    },
    "papermill": {
     "duration": 7.523956,
     "end_time": "2023-11-12T05:36:31.352719",
     "exception": false,
     "start_time": "2023-11-12T05:36:23.828763",
     "status": "completed"
    },
    "tags": []
   },
   "outputs": [],
   "source": [
    "test_input_encoding = tokenizer(\n",
    "            test_contexts_claims,\n",
    "            max_length=512,\n",
    "            truncation=True,\n",
    "            padding=\"max_length\",\n",
    "            return_tensors='pt',\n",
    "        )"
   ]
  },
  {
   "cell_type": "code",
   "execution_count": 33,
   "id": "91d5b4e6",
   "metadata": {
    "execution": {
     "iopub.execute_input": "2023-11-12T05:36:31.393300Z",
     "iopub.status.busy": "2023-11-12T05:36:31.392518Z",
     "iopub.status.idle": "2023-11-12T05:36:31.397224Z",
     "shell.execute_reply": "2023-11-12T05:36:31.396237Z"
    },
    "papermill": {
     "duration": 0.027196,
     "end_time": "2023-11-12T05:36:31.399390",
     "exception": false,
     "start_time": "2023-11-12T05:36:31.372194",
     "status": "completed"
    },
    "tags": []
   },
   "outputs": [],
   "source": [
    "train_input_ids = train_input_encoding.input_ids\n",
    "train_attention_masks = train_input_encoding.attention_mask"
   ]
  },
  {
   "cell_type": "code",
   "execution_count": 34,
   "id": "26a81277",
   "metadata": {
    "execution": {
     "iopub.execute_input": "2023-11-12T05:36:31.439017Z",
     "iopub.status.busy": "2023-11-12T05:36:31.438327Z",
     "iopub.status.idle": "2023-11-12T05:36:31.631851Z",
     "shell.execute_reply": "2023-11-12T05:36:31.630850Z"
    },
    "papermill": {
     "duration": 0.216063,
     "end_time": "2023-11-12T05:36:31.634391",
     "exception": false,
     "start_time": "2023-11-12T05:36:31.418328",
     "status": "completed"
    },
    "tags": []
   },
   "outputs": [],
   "source": [
    "\n",
    "# Tách dữ liệu thành tập huấn luyện và tập validation\n",
    "train_input_id, val_input_id,train_attention_mask, val_attention_mask, train_input_labels, val_input_labels =train_test_split(train_input_ids,train_attention_masks, train_labels, test_size=0.2, random_state=seed)"
   ]
  },
  {
   "cell_type": "code",
   "execution_count": null,
   "id": "e5a745ae",
   "metadata": {
    "papermill": {
     "duration": 0.017429,
     "end_time": "2023-11-12T05:36:31.671097",
     "exception": false,
     "start_time": "2023-11-12T05:36:31.653668",
     "status": "completed"
    },
    "tags": []
   },
   "outputs": [],
   "source": []
  },
  {
   "cell_type": "code",
   "execution_count": 35,
   "id": "6b07ccd7",
   "metadata": {
    "execution": {
     "iopub.execute_input": "2023-11-12T05:36:31.707405Z",
     "iopub.status.busy": "2023-11-12T05:36:31.707100Z",
     "iopub.status.idle": "2023-11-12T05:36:31.712734Z",
     "shell.execute_reply": "2023-11-12T05:36:31.711820Z"
    },
    "papermill": {
     "duration": 0.026172,
     "end_time": "2023-11-12T05:36:31.714780",
     "exception": false,
     "start_time": "2023-11-12T05:36:31.688608",
     "status": "completed"
    },
    "tags": []
   },
   "outputs": [
    {
     "name": "stdout",
     "output_type": "stream",
     "text": [
      "done\n"
     ]
    }
   ],
   "source": [
    "\n",
    "\n",
    "# Các tham số huấn luyện\n",
    "batch_size = 10\n",
    "epochs = 5\n",
    "learning_rate = 2e-5\n",
    "shuffle = True\n",
    "weight_decay = 0.01\n",
    "print('done')"
   ]
  },
  {
   "cell_type": "code",
   "execution_count": 36,
   "id": "1c3f5459",
   "metadata": {
    "execution": {
     "iopub.execute_input": "2023-11-12T05:36:31.750839Z",
     "iopub.status.busy": "2023-11-12T05:36:31.750511Z",
     "iopub.status.idle": "2023-11-12T05:36:31.756813Z",
     "shell.execute_reply": "2023-11-12T05:36:31.755823Z"
    },
    "papermill": {
     "duration": 0.027085,
     "end_time": "2023-11-12T05:36:31.759221",
     "exception": false,
     "start_time": "2023-11-12T05:36:31.732136",
     "status": "completed"
    },
    "tags": []
   },
   "outputs": [
    {
     "name": "stdout",
     "output_type": "stream",
     "text": [
      "done\n"
     ]
    }
   ],
   "source": [
    "train_dataset = TensorDataset(train_input_id, train_attention_mask, train_input_labels)\n",
    "train_dataloader = DataLoader(train_dataset, batch_size=batch_size, shuffle=True)\n",
    "\n",
    "val_dataset = TensorDataset(val_input_id, val_attention_mask, val_input_labels)\n",
    "val_dataloader = DataLoader(val_dataset, batch_size=batch_size, shuffle=True)\n",
    "print('done')"
   ]
  },
  {
   "cell_type": "code",
   "execution_count": 37,
   "id": "ce3b2715",
   "metadata": {
    "execution": {
     "iopub.execute_input": "2023-11-12T05:36:31.797847Z",
     "iopub.status.busy": "2023-11-12T05:36:31.797522Z",
     "iopub.status.idle": "2023-11-12T05:36:31.809076Z",
     "shell.execute_reply": "2023-11-12T05:36:31.807947Z"
    },
    "papermill": {
     "duration": 0.033193,
     "end_time": "2023-11-12T05:36:31.811304",
     "exception": false,
     "start_time": "2023-11-12T05:36:31.778111",
     "status": "completed"
    },
    "tags": []
   },
   "outputs": [
    {
     "name": "stderr",
     "output_type": "stream",
     "text": [
      "/opt/conda/lib/python3.10/site-packages/transformers/optimization.py:411: FutureWarning: This implementation of AdamW is deprecated and will be removed in a future version. Use the PyTorch implementation torch.optim.AdamW instead, or set `no_deprecation_warning=True` to disable this warning\n",
      "  warnings.warn(\n"
     ]
    }
   ],
   "source": [
    "# Tạo optimizer và scheduler\n",
    "optimizer = AdamW(model.parameters(), lr=learning_rate, weight_decay=weight_decay)\n",
    "total_steps = len(train_dataloader) * epochs\n",
    "scheduler = get_linear_schedule_with_warmup(optimizer, num_warmup_steps=500, num_training_steps=total_steps)"
   ]
  },
  {
   "cell_type": "code",
   "execution_count": 38,
   "id": "20fdc7d9",
   "metadata": {
    "execution": {
     "iopub.execute_input": "2023-11-12T05:36:31.848119Z",
     "iopub.status.busy": "2023-11-12T05:36:31.847811Z",
     "iopub.status.idle": "2023-11-12T05:36:31.852355Z",
     "shell.execute_reply": "2023-11-12T05:36:31.851442Z"
    },
    "papermill": {
     "duration": 0.02513,
     "end_time": "2023-11-12T05:36:31.854510",
     "exception": false,
     "start_time": "2023-11-12T05:36:31.829380",
     "status": "completed"
    },
    "tags": []
   },
   "outputs": [],
   "source": [
    "\n",
    "\n",
    "# class CustomTrainingCallback(TrainerCallback):\n",
    "#     def on_train_begin(self, args, state, control, **kwargs):\n",
    "#         pass\n",
    "\n",
    "#     def on_train_end(self, args, state, control, **kwargs):\n",
    "#         pass\n",
    "\n",
    "#     def on_epoch_begin(self, args, state, control, **kwargs):\n",
    "#         pass\n",
    "\n",
    "#     def on_epoch_end(self, args, state, control, **kwargs):\n",
    "#         pass\n",
    "\n",
    "#     def on_step_begin(self, args, state, control, **kwargs):\n",
    "#         pass\n",
    "\n",
    "#     def on_step_end(self, args, state, control, **kwargs):\n",
    "#         if control.should_log:\n",
    "#             optimizer = state.optimizer\n",
    "#             optimizer.zero_grad()\n",
    "#             torch.cuda.empty_cache()\n",
    "# print('done')"
   ]
  },
  {
   "cell_type": "code",
   "execution_count": 39,
   "id": "4a51c66f",
   "metadata": {
    "execution": {
     "iopub.execute_input": "2023-11-12T05:36:31.892170Z",
     "iopub.status.busy": "2023-11-12T05:36:31.891405Z",
     "iopub.status.idle": "2023-11-12T05:36:34.462916Z",
     "shell.execute_reply": "2023-11-12T05:36:34.461631Z"
    },
    "papermill": {
     "duration": 2.592239,
     "end_time": "2023-11-12T05:36:34.464604",
     "exception": true,
     "start_time": "2023-11-12T05:36:31.872365",
     "status": "failed"
    },
    "tags": []
   },
   "outputs": [
    {
     "ename": "UsageError",
     "evalue": "api_key not configured (no-tty). call wandb.login(key=[your_api_key])",
     "output_type": "error",
     "traceback": [
      "\u001b[0;31m---------------------------------------------------------------------------\u001b[0m",
      "\u001b[0;31mUsageError\u001b[0m                                Traceback (most recent call last)",
      "Cell \u001b[0;32mIn[39], line 1\u001b[0m\n\u001b[0;32m----> 1\u001b[0m \u001b[43mwandb\u001b[49m\u001b[38;5;241;43m.\u001b[39;49m\u001b[43mlogin\u001b[49m\u001b[43m(\u001b[49m\u001b[43m)\u001b[49m\n\u001b[1;32m      2\u001b[0m run \u001b[38;5;241m=\u001b[39m wandb\u001b[38;5;241m.\u001b[39minit(\n\u001b[1;32m      3\u001b[0m     \u001b[38;5;66;03m# Set the project where this run will be logged\u001b[39;00m\n\u001b[1;32m      4\u001b[0m     project\u001b[38;5;241m=\u001b[39m\u001b[38;5;124m\"\u001b[39m\u001b[38;5;124mUIT_BART_Trainer\u001b[39m\u001b[38;5;124m\"\u001b[39m,\n\u001b[0;32m   (...)\u001b[0m\n\u001b[1;32m      8\u001b[0m         \u001b[38;5;124m\"\u001b[39m\u001b[38;5;124mepochs\u001b[39m\u001b[38;5;124m\"\u001b[39m: epochs,\n\u001b[1;32m      9\u001b[0m     })\n\u001b[1;32m     12\u001b[0m \u001b[38;5;66;03m#a2de7f2aac43b6250bd7d6147079afb0dcf638b5\u001b[39;00m\n\u001b[1;32m     13\u001b[0m \u001b[38;5;66;03m# !wandb login --relogin\u001b[39;00m\n",
      "File \u001b[0;32m/opt/conda/lib/python3.10/site-packages/wandb/sdk/wandb_login.py:77\u001b[0m, in \u001b[0;36mlogin\u001b[0;34m(anonymous, key, relogin, host, force, timeout)\u001b[0m\n\u001b[1;32m     75\u001b[0m     \u001b[38;5;28;01mreturn\u001b[39;00m \u001b[38;5;28;01mTrue\u001b[39;00m\n\u001b[1;32m     76\u001b[0m kwargs \u001b[38;5;241m=\u001b[39m \u001b[38;5;28mdict\u001b[39m(\u001b[38;5;28mlocals\u001b[39m())\n\u001b[0;32m---> 77\u001b[0m configured \u001b[38;5;241m=\u001b[39m \u001b[43m_login\u001b[49m\u001b[43m(\u001b[49m\u001b[38;5;241;43m*\u001b[39;49m\u001b[38;5;241;43m*\u001b[39;49m\u001b[43mkwargs\u001b[49m\u001b[43m)\u001b[49m\n\u001b[1;32m     78\u001b[0m \u001b[38;5;28;01mreturn\u001b[39;00m \u001b[38;5;28;01mTrue\u001b[39;00m \u001b[38;5;28;01mif\u001b[39;00m configured \u001b[38;5;28;01melse\u001b[39;00m \u001b[38;5;28;01mFalse\u001b[39;00m\n",
      "File \u001b[0;32m/opt/conda/lib/python3.10/site-packages/wandb/sdk/wandb_login.py:298\u001b[0m, in \u001b[0;36m_login\u001b[0;34m(anonymous, key, relogin, host, force, timeout, _backend, _silent, _disable_warning, _entity)\u001b[0m\n\u001b[1;32m    295\u001b[0m     \u001b[38;5;28;01mreturn\u001b[39;00m logged_in\n\u001b[1;32m    297\u001b[0m \u001b[38;5;28;01mif\u001b[39;00m \u001b[38;5;129;01mnot\u001b[39;00m key:\n\u001b[0;32m--> 298\u001b[0m     \u001b[43mwlogin\u001b[49m\u001b[38;5;241;43m.\u001b[39;49m\u001b[43mprompt_api_key\u001b[49m\u001b[43m(\u001b[49m\u001b[43m)\u001b[49m\n\u001b[1;32m    300\u001b[0m \u001b[38;5;66;03m# make sure login credentials get to the backend\u001b[39;00m\n\u001b[1;32m    301\u001b[0m wlogin\u001b[38;5;241m.\u001b[39mpropogate_login()\n",
      "File \u001b[0;32m/opt/conda/lib/python3.10/site-packages/wandb/sdk/wandb_login.py:228\u001b[0m, in \u001b[0;36m_WandbLogin.prompt_api_key\u001b[0;34m(self)\u001b[0m\n\u001b[1;32m    222\u001b[0m \u001b[38;5;28;01mif\u001b[39;00m status \u001b[38;5;241m==\u001b[39m ApiKeyStatus\u001b[38;5;241m.\u001b[39mNOTTY:\n\u001b[1;32m    223\u001b[0m     directive \u001b[38;5;241m=\u001b[39m (\n\u001b[1;32m    224\u001b[0m         \u001b[38;5;124m\"\u001b[39m\u001b[38;5;124mwandb login [your_api_key]\u001b[39m\u001b[38;5;124m\"\u001b[39m\n\u001b[1;32m    225\u001b[0m         \u001b[38;5;28;01mif\u001b[39;00m \u001b[38;5;28mself\u001b[39m\u001b[38;5;241m.\u001b[39m_settings\u001b[38;5;241m.\u001b[39m_cli_only_mode\n\u001b[1;32m    226\u001b[0m         \u001b[38;5;28;01melse\u001b[39;00m \u001b[38;5;124m\"\u001b[39m\u001b[38;5;124mwandb.login(key=[your_api_key])\u001b[39m\u001b[38;5;124m\"\u001b[39m\n\u001b[1;32m    227\u001b[0m     )\n\u001b[0;32m--> 228\u001b[0m     \u001b[38;5;28;01mraise\u001b[39;00m UsageError(\u001b[38;5;124m\"\u001b[39m\u001b[38;5;124mapi_key not configured (no-tty). call \u001b[39m\u001b[38;5;124m\"\u001b[39m \u001b[38;5;241m+\u001b[39m directive)\n\u001b[1;32m    230\u001b[0m \u001b[38;5;28mself\u001b[39m\u001b[38;5;241m.\u001b[39mupdate_session(key, status\u001b[38;5;241m=\u001b[39mstatus)\n\u001b[1;32m    231\u001b[0m \u001b[38;5;28mself\u001b[39m\u001b[38;5;241m.\u001b[39m_key \u001b[38;5;241m=\u001b[39m key\n",
      "\u001b[0;31mUsageError\u001b[0m: api_key not configured (no-tty). call wandb.login(key=[your_api_key])"
     ]
    }
   ],
   "source": [
    "wandb.login()\n",
    "run = wandb.init(\n",
    "    # Set the project where this run will be logged\n",
    "    project=\"UIT_BART_Trainer\",\n",
    "    # Track hyperparameters and run metadata\n",
    "    config={\n",
    "        \"learning_rate\": learning_rate,\n",
    "        \"epochs\": epochs,\n",
    "    })\n",
    "\n",
    "\n",
    "#a2de7f2aac43b6250bd7d6147079afb0dcf638b5\n",
    "# !wandb login --relogin"
   ]
  },
  {
   "cell_type": "code",
   "execution_count": null,
   "id": "e38181df",
   "metadata": {
    "execution": {
     "iopub.execute_input": "2023-11-12T04:39:03.905648Z",
     "iopub.status.busy": "2023-11-12T04:39:03.904823Z",
     "iopub.status.idle": "2023-11-12T05:29:03.732293Z",
     "shell.execute_reply": "2023-11-12T05:29:03.730897Z",
     "shell.execute_reply.started": "2023-11-12T04:39:03.905618Z"
    },
    "papermill": {
     "duration": null,
     "end_time": null,
     "exception": null,
     "start_time": null,
     "status": "pending"
    },
    "tags": []
   },
   "outputs": [],
   "source": [
    "model.train()\n",
    "for epoch in range(epochs):\n",
    "    total_loss = 0\n",
    "    for batch in train_dataloader:\n",
    "        input_ids = batch[0]\n",
    "        attention_mask = batch[1]\n",
    "        labels = batch[2]\n",
    "#         input_ids = input_ids.unsqueeze(0)\n",
    "#         attention_mask = attention_mask.unsqueeze(0)\n",
    "        labels = labels.unsqueeze(1)\n",
    "#         print(input_ids.shape,attention_mask.shape,labels.shape)\n",
    "#         labels = labels.unsqueeze(0).expand((10, -1))\n",
    "        \n",
    "        input_ids = input_ids.to(device)\n",
    "        attention_mask = attention_mask.to(device)\n",
    "        labels = labels.to(device)\n",
    "\n",
    "        optimizer.zero_grad()\n",
    "#         print(input_ids.shape)\n",
    "#         print(attention_mask.shape)\n",
    "#         print(labels.shape)\n",
    "        outputs = model(input_ids=input_ids, attention_mask=attention_mask, labels=labels)\n",
    "#         loss_fn = nn.CrossEntropyLoss()\n",
    "#         logits = outputs.logits\n",
    "        loss = outputs.loss\n",
    "\n",
    "        total_loss += loss.item()\n",
    "\n",
    "        loss.backward()\n",
    "        torch.nn.utils.clip_grad_norm_(model.parameters(), 1.0)\n",
    "\n",
    "        optimizer.step()\n",
    "        scheduler.step()\n",
    "        torch.cuda.empty_cache()\n",
    "    average_loss = total_loss / len(train_dataloader)\n",
    "    print(f\"Epoch {epoch+1}/{epochs} - Average Loss: {average_loss}\")\n",
    "print('done')"
   ]
  },
  {
   "cell_type": "code",
   "execution_count": null,
   "id": "e8a4aff9",
   "metadata": {
    "execution": {
     "iopub.execute_input": "2023-11-02T08:47:04.943425Z",
     "iopub.status.busy": "2023-11-02T08:47:04.943033Z"
    },
    "papermill": {
     "duration": null,
     "end_time": null,
     "exception": null,
     "start_time": null,
     "status": "pending"
    },
    "tags": []
   },
   "outputs": [],
   "source": [
    "\n",
    "# # Xác định các siêu tham số của Trainer\n",
    "# training_args = Seq2SeqTrainingArguments(\n",
    "#     output_dir=checkpoints_path,\n",
    "#     num_train_epochs=epochs,\n",
    "#     per_device_train_batch_size=batch_size,\n",
    "#     per_device_eval_batch_size=batch_size,\n",
    "#     learning_rate=learning_rate,\n",
    "#     weight_decay=0.01,\n",
    "#     warmup_steps=500, \n",
    "#     evaluation_strategy = \"epoch\",\n",
    "#     save_strategy='no',\n",
    "#     # Các siêu tham số khác\n",
    "# )\n",
    "# Tạo optimizer và scheduler\n",
    "# optimizer = torch.optim.AdamW(model.parameters(), lr=training_args.learning_rate)\n",
    "# total_steps = len(train_dataset) * training_args.num_train_epochs\n",
    "# scheduler = get_linear_schedule_with_warmup(optimizer, num_warmup_steps=0, num_training_steps=total_steps)\n",
    "\n",
    "# Tạo đối tượng Trainer\n",
    "# trainer = Seq2SeqTrainer(\n",
    "#     model=model,\n",
    "#     args=training_args,\n",
    "#     train_dataset=train_dataset,\n",
    "#     eval_dataset=val_dataset,\n",
    "#     tokenizer=tokenizer,\n",
    "#     optimizers=(optimizer, scheduler),\n",
    "#     callbacks=[CustomTrainingCallback()],\n",
    "\n",
    "#     # Các đối số khác\n",
    "# )\n",
    "\n",
    "# Huấn luyện mô hình\n",
    "# trainer.train()"
   ]
  },
  {
   "cell_type": "code",
   "execution_count": null,
   "id": "72336106",
   "metadata": {
    "papermill": {
     "duration": null,
     "end_time": null,
     "exception": null,
     "start_time": null,
     "status": "pending"
    },
    "tags": []
   },
   "outputs": [],
   "source": [
    "\n",
    "# Save the trained model\n",
    "# model.save_pretrained('path/to/save/model')\n",
    "# tokenizer.save_pretrained('path/to/save/tokenizer')"
   ]
  },
  {
   "cell_type": "code",
   "execution_count": null,
   "id": "9f72e19b",
   "metadata": {
    "papermill": {
     "duration": null,
     "end_time": null,
     "exception": null,
     "start_time": null,
     "status": "pending"
    },
    "tags": []
   },
   "outputs": [],
   "source": [
    "# # Load pre-trained BART model and tokenizer\n",
    "# model_name = 'facebook/bart-base'\n",
    "# model = BartForSequenceClassification.from_pretrained(model_name)\n",
    "# tokenizer = BartTokenizer.from_pretrained(model_name)\n",
    "\n",
    "# # Define labels\n",
    "# labels = ['NEI', 'supported', 'refuted']\n",
    "\n",
    "# # Preprocess context and claim, and convert to input tensors\n",
    "# def preprocess_input(context, claim):\n",
    "#     input_text = f\"Context: {context}. Claim: {claim}.\"\n",
    "#     input_ids = tokenizer.encode(input_text, add_special_tokens=True)\n",
    "#     input_tensors = torch.tensor([input_ids])\n",
    "#     return input_tensors\n",
    "\n",
    "# # Classify claim using BART model\n",
    "# def classify_verdict(context, claim):\n",
    "#     input_tensors = preprocess_input(context, claim)\n",
    "#     logits = model(input_tensors)[0]\n",
    "#     predicted_label_idx = torch.argmax(logits, dim=1).item()\n",
    "#     predicted_label = labels[predicted_label_idx]\n",
    "#     return predicted_label\n",
    "\n",
    "# # Example usage\n",
    "# context = \"This is the context.\"\n",
    "# claim = \"This is the claim.\"\n",
    "# predicted_verdict = classify_verdict(context, claim)\n",
    "# print(\"Predicted verdict:\", predicted_verdict)\n",
    "\n",
    "# Đánh giá mô hình trên tập validation\n",
    "# eval_result = trainer.evaluate(eval_dataset=val_dataloader)\n",
    "# accuracy = eval_result[\"accuracy\"]\n",
    "# print(f\"Accuracy: {accuracy}\")\n",
    "\n",
    "# # Phân loại nhãn cho tập test\n",
    "# predictions = trainer.predict(test_dataset=test_dataloader)\n",
    "# # predicted_labels = predictions.predictions.argmax(axis=1)\n",
    "# import pickle\n",
    "\n",
    "# # ... Code huấn luyện mô hình ...\n",
    "\n",
    "# # Lưu lại đối tượng Trainer\n",
    "# trainer_path = \"trainer.pkl\"\n",
    "# with open(trainer_path, \"wb\") as f:\n",
    "#     pickle.dump(trainer, f)\n",
    "\n",
    "# # ... Sau này, khi bạn muốn sử dụng lại Trainer ...\n",
    "\n",
    "# # Tải lại đối tượng Trainer từ file\n",
    "# with open(trainer_path, \"rb\") as f:\n",
    "#     trainer = pickle.load(f)\n",
    "\n",
    "# # Sử dụng Trainer đã tải lại\n",
    "# predictions = trainer.predict(test_dataset=test_dataloader)\n",
    "\n",
    "\n",
    "\n",
    "# from torch.utils.data import Dataset\n",
    "\n",
    "# class TestDataset(Dataset):\n",
    "#     def __init__(self, test_df, tokenizer):\n",
    "#         self.test_df = test_df\n",
    "#         self.tokenizer = tokenizer\n",
    "\n",
    "#     def __len__(self):\n",
    "#         return len(self.test_df)\n",
    "\n",
    "#     def __getitem__(self, index):\n",
    "#         context = self.test_df.iloc[index]['context']\n",
    "#         claim = self.test_df.iloc[index]['claim']\n",
    "#         inputs = self.tokenizer.encode_plus(\n",
    "#             context,\n",
    "#             claim,\n",
    "#             truncation=True,\n",
    "#             padding='max_length',\n",
    "#             max_length=256,\n",
    "#             return_tensors='pt'\n",
    "#         )\n",
    "#         input_ids = inputs['input_ids'].squeeze()\n",
    "#         attention_mask = inputs['attention_mask'].squeeze()\n",
    "\n",
    "#         return {\n",
    "#             'input_ids': input_ids,\n",
    "#             'attention_mask': attention_mask,\n",
    "#             'verdict': None  # Trả về None cho nhãn verdict trong tập test\n",
    "#         }\n",
    "\n",
    "# test_dataset = TestDataset(test_df, tokenizer)\n",
    "# test_dataloader = DataLoader(test_dataset, batch_size=batch_size, shuffle=False)\n",
    "\n",
    "# predictions = trainer.predict(test_dataset=test_dataloader)\n",
    "# predicted_labels = predictions.predictions.argmax(axis=1)"
   ]
  }
 ],
 "metadata": {
  "kernelspec": {
   "display_name": "Python 3",
   "language": "python",
   "name": "python3"
  },
  "language_info": {
   "codemirror_mode": {
    "name": "ipython",
    "version": 3
   },
   "file_extension": ".py",
   "mimetype": "text/x-python",
   "name": "python",
   "nbconvert_exporter": "python",
   "pygments_lexer": "ipython3",
   "version": "3.10.12"
  },
  "papermill": {
   "default_parameters": {},
   "duration": 430.018473,
   "end_time": "2023-11-12T05:36:37.907912",
   "environment_variables": {},
   "exception": true,
   "input_path": "__notebook__.ipynb",
   "output_path": "__notebook__.ipynb",
   "parameters": {},
   "start_time": "2023-11-12T05:29:27.889439",
   "version": "2.4.0"
  },
  "widgets": {
   "application/vnd.jupyter.widget-state+json": {
    "state": {
     "0100c22839fb41a1a53e3afb896e6ab3": {
      "model_module": "@jupyter-widgets/controls",
      "model_module_version": "1.5.0",
      "model_name": "ProgressStyleModel",
      "state": {
       "_model_module": "@jupyter-widgets/controls",
       "_model_module_version": "1.5.0",
       "_model_name": "ProgressStyleModel",
       "_view_count": null,
       "_view_module": "@jupyter-widgets/base",
       "_view_module_version": "1.2.0",
       "_view_name": "StyleView",
       "bar_color": null,
       "description_width": ""
      }
     },
     "0326bd79f24f4b6a93196c145218fe53": {
      "model_module": "@jupyter-widgets/controls",
      "model_module_version": "1.5.0",
      "model_name": "HTMLModel",
      "state": {
       "_dom_classes": [],
       "_model_module": "@jupyter-widgets/controls",
       "_model_module_version": "1.5.0",
       "_model_name": "HTMLModel",
       "_view_count": null,
       "_view_module": "@jupyter-widgets/controls",
       "_view_module_version": "1.5.0",
       "_view_name": "HTMLView",
       "description": "",
       "description_tooltip": null,
       "layout": "IPY_MODEL_7c18f8e45bcf471cb5340ea0c00b3253",
       "placeholder": "​",
       "style": "IPY_MODEL_2d87d72fca764559a8241cde6ce94bc4",
       "value": " 1.72k/1.72k [00:00&lt;00:00, 128kB/s]"
      }
     },
     "0e40beefa7534a56af02ee0c7d981759": {
      "model_module": "@jupyter-widgets/base",
      "model_module_version": "1.2.0",
      "model_name": "LayoutModel",
      "state": {
       "_model_module": "@jupyter-widgets/base",
       "_model_module_version": "1.2.0",
       "_model_name": "LayoutModel",
       "_view_count": null,
       "_view_module": "@jupyter-widgets/base",
       "_view_module_version": "1.2.0",
       "_view_name": "LayoutView",
       "align_content": null,
       "align_items": null,
       "align_self": null,
       "border": null,
       "bottom": null,
       "display": null,
       "flex": null,
       "flex_flow": null,
       "grid_area": null,
       "grid_auto_columns": null,
       "grid_auto_flow": null,
       "grid_auto_rows": null,
       "grid_column": null,
       "grid_gap": null,
       "grid_row": null,
       "grid_template_areas": null,
       "grid_template_columns": null,
       "grid_template_rows": null,
       "height": null,
       "justify_content": null,
       "justify_items": null,
       "left": null,
       "margin": null,
       "max_height": null,
       "max_width": null,
       "min_height": null,
       "min_width": null,
       "object_fit": null,
       "object_position": null,
       "order": null,
       "overflow": null,
       "overflow_x": null,
       "overflow_y": null,
       "padding": null,
       "right": null,
       "top": null,
       "visibility": null,
       "width": null
      }
     },
     "168ea533b4a146d1829649f6fdf0b9fd": {
      "model_module": "@jupyter-widgets/controls",
      "model_module_version": "1.5.0",
      "model_name": "HBoxModel",
      "state": {
       "_dom_classes": [],
       "_model_module": "@jupyter-widgets/controls",
       "_model_module_version": "1.5.0",
       "_model_name": "HBoxModel",
       "_view_count": null,
       "_view_module": "@jupyter-widgets/controls",
       "_view_module_version": "1.5.0",
       "_view_name": "HBoxView",
       "box_style": "",
       "children": [
        "IPY_MODEL_9480ab6f0cd34406a6685a811d9eb1da",
        "IPY_MODEL_fa71f7cc9cef420090ef5d67e9e6dd8f",
        "IPY_MODEL_98160f72ac5b4e84bb20029881187fc5"
       ],
       "layout": "IPY_MODEL_bca1c523dd444c9b9b43b86d2b0db706"
      }
     },
     "19161900e0ac4f348ad9a54c86cddf46": {
      "model_module": "@jupyter-widgets/controls",
      "model_module_version": "1.5.0",
      "model_name": "DescriptionStyleModel",
      "state": {
       "_model_module": "@jupyter-widgets/controls",
       "_model_module_version": "1.5.0",
       "_model_name": "DescriptionStyleModel",
       "_view_count": null,
       "_view_module": "@jupyter-widgets/base",
       "_view_module_version": "1.2.0",
       "_view_name": "StyleView",
       "description_width": ""
      }
     },
     "1c4bf36f442f451092e7413e9d4a12f4": {
      "model_module": "@jupyter-widgets/controls",
      "model_module_version": "1.5.0",
      "model_name": "ProgressStyleModel",
      "state": {
       "_model_module": "@jupyter-widgets/controls",
       "_model_module_version": "1.5.0",
       "_model_name": "ProgressStyleModel",
       "_view_count": null,
       "_view_module": "@jupyter-widgets/base",
       "_view_module_version": "1.2.0",
       "_view_name": "StyleView",
       "bar_color": null,
       "description_width": ""
      }
     },
     "26851d8a10bb4bcd9da2cc2c418dd4bf": {
      "model_module": "@jupyter-widgets/controls",
      "model_module_version": "1.5.0",
      "model_name": "HBoxModel",
      "state": {
       "_dom_classes": [],
       "_model_module": "@jupyter-widgets/controls",
       "_model_module_version": "1.5.0",
       "_model_name": "HBoxModel",
       "_view_count": null,
       "_view_module": "@jupyter-widgets/controls",
       "_view_module_version": "1.5.0",
       "_view_name": "HBoxView",
       "box_style": "",
       "children": [
        "IPY_MODEL_630a76c3dac945ef810c8d2709c43909",
        "IPY_MODEL_f8697c0e42844c0ebfa538aad9bc34e5",
        "IPY_MODEL_0326bd79f24f4b6a93196c145218fe53"
       ],
       "layout": "IPY_MODEL_813beb4d475843f08554a71dd463fff2"
      }
     },
     "28716ce0d5504c4eacd82e70d32c26e2": {
      "model_module": "@jupyter-widgets/base",
      "model_module_version": "1.2.0",
      "model_name": "LayoutModel",
      "state": {
       "_model_module": "@jupyter-widgets/base",
       "_model_module_version": "1.2.0",
       "_model_name": "LayoutModel",
       "_view_count": null,
       "_view_module": "@jupyter-widgets/base",
       "_view_module_version": "1.2.0",
       "_view_name": "LayoutView",
       "align_content": null,
       "align_items": null,
       "align_self": null,
       "border": null,
       "bottom": null,
       "display": null,
       "flex": null,
       "flex_flow": null,
       "grid_area": null,
       "grid_auto_columns": null,
       "grid_auto_flow": null,
       "grid_auto_rows": null,
       "grid_column": null,
       "grid_gap": null,
       "grid_row": null,
       "grid_template_areas": null,
       "grid_template_columns": null,
       "grid_template_rows": null,
       "height": null,
       "justify_content": null,
       "justify_items": null,
       "left": null,
       "margin": null,
       "max_height": null,
       "max_width": null,
       "min_height": null,
       "min_width": null,
       "object_fit": null,
       "object_position": null,
       "order": null,
       "overflow": null,
       "overflow_x": null,
       "overflow_y": null,
       "padding": null,
       "right": null,
       "top": null,
       "visibility": null,
       "width": null
      }
     },
     "2caad2045b934bca93fb69c8ffd63ba7": {
      "model_module": "@jupyter-widgets/base",
      "model_module_version": "1.2.0",
      "model_name": "LayoutModel",
      "state": {
       "_model_module": "@jupyter-widgets/base",
       "_model_module_version": "1.2.0",
       "_model_name": "LayoutModel",
       "_view_count": null,
       "_view_module": "@jupyter-widgets/base",
       "_view_module_version": "1.2.0",
       "_view_name": "LayoutView",
       "align_content": null,
       "align_items": null,
       "align_self": null,
       "border": null,
       "bottom": null,
       "display": null,
       "flex": null,
       "flex_flow": null,
       "grid_area": null,
       "grid_auto_columns": null,
       "grid_auto_flow": null,
       "grid_auto_rows": null,
       "grid_column": null,
       "grid_gap": null,
       "grid_row": null,
       "grid_template_areas": null,
       "grid_template_columns": null,
       "grid_template_rows": null,
       "height": null,
       "justify_content": null,
       "justify_items": null,
       "left": null,
       "margin": null,
       "max_height": null,
       "max_width": null,
       "min_height": null,
       "min_width": null,
       "object_fit": null,
       "object_position": null,
       "order": null,
       "overflow": null,
       "overflow_x": null,
       "overflow_y": null,
       "padding": null,
       "right": null,
       "top": null,
       "visibility": null,
       "width": null
      }
     },
     "2cb9331db13f412f9124b415b2df5ef3": {
      "model_module": "@jupyter-widgets/base",
      "model_module_version": "1.2.0",
      "model_name": "LayoutModel",
      "state": {
       "_model_module": "@jupyter-widgets/base",
       "_model_module_version": "1.2.0",
       "_model_name": "LayoutModel",
       "_view_count": null,
       "_view_module": "@jupyter-widgets/base",
       "_view_module_version": "1.2.0",
       "_view_name": "LayoutView",
       "align_content": null,
       "align_items": null,
       "align_self": null,
       "border": null,
       "bottom": null,
       "display": null,
       "flex": null,
       "flex_flow": null,
       "grid_area": null,
       "grid_auto_columns": null,
       "grid_auto_flow": null,
       "grid_auto_rows": null,
       "grid_column": null,
       "grid_gap": null,
       "grid_row": null,
       "grid_template_areas": null,
       "grid_template_columns": null,
       "grid_template_rows": null,
       "height": null,
       "justify_content": null,
       "justify_items": null,
       "left": null,
       "margin": null,
       "max_height": null,
       "max_width": null,
       "min_height": null,
       "min_width": null,
       "object_fit": null,
       "object_position": null,
       "order": null,
       "overflow": null,
       "overflow_x": null,
       "overflow_y": null,
       "padding": null,
       "right": null,
       "top": null,
       "visibility": null,
       "width": null
      }
     },
     "2d87d72fca764559a8241cde6ce94bc4": {
      "model_module": "@jupyter-widgets/controls",
      "model_module_version": "1.5.0",
      "model_name": "DescriptionStyleModel",
      "state": {
       "_model_module": "@jupyter-widgets/controls",
       "_model_module_version": "1.5.0",
       "_model_name": "DescriptionStyleModel",
       "_view_count": null,
       "_view_module": "@jupyter-widgets/base",
       "_view_module_version": "1.2.0",
       "_view_name": "StyleView",
       "description_width": ""
      }
     },
     "2d9306f5488345dca446a139fb9c6a59": {
      "model_module": "@jupyter-widgets/controls",
      "model_module_version": "1.5.0",
      "model_name": "ProgressStyleModel",
      "state": {
       "_model_module": "@jupyter-widgets/controls",
       "_model_module_version": "1.5.0",
       "_model_name": "ProgressStyleModel",
       "_view_count": null,
       "_view_module": "@jupyter-widgets/base",
       "_view_module_version": "1.2.0",
       "_view_name": "StyleView",
       "bar_color": null,
       "description_width": ""
      }
     },
     "36429c8b35fd49beb02c8d395a453d33": {
      "model_module": "@jupyter-widgets/controls",
      "model_module_version": "1.5.0",
      "model_name": "DescriptionStyleModel",
      "state": {
       "_model_module": "@jupyter-widgets/controls",
       "_model_module_version": "1.5.0",
       "_model_name": "DescriptionStyleModel",
       "_view_count": null,
       "_view_module": "@jupyter-widgets/base",
       "_view_module_version": "1.2.0",
       "_view_name": "StyleView",
       "description_width": ""
      }
     },
     "40f309deeb3743568bffdb55ffd46294": {
      "model_module": "@jupyter-widgets/controls",
      "model_module_version": "1.5.0",
      "model_name": "HTMLModel",
      "state": {
       "_dom_classes": [],
       "_model_module": "@jupyter-widgets/controls",
       "_model_module_version": "1.5.0",
       "_model_name": "HTMLModel",
       "_view_count": null,
       "_view_module": "@jupyter-widgets/controls",
       "_view_module_version": "1.5.0",
       "_view_name": "HTMLView",
       "description": "",
       "description_tooltip": null,
       "layout": "IPY_MODEL_67cce2d942c94d4285201e5a0979957e",
       "placeholder": "​",
       "style": "IPY_MODEL_da1087d3b39a45a496849784066f66e6",
       "value": " 456k/456k [00:00&lt;00:00, 3.45MB/s]"
      }
     },
     "41951cd742b44a0899a15af5a04fd6db": {
      "model_module": "@jupyter-widgets/controls",
      "model_module_version": "1.5.0",
      "model_name": "FloatProgressModel",
      "state": {
       "_dom_classes": [],
       "_model_module": "@jupyter-widgets/controls",
       "_model_module_version": "1.5.0",
       "_model_name": "FloatProgressModel",
       "_view_count": null,
       "_view_module": "@jupyter-widgets/controls",
       "_view_module_version": "1.5.0",
       "_view_name": "ProgressView",
       "bar_style": "success",
       "description": "",
       "description_tooltip": null,
       "layout": "IPY_MODEL_4367b629cc1b4403859fa8455964c564",
       "max": 898823.0,
       "min": 0.0,
       "orientation": "horizontal",
       "style": "IPY_MODEL_1c4bf36f442f451092e7413e9d4a12f4",
       "value": 898823.0
      }
     },
     "4367b629cc1b4403859fa8455964c564": {
      "model_module": "@jupyter-widgets/base",
      "model_module_version": "1.2.0",
      "model_name": "LayoutModel",
      "state": {
       "_model_module": "@jupyter-widgets/base",
       "_model_module_version": "1.2.0",
       "_model_name": "LayoutModel",
       "_view_count": null,
       "_view_module": "@jupyter-widgets/base",
       "_view_module_version": "1.2.0",
       "_view_name": "LayoutView",
       "align_content": null,
       "align_items": null,
       "align_self": null,
       "border": null,
       "bottom": null,
       "display": null,
       "flex": null,
       "flex_flow": null,
       "grid_area": null,
       "grid_auto_columns": null,
       "grid_auto_flow": null,
       "grid_auto_rows": null,
       "grid_column": null,
       "grid_gap": null,
       "grid_row": null,
       "grid_template_areas": null,
       "grid_template_columns": null,
       "grid_template_rows": null,
       "height": null,
       "justify_content": null,
       "justify_items": null,
       "left": null,
       "margin": null,
       "max_height": null,
       "max_width": null,
       "min_height": null,
       "min_width": null,
       "object_fit": null,
       "object_position": null,
       "order": null,
       "overflow": null,
       "overflow_x": null,
       "overflow_y": null,
       "padding": null,
       "right": null,
       "top": null,
       "visibility": null,
       "width": null
      }
     },
     "440372b64f874e61afde92465cdbc75a": {
      "model_module": "@jupyter-widgets/base",
      "model_module_version": "1.2.0",
      "model_name": "LayoutModel",
      "state": {
       "_model_module": "@jupyter-widgets/base",
       "_model_module_version": "1.2.0",
       "_model_name": "LayoutModel",
       "_view_count": null,
       "_view_module": "@jupyter-widgets/base",
       "_view_module_version": "1.2.0",
       "_view_name": "LayoutView",
       "align_content": null,
       "align_items": null,
       "align_self": null,
       "border": null,
       "bottom": null,
       "display": null,
       "flex": null,
       "flex_flow": null,
       "grid_area": null,
       "grid_auto_columns": null,
       "grid_auto_flow": null,
       "grid_auto_rows": null,
       "grid_column": null,
       "grid_gap": null,
       "grid_row": null,
       "grid_template_areas": null,
       "grid_template_columns": null,
       "grid_template_rows": null,
       "height": null,
       "justify_content": null,
       "justify_items": null,
       "left": null,
       "margin": null,
       "max_height": null,
       "max_width": null,
       "min_height": null,
       "min_width": null,
       "object_fit": null,
       "object_position": null,
       "order": null,
       "overflow": null,
       "overflow_x": null,
       "overflow_y": null,
       "padding": null,
       "right": null,
       "top": null,
       "visibility": null,
       "width": null
      }
     },
     "55acbe635ff845cea1f44c10826a03a8": {
      "model_module": "@jupyter-widgets/base",
      "model_module_version": "1.2.0",
      "model_name": "LayoutModel",
      "state": {
       "_model_module": "@jupyter-widgets/base",
       "_model_module_version": "1.2.0",
       "_model_name": "LayoutModel",
       "_view_count": null,
       "_view_module": "@jupyter-widgets/base",
       "_view_module_version": "1.2.0",
       "_view_name": "LayoutView",
       "align_content": null,
       "align_items": null,
       "align_self": null,
       "border": null,
       "bottom": null,
       "display": null,
       "flex": null,
       "flex_flow": null,
       "grid_area": null,
       "grid_auto_columns": null,
       "grid_auto_flow": null,
       "grid_auto_rows": null,
       "grid_column": null,
       "grid_gap": null,
       "grid_row": null,
       "grid_template_areas": null,
       "grid_template_columns": null,
       "grid_template_rows": null,
       "height": null,
       "justify_content": null,
       "justify_items": null,
       "left": null,
       "margin": null,
       "max_height": null,
       "max_width": null,
       "min_height": null,
       "min_width": null,
       "object_fit": null,
       "object_position": null,
       "order": null,
       "overflow": null,
       "overflow_x": null,
       "overflow_y": null,
       "padding": null,
       "right": null,
       "top": null,
       "visibility": null,
       "width": null
      }
     },
     "5bda0d719ec44fd1907ceaeec4791af0": {
      "model_module": "@jupyter-widgets/controls",
      "model_module_version": "1.5.0",
      "model_name": "HTMLModel",
      "state": {
       "_dom_classes": [],
       "_model_module": "@jupyter-widgets/controls",
       "_model_module_version": "1.5.0",
       "_model_name": "HTMLModel",
       "_view_count": null,
       "_view_module": "@jupyter-widgets/controls",
       "_view_module_version": "1.5.0",
       "_view_name": "HTMLView",
       "description": "",
       "description_tooltip": null,
       "layout": "IPY_MODEL_28716ce0d5504c4eacd82e70d32c26e2",
       "placeholder": "​",
       "style": "IPY_MODEL_840b0f451038453bac3fe85922b29165",
       "value": "Downloading model.safetensors: 100%"
      }
     },
     "623389938d1e4902b644e7ea399a616e": {
      "model_module": "@jupyter-widgets/base",
      "model_module_version": "1.2.0",
      "model_name": "LayoutModel",
      "state": {
       "_model_module": "@jupyter-widgets/base",
       "_model_module_version": "1.2.0",
       "_model_name": "LayoutModel",
       "_view_count": null,
       "_view_module": "@jupyter-widgets/base",
       "_view_module_version": "1.2.0",
       "_view_name": "LayoutView",
       "align_content": null,
       "align_items": null,
       "align_self": null,
       "border": null,
       "bottom": null,
       "display": null,
       "flex": null,
       "flex_flow": null,
       "grid_area": null,
       "grid_auto_columns": null,
       "grid_auto_flow": null,
       "grid_auto_rows": null,
       "grid_column": null,
       "grid_gap": null,
       "grid_row": null,
       "grid_template_areas": null,
       "grid_template_columns": null,
       "grid_template_rows": null,
       "height": null,
       "justify_content": null,
       "justify_items": null,
       "left": null,
       "margin": null,
       "max_height": null,
       "max_width": null,
       "min_height": null,
       "min_width": null,
       "object_fit": null,
       "object_position": null,
       "order": null,
       "overflow": null,
       "overflow_x": null,
       "overflow_y": null,
       "padding": null,
       "right": null,
       "top": null,
       "visibility": null,
       "width": null
      }
     },
     "630a76c3dac945ef810c8d2709c43909": {
      "model_module": "@jupyter-widgets/controls",
      "model_module_version": "1.5.0",
      "model_name": "HTMLModel",
      "state": {
       "_dom_classes": [],
       "_model_module": "@jupyter-widgets/controls",
       "_model_module_version": "1.5.0",
       "_model_name": "HTMLModel",
       "_view_count": null,
       "_view_module": "@jupyter-widgets/controls",
       "_view_module_version": "1.5.0",
       "_view_name": "HTMLView",
       "description": "",
       "description_tooltip": null,
       "layout": "IPY_MODEL_440372b64f874e61afde92465cdbc75a",
       "placeholder": "​",
       "style": "IPY_MODEL_19161900e0ac4f348ad9a54c86cddf46",
       "value": "Downloading (…)lve/main/config.json: 100%"
      }
     },
     "65d02fd5056742f0a30ed9e16799ac81": {
      "model_module": "@jupyter-widgets/base",
      "model_module_version": "1.2.0",
      "model_name": "LayoutModel",
      "state": {
       "_model_module": "@jupyter-widgets/base",
       "_model_module_version": "1.2.0",
       "_model_name": "LayoutModel",
       "_view_count": null,
       "_view_module": "@jupyter-widgets/base",
       "_view_module_version": "1.2.0",
       "_view_name": "LayoutView",
       "align_content": null,
       "align_items": null,
       "align_self": null,
       "border": null,
       "bottom": null,
       "display": null,
       "flex": null,
       "flex_flow": null,
       "grid_area": null,
       "grid_auto_columns": null,
       "grid_auto_flow": null,
       "grid_auto_rows": null,
       "grid_column": null,
       "grid_gap": null,
       "grid_row": null,
       "grid_template_areas": null,
       "grid_template_columns": null,
       "grid_template_rows": null,
       "height": null,
       "justify_content": null,
       "justify_items": null,
       "left": null,
       "margin": null,
       "max_height": null,
       "max_width": null,
       "min_height": null,
       "min_width": null,
       "object_fit": null,
       "object_position": null,
       "order": null,
       "overflow": null,
       "overflow_x": null,
       "overflow_y": null,
       "padding": null,
       "right": null,
       "top": null,
       "visibility": null,
       "width": null
      }
     },
     "6779a53fad83467aa14b411993358129": {
      "model_module": "@jupyter-widgets/controls",
      "model_module_version": "1.5.0",
      "model_name": "FloatProgressModel",
      "state": {
       "_dom_classes": [],
       "_model_module": "@jupyter-widgets/controls",
       "_model_module_version": "1.5.0",
       "_model_name": "FloatProgressModel",
       "_view_count": null,
       "_view_module": "@jupyter-widgets/controls",
       "_view_module_version": "1.5.0",
       "_view_name": "ProgressView",
       "bar_style": "success",
       "description": "",
       "description_tooltip": null,
       "layout": "IPY_MODEL_55acbe635ff845cea1f44c10826a03a8",
       "max": 456318.0,
       "min": 0.0,
       "orientation": "horizontal",
       "style": "IPY_MODEL_932668af82c54485934d5a80b10bef61",
       "value": 456318.0
      }
     },
     "67cce2d942c94d4285201e5a0979957e": {
      "model_module": "@jupyter-widgets/base",
      "model_module_version": "1.2.0",
      "model_name": "LayoutModel",
      "state": {
       "_model_module": "@jupyter-widgets/base",
       "_model_module_version": "1.2.0",
       "_model_name": "LayoutModel",
       "_view_count": null,
       "_view_module": "@jupyter-widgets/base",
       "_view_module_version": "1.2.0",
       "_view_name": "LayoutView",
       "align_content": null,
       "align_items": null,
       "align_self": null,
       "border": null,
       "bottom": null,
       "display": null,
       "flex": null,
       "flex_flow": null,
       "grid_area": null,
       "grid_auto_columns": null,
       "grid_auto_flow": null,
       "grid_auto_rows": null,
       "grid_column": null,
       "grid_gap": null,
       "grid_row": null,
       "grid_template_areas": null,
       "grid_template_columns": null,
       "grid_template_rows": null,
       "height": null,
       "justify_content": null,
       "justify_items": null,
       "left": null,
       "margin": null,
       "max_height": null,
       "max_width": null,
       "min_height": null,
       "min_width": null,
       "object_fit": null,
       "object_position": null,
       "order": null,
       "overflow": null,
       "overflow_x": null,
       "overflow_y": null,
       "padding": null,
       "right": null,
       "top": null,
       "visibility": null,
       "width": null
      }
     },
     "6b432355eba8408fb5205351325f1799": {
      "model_module": "@jupyter-widgets/controls",
      "model_module_version": "1.5.0",
      "model_name": "HBoxModel",
      "state": {
       "_dom_classes": [],
       "_model_module": "@jupyter-widgets/controls",
       "_model_module_version": "1.5.0",
       "_model_name": "HBoxModel",
       "_view_count": null,
       "_view_module": "@jupyter-widgets/controls",
       "_view_module_version": "1.5.0",
       "_view_name": "HBoxView",
       "box_style": "",
       "children": [
        "IPY_MODEL_934c4774a906499592e9fe6e78f88fbd",
        "IPY_MODEL_41951cd742b44a0899a15af5a04fd6db",
        "IPY_MODEL_ae514cee82234f5d94fd6fe99b4a5e4c"
       ],
       "layout": "IPY_MODEL_65d02fd5056742f0a30ed9e16799ac81"
      }
     },
     "6f1561820d9a47b79c8c31a01c95941a": {
      "model_module": "@jupyter-widgets/controls",
      "model_module_version": "1.5.0",
      "model_name": "HTMLModel",
      "state": {
       "_dom_classes": [],
       "_model_module": "@jupyter-widgets/controls",
       "_model_module_version": "1.5.0",
       "_model_name": "HTMLModel",
       "_view_count": null,
       "_view_module": "@jupyter-widgets/controls",
       "_view_module_version": "1.5.0",
       "_view_name": "HTMLView",
       "description": "",
       "description_tooltip": null,
       "layout": "IPY_MODEL_e5d505e627364d6a9bbd5fd33046bb84",
       "placeholder": "​",
       "style": "IPY_MODEL_36429c8b35fd49beb02c8d395a453d33",
       "value": " 558M/558M [00:03&lt;00:00, 187MB/s]"
      }
     },
     "71b05466d602431ea7e9208d7a90ee87": {
      "model_module": "@jupyter-widgets/controls",
      "model_module_version": "1.5.0",
      "model_name": "DescriptionStyleModel",
      "state": {
       "_model_module": "@jupyter-widgets/controls",
       "_model_module_version": "1.5.0",
       "_model_name": "DescriptionStyleModel",
       "_view_count": null,
       "_view_module": "@jupyter-widgets/base",
       "_view_module_version": "1.2.0",
       "_view_name": "StyleView",
       "description_width": ""
      }
     },
     "73902c127e60418eb20e7be5a5c0d033": {
      "model_module": "@jupyter-widgets/base",
      "model_module_version": "1.2.0",
      "model_name": "LayoutModel",
      "state": {
       "_model_module": "@jupyter-widgets/base",
       "_model_module_version": "1.2.0",
       "_model_name": "LayoutModel",
       "_view_count": null,
       "_view_module": "@jupyter-widgets/base",
       "_view_module_version": "1.2.0",
       "_view_name": "LayoutView",
       "align_content": null,
       "align_items": null,
       "align_self": null,
       "border": null,
       "bottom": null,
       "display": null,
       "flex": null,
       "flex_flow": null,
       "grid_area": null,
       "grid_auto_columns": null,
       "grid_auto_flow": null,
       "grid_auto_rows": null,
       "grid_column": null,
       "grid_gap": null,
       "grid_row": null,
       "grid_template_areas": null,
       "grid_template_columns": null,
       "grid_template_rows": null,
       "height": null,
       "justify_content": null,
       "justify_items": null,
       "left": null,
       "margin": null,
       "max_height": null,
       "max_width": null,
       "min_height": null,
       "min_width": null,
       "object_fit": null,
       "object_position": null,
       "order": null,
       "overflow": null,
       "overflow_x": null,
       "overflow_y": null,
       "padding": null,
       "right": null,
       "top": null,
       "visibility": null,
       "width": null
      }
     },
     "7c18f8e45bcf471cb5340ea0c00b3253": {
      "model_module": "@jupyter-widgets/base",
      "model_module_version": "1.2.0",
      "model_name": "LayoutModel",
      "state": {
       "_model_module": "@jupyter-widgets/base",
       "_model_module_version": "1.2.0",
       "_model_name": "LayoutModel",
       "_view_count": null,
       "_view_module": "@jupyter-widgets/base",
       "_view_module_version": "1.2.0",
       "_view_name": "LayoutView",
       "align_content": null,
       "align_items": null,
       "align_self": null,
       "border": null,
       "bottom": null,
       "display": null,
       "flex": null,
       "flex_flow": null,
       "grid_area": null,
       "grid_auto_columns": null,
       "grid_auto_flow": null,
       "grid_auto_rows": null,
       "grid_column": null,
       "grid_gap": null,
       "grid_row": null,
       "grid_template_areas": null,
       "grid_template_columns": null,
       "grid_template_rows": null,
       "height": null,
       "justify_content": null,
       "justify_items": null,
       "left": null,
       "margin": null,
       "max_height": null,
       "max_width": null,
       "min_height": null,
       "min_width": null,
       "object_fit": null,
       "object_position": null,
       "order": null,
       "overflow": null,
       "overflow_x": null,
       "overflow_y": null,
       "padding": null,
       "right": null,
       "top": null,
       "visibility": null,
       "width": null
      }
     },
     "813beb4d475843f08554a71dd463fff2": {
      "model_module": "@jupyter-widgets/base",
      "model_module_version": "1.2.0",
      "model_name": "LayoutModel",
      "state": {
       "_model_module": "@jupyter-widgets/base",
       "_model_module_version": "1.2.0",
       "_model_name": "LayoutModel",
       "_view_count": null,
       "_view_module": "@jupyter-widgets/base",
       "_view_module_version": "1.2.0",
       "_view_name": "LayoutView",
       "align_content": null,
       "align_items": null,
       "align_self": null,
       "border": null,
       "bottom": null,
       "display": null,
       "flex": null,
       "flex_flow": null,
       "grid_area": null,
       "grid_auto_columns": null,
       "grid_auto_flow": null,
       "grid_auto_rows": null,
       "grid_column": null,
       "grid_gap": null,
       "grid_row": null,
       "grid_template_areas": null,
       "grid_template_columns": null,
       "grid_template_rows": null,
       "height": null,
       "justify_content": null,
       "justify_items": null,
       "left": null,
       "margin": null,
       "max_height": null,
       "max_width": null,
       "min_height": null,
       "min_width": null,
       "object_fit": null,
       "object_position": null,
       "order": null,
       "overflow": null,
       "overflow_x": null,
       "overflow_y": null,
       "padding": null,
       "right": null,
       "top": null,
       "visibility": null,
       "width": null
      }
     },
     "8374ef9d0f58480f830658413a5110d1": {
      "model_module": "@jupyter-widgets/controls",
      "model_module_version": "1.5.0",
      "model_name": "DescriptionStyleModel",
      "state": {
       "_model_module": "@jupyter-widgets/controls",
       "_model_module_version": "1.5.0",
       "_model_name": "DescriptionStyleModel",
       "_view_count": null,
       "_view_module": "@jupyter-widgets/base",
       "_view_module_version": "1.2.0",
       "_view_name": "StyleView",
       "description_width": ""
      }
     },
     "840b0f451038453bac3fe85922b29165": {
      "model_module": "@jupyter-widgets/controls",
      "model_module_version": "1.5.0",
      "model_name": "DescriptionStyleModel",
      "state": {
       "_model_module": "@jupyter-widgets/controls",
       "_model_module_version": "1.5.0",
       "_model_name": "DescriptionStyleModel",
       "_view_count": null,
       "_view_module": "@jupyter-widgets/base",
       "_view_module_version": "1.2.0",
       "_view_name": "StyleView",
       "description_width": ""
      }
     },
     "932668af82c54485934d5a80b10bef61": {
      "model_module": "@jupyter-widgets/controls",
      "model_module_version": "1.5.0",
      "model_name": "ProgressStyleModel",
      "state": {
       "_model_module": "@jupyter-widgets/controls",
       "_model_module_version": "1.5.0",
       "_model_name": "ProgressStyleModel",
       "_view_count": null,
       "_view_module": "@jupyter-widgets/base",
       "_view_module_version": "1.2.0",
       "_view_name": "StyleView",
       "bar_color": null,
       "description_width": ""
      }
     },
     "934c4774a906499592e9fe6e78f88fbd": {
      "model_module": "@jupyter-widgets/controls",
      "model_module_version": "1.5.0",
      "model_name": "HTMLModel",
      "state": {
       "_dom_classes": [],
       "_model_module": "@jupyter-widgets/controls",
       "_model_module_version": "1.5.0",
       "_model_name": "HTMLModel",
       "_view_count": null,
       "_view_module": "@jupyter-widgets/controls",
       "_view_module_version": "1.5.0",
       "_view_name": "HTMLView",
       "description": "",
       "description_tooltip": null,
       "layout": "IPY_MODEL_623389938d1e4902b644e7ea399a616e",
       "placeholder": "​",
       "style": "IPY_MODEL_c637716dce5246e0847296a82a932bc6",
       "value": "Downloading (…)olve/main/vocab.json: 100%"
      }
     },
     "9480ab6f0cd34406a6685a811d9eb1da": {
      "model_module": "@jupyter-widgets/controls",
      "model_module_version": "1.5.0",
      "model_name": "HTMLModel",
      "state": {
       "_dom_classes": [],
       "_model_module": "@jupyter-widgets/controls",
       "_model_module_version": "1.5.0",
       "_model_name": "HTMLModel",
       "_view_count": null,
       "_view_module": "@jupyter-widgets/controls",
       "_view_module_version": "1.5.0",
       "_view_name": "HTMLView",
       "description": "",
       "description_tooltip": null,
       "layout": "IPY_MODEL_2caad2045b934bca93fb69c8ffd63ba7",
       "placeholder": "​",
       "style": "IPY_MODEL_b62d79514ea84264a72076ff4a40db90",
       "value": "Downloading (…)/main/tokenizer.json: 100%"
      }
     },
     "98160f72ac5b4e84bb20029881187fc5": {
      "model_module": "@jupyter-widgets/controls",
      "model_module_version": "1.5.0",
      "model_name": "HTMLModel",
      "state": {
       "_dom_classes": [],
       "_model_module": "@jupyter-widgets/controls",
       "_model_module_version": "1.5.0",
       "_model_name": "HTMLModel",
       "_view_count": null,
       "_view_module": "@jupyter-widgets/controls",
       "_view_module_version": "1.5.0",
       "_view_name": "HTMLView",
       "description": "",
       "description_tooltip": null,
       "layout": "IPY_MODEL_d23e7f4412104ed880aa52f81b44bd94",
       "placeholder": "​",
       "style": "IPY_MODEL_8374ef9d0f58480f830658413a5110d1",
       "value": " 1.36M/1.36M [00:00&lt;00:00, 6.32MB/s]"
      }
     },
     "a38199d9dfde4d66827c49db8c9f246a": {
      "model_module": "@jupyter-widgets/controls",
      "model_module_version": "1.5.0",
      "model_name": "FloatProgressModel",
      "state": {
       "_dom_classes": [],
       "_model_module": "@jupyter-widgets/controls",
       "_model_module_version": "1.5.0",
       "_model_name": "FloatProgressModel",
       "_view_count": null,
       "_view_module": "@jupyter-widgets/controls",
       "_view_module_version": "1.5.0",
       "_view_name": "ProgressView",
       "bar_style": "success",
       "description": "",
       "description_tooltip": null,
       "layout": "IPY_MODEL_e3fb7fec09ba440090a87855d17f73fe",
       "max": 557709915.0,
       "min": 0.0,
       "orientation": "horizontal",
       "style": "IPY_MODEL_fb543e9dfb754a8aba106edb8e359bcd",
       "value": 557709915.0
      }
     },
     "a77d8d3083714b39b56c3a33db60b27f": {
      "model_module": "@jupyter-widgets/controls",
      "model_module_version": "1.5.0",
      "model_name": "HBoxModel",
      "state": {
       "_dom_classes": [],
       "_model_module": "@jupyter-widgets/controls",
       "_model_module_version": "1.5.0",
       "_model_name": "HBoxModel",
       "_view_count": null,
       "_view_module": "@jupyter-widgets/controls",
       "_view_module_version": "1.5.0",
       "_view_name": "HBoxView",
       "box_style": "",
       "children": [
        "IPY_MODEL_5bda0d719ec44fd1907ceaeec4791af0",
        "IPY_MODEL_a38199d9dfde4d66827c49db8c9f246a",
        "IPY_MODEL_6f1561820d9a47b79c8c31a01c95941a"
       ],
       "layout": "IPY_MODEL_73902c127e60418eb20e7be5a5c0d033"
      }
     },
     "ae514cee82234f5d94fd6fe99b4a5e4c": {
      "model_module": "@jupyter-widgets/controls",
      "model_module_version": "1.5.0",
      "model_name": "HTMLModel",
      "state": {
       "_dom_classes": [],
       "_model_module": "@jupyter-widgets/controls",
       "_model_module_version": "1.5.0",
       "_model_name": "HTMLModel",
       "_view_count": null,
       "_view_module": "@jupyter-widgets/controls",
       "_view_module_version": "1.5.0",
       "_view_name": "HTMLView",
       "description": "",
       "description_tooltip": null,
       "layout": "IPY_MODEL_c963b9d416f74df2a2a08444b7e613cf",
       "placeholder": "​",
       "style": "IPY_MODEL_71b05466d602431ea7e9208d7a90ee87",
       "value": " 899k/899k [00:00&lt;00:00, 6.76MB/s]"
      }
     },
     "b62d79514ea84264a72076ff4a40db90": {
      "model_module": "@jupyter-widgets/controls",
      "model_module_version": "1.5.0",
      "model_name": "DescriptionStyleModel",
      "state": {
       "_model_module": "@jupyter-widgets/controls",
       "_model_module_version": "1.5.0",
       "_model_name": "DescriptionStyleModel",
       "_view_count": null,
       "_view_module": "@jupyter-widgets/base",
       "_view_module_version": "1.2.0",
       "_view_name": "StyleView",
       "description_width": ""
      }
     },
     "bca1c523dd444c9b9b43b86d2b0db706": {
      "model_module": "@jupyter-widgets/base",
      "model_module_version": "1.2.0",
      "model_name": "LayoutModel",
      "state": {
       "_model_module": "@jupyter-widgets/base",
       "_model_module_version": "1.2.0",
       "_model_name": "LayoutModel",
       "_view_count": null,
       "_view_module": "@jupyter-widgets/base",
       "_view_module_version": "1.2.0",
       "_view_name": "LayoutView",
       "align_content": null,
       "align_items": null,
       "align_self": null,
       "border": null,
       "bottom": null,
       "display": null,
       "flex": null,
       "flex_flow": null,
       "grid_area": null,
       "grid_auto_columns": null,
       "grid_auto_flow": null,
       "grid_auto_rows": null,
       "grid_column": null,
       "grid_gap": null,
       "grid_row": null,
       "grid_template_areas": null,
       "grid_template_columns": null,
       "grid_template_rows": null,
       "height": null,
       "justify_content": null,
       "justify_items": null,
       "left": null,
       "margin": null,
       "max_height": null,
       "max_width": null,
       "min_height": null,
       "min_width": null,
       "object_fit": null,
       "object_position": null,
       "order": null,
       "overflow": null,
       "overflow_x": null,
       "overflow_y": null,
       "padding": null,
       "right": null,
       "top": null,
       "visibility": null,
       "width": null
      }
     },
     "bdd03ae079b44852b2d40d71f77c5b2a": {
      "model_module": "@jupyter-widgets/controls",
      "model_module_version": "1.5.0",
      "model_name": "HBoxModel",
      "state": {
       "_dom_classes": [],
       "_model_module": "@jupyter-widgets/controls",
       "_model_module_version": "1.5.0",
       "_model_name": "HBoxModel",
       "_view_count": null,
       "_view_module": "@jupyter-widgets/controls",
       "_view_module_version": "1.5.0",
       "_view_name": "HBoxView",
       "box_style": "",
       "children": [
        "IPY_MODEL_ca5fc719415444d4935077a2118fac9f",
        "IPY_MODEL_6779a53fad83467aa14b411993358129",
        "IPY_MODEL_40f309deeb3743568bffdb55ffd46294"
       ],
       "layout": "IPY_MODEL_dc8054ab65474d62952d5858c6c90987"
      }
     },
     "c637716dce5246e0847296a82a932bc6": {
      "model_module": "@jupyter-widgets/controls",
      "model_module_version": "1.5.0",
      "model_name": "DescriptionStyleModel",
      "state": {
       "_model_module": "@jupyter-widgets/controls",
       "_model_module_version": "1.5.0",
       "_model_name": "DescriptionStyleModel",
       "_view_count": null,
       "_view_module": "@jupyter-widgets/base",
       "_view_module_version": "1.2.0",
       "_view_name": "StyleView",
       "description_width": ""
      }
     },
     "c963b9d416f74df2a2a08444b7e613cf": {
      "model_module": "@jupyter-widgets/base",
      "model_module_version": "1.2.0",
      "model_name": "LayoutModel",
      "state": {
       "_model_module": "@jupyter-widgets/base",
       "_model_module_version": "1.2.0",
       "_model_name": "LayoutModel",
       "_view_count": null,
       "_view_module": "@jupyter-widgets/base",
       "_view_module_version": "1.2.0",
       "_view_name": "LayoutView",
       "align_content": null,
       "align_items": null,
       "align_self": null,
       "border": null,
       "bottom": null,
       "display": null,
       "flex": null,
       "flex_flow": null,
       "grid_area": null,
       "grid_auto_columns": null,
       "grid_auto_flow": null,
       "grid_auto_rows": null,
       "grid_column": null,
       "grid_gap": null,
       "grid_row": null,
       "grid_template_areas": null,
       "grid_template_columns": null,
       "grid_template_rows": null,
       "height": null,
       "justify_content": null,
       "justify_items": null,
       "left": null,
       "margin": null,
       "max_height": null,
       "max_width": null,
       "min_height": null,
       "min_width": null,
       "object_fit": null,
       "object_position": null,
       "order": null,
       "overflow": null,
       "overflow_x": null,
       "overflow_y": null,
       "padding": null,
       "right": null,
       "top": null,
       "visibility": null,
       "width": null
      }
     },
     "ca5fc719415444d4935077a2118fac9f": {
      "model_module": "@jupyter-widgets/controls",
      "model_module_version": "1.5.0",
      "model_name": "HTMLModel",
      "state": {
       "_dom_classes": [],
       "_model_module": "@jupyter-widgets/controls",
       "_model_module_version": "1.5.0",
       "_model_name": "HTMLModel",
       "_view_count": null,
       "_view_module": "@jupyter-widgets/controls",
       "_view_module_version": "1.5.0",
       "_view_name": "HTMLView",
       "description": "",
       "description_tooltip": null,
       "layout": "IPY_MODEL_2cb9331db13f412f9124b415b2df5ef3",
       "placeholder": "​",
       "style": "IPY_MODEL_f52e4b2e69d745eaafc12d6091b48505",
       "value": "Downloading (…)olve/main/merges.txt: 100%"
      }
     },
     "d23e7f4412104ed880aa52f81b44bd94": {
      "model_module": "@jupyter-widgets/base",
      "model_module_version": "1.2.0",
      "model_name": "LayoutModel",
      "state": {
       "_model_module": "@jupyter-widgets/base",
       "_model_module_version": "1.2.0",
       "_model_name": "LayoutModel",
       "_view_count": null,
       "_view_module": "@jupyter-widgets/base",
       "_view_module_version": "1.2.0",
       "_view_name": "LayoutView",
       "align_content": null,
       "align_items": null,
       "align_self": null,
       "border": null,
       "bottom": null,
       "display": null,
       "flex": null,
       "flex_flow": null,
       "grid_area": null,
       "grid_auto_columns": null,
       "grid_auto_flow": null,
       "grid_auto_rows": null,
       "grid_column": null,
       "grid_gap": null,
       "grid_row": null,
       "grid_template_areas": null,
       "grid_template_columns": null,
       "grid_template_rows": null,
       "height": null,
       "justify_content": null,
       "justify_items": null,
       "left": null,
       "margin": null,
       "max_height": null,
       "max_width": null,
       "min_height": null,
       "min_width": null,
       "object_fit": null,
       "object_position": null,
       "order": null,
       "overflow": null,
       "overflow_x": null,
       "overflow_y": null,
       "padding": null,
       "right": null,
       "top": null,
       "visibility": null,
       "width": null
      }
     },
     "da1087d3b39a45a496849784066f66e6": {
      "model_module": "@jupyter-widgets/controls",
      "model_module_version": "1.5.0",
      "model_name": "DescriptionStyleModel",
      "state": {
       "_model_module": "@jupyter-widgets/controls",
       "_model_module_version": "1.5.0",
       "_model_name": "DescriptionStyleModel",
       "_view_count": null,
       "_view_module": "@jupyter-widgets/base",
       "_view_module_version": "1.2.0",
       "_view_name": "StyleView",
       "description_width": ""
      }
     },
     "dc8054ab65474d62952d5858c6c90987": {
      "model_module": "@jupyter-widgets/base",
      "model_module_version": "1.2.0",
      "model_name": "LayoutModel",
      "state": {
       "_model_module": "@jupyter-widgets/base",
       "_model_module_version": "1.2.0",
       "_model_name": "LayoutModel",
       "_view_count": null,
       "_view_module": "@jupyter-widgets/base",
       "_view_module_version": "1.2.0",
       "_view_name": "LayoutView",
       "align_content": null,
       "align_items": null,
       "align_self": null,
       "border": null,
       "bottom": null,
       "display": null,
       "flex": null,
       "flex_flow": null,
       "grid_area": null,
       "grid_auto_columns": null,
       "grid_auto_flow": null,
       "grid_auto_rows": null,
       "grid_column": null,
       "grid_gap": null,
       "grid_row": null,
       "grid_template_areas": null,
       "grid_template_columns": null,
       "grid_template_rows": null,
       "height": null,
       "justify_content": null,
       "justify_items": null,
       "left": null,
       "margin": null,
       "max_height": null,
       "max_width": null,
       "min_height": null,
       "min_width": null,
       "object_fit": null,
       "object_position": null,
       "order": null,
       "overflow": null,
       "overflow_x": null,
       "overflow_y": null,
       "padding": null,
       "right": null,
       "top": null,
       "visibility": null,
       "width": null
      }
     },
     "e3fb7fec09ba440090a87855d17f73fe": {
      "model_module": "@jupyter-widgets/base",
      "model_module_version": "1.2.0",
      "model_name": "LayoutModel",
      "state": {
       "_model_module": "@jupyter-widgets/base",
       "_model_module_version": "1.2.0",
       "_model_name": "LayoutModel",
       "_view_count": null,
       "_view_module": "@jupyter-widgets/base",
       "_view_module_version": "1.2.0",
       "_view_name": "LayoutView",
       "align_content": null,
       "align_items": null,
       "align_self": null,
       "border": null,
       "bottom": null,
       "display": null,
       "flex": null,
       "flex_flow": null,
       "grid_area": null,
       "grid_auto_columns": null,
       "grid_auto_flow": null,
       "grid_auto_rows": null,
       "grid_column": null,
       "grid_gap": null,
       "grid_row": null,
       "grid_template_areas": null,
       "grid_template_columns": null,
       "grid_template_rows": null,
       "height": null,
       "justify_content": null,
       "justify_items": null,
       "left": null,
       "margin": null,
       "max_height": null,
       "max_width": null,
       "min_height": null,
       "min_width": null,
       "object_fit": null,
       "object_position": null,
       "order": null,
       "overflow": null,
       "overflow_x": null,
       "overflow_y": null,
       "padding": null,
       "right": null,
       "top": null,
       "visibility": null,
       "width": null
      }
     },
     "e5d505e627364d6a9bbd5fd33046bb84": {
      "model_module": "@jupyter-widgets/base",
      "model_module_version": "1.2.0",
      "model_name": "LayoutModel",
      "state": {
       "_model_module": "@jupyter-widgets/base",
       "_model_module_version": "1.2.0",
       "_model_name": "LayoutModel",
       "_view_count": null,
       "_view_module": "@jupyter-widgets/base",
       "_view_module_version": "1.2.0",
       "_view_name": "LayoutView",
       "align_content": null,
       "align_items": null,
       "align_self": null,
       "border": null,
       "bottom": null,
       "display": null,
       "flex": null,
       "flex_flow": null,
       "grid_area": null,
       "grid_auto_columns": null,
       "grid_auto_flow": null,
       "grid_auto_rows": null,
       "grid_column": null,
       "grid_gap": null,
       "grid_row": null,
       "grid_template_areas": null,
       "grid_template_columns": null,
       "grid_template_rows": null,
       "height": null,
       "justify_content": null,
       "justify_items": null,
       "left": null,
       "margin": null,
       "max_height": null,
       "max_width": null,
       "min_height": null,
       "min_width": null,
       "object_fit": null,
       "object_position": null,
       "order": null,
       "overflow": null,
       "overflow_x": null,
       "overflow_y": null,
       "padding": null,
       "right": null,
       "top": null,
       "visibility": null,
       "width": null
      }
     },
     "f52e4b2e69d745eaafc12d6091b48505": {
      "model_module": "@jupyter-widgets/controls",
      "model_module_version": "1.5.0",
      "model_name": "DescriptionStyleModel",
      "state": {
       "_model_module": "@jupyter-widgets/controls",
       "_model_module_version": "1.5.0",
       "_model_name": "DescriptionStyleModel",
       "_view_count": null,
       "_view_module": "@jupyter-widgets/base",
       "_view_module_version": "1.2.0",
       "_view_name": "StyleView",
       "description_width": ""
      }
     },
     "f8697c0e42844c0ebfa538aad9bc34e5": {
      "model_module": "@jupyter-widgets/controls",
      "model_module_version": "1.5.0",
      "model_name": "FloatProgressModel",
      "state": {
       "_dom_classes": [],
       "_model_module": "@jupyter-widgets/controls",
       "_model_module_version": "1.5.0",
       "_model_name": "FloatProgressModel",
       "_view_count": null,
       "_view_module": "@jupyter-widgets/controls",
       "_view_module_version": "1.5.0",
       "_view_name": "ProgressView",
       "bar_style": "success",
       "description": "",
       "description_tooltip": null,
       "layout": "IPY_MODEL_0e40beefa7534a56af02ee0c7d981759",
       "max": 1716.0,
       "min": 0.0,
       "orientation": "horizontal",
       "style": "IPY_MODEL_0100c22839fb41a1a53e3afb896e6ab3",
       "value": 1716.0
      }
     },
     "fa71f7cc9cef420090ef5d67e9e6dd8f": {
      "model_module": "@jupyter-widgets/controls",
      "model_module_version": "1.5.0",
      "model_name": "FloatProgressModel",
      "state": {
       "_dom_classes": [],
       "_model_module": "@jupyter-widgets/controls",
       "_model_module_version": "1.5.0",
       "_model_name": "FloatProgressModel",
       "_view_count": null,
       "_view_module": "@jupyter-widgets/controls",
       "_view_module_version": "1.5.0",
       "_view_name": "ProgressView",
       "bar_style": "success",
       "description": "",
       "description_tooltip": null,
       "layout": "IPY_MODEL_ffb8b04ab09a4099891cf7db8127a94c",
       "max": 1355863.0,
       "min": 0.0,
       "orientation": "horizontal",
       "style": "IPY_MODEL_2d9306f5488345dca446a139fb9c6a59",
       "value": 1355863.0
      }
     },
     "fb543e9dfb754a8aba106edb8e359bcd": {
      "model_module": "@jupyter-widgets/controls",
      "model_module_version": "1.5.0",
      "model_name": "ProgressStyleModel",
      "state": {
       "_model_module": "@jupyter-widgets/controls",
       "_model_module_version": "1.5.0",
       "_model_name": "ProgressStyleModel",
       "_view_count": null,
       "_view_module": "@jupyter-widgets/base",
       "_view_module_version": "1.2.0",
       "_view_name": "StyleView",
       "bar_color": null,
       "description_width": ""
      }
     },
     "ffb8b04ab09a4099891cf7db8127a94c": {
      "model_module": "@jupyter-widgets/base",
      "model_module_version": "1.2.0",
      "model_name": "LayoutModel",
      "state": {
       "_model_module": "@jupyter-widgets/base",
       "_model_module_version": "1.2.0",
       "_model_name": "LayoutModel",
       "_view_count": null,
       "_view_module": "@jupyter-widgets/base",
       "_view_module_version": "1.2.0",
       "_view_name": "LayoutView",
       "align_content": null,
       "align_items": null,
       "align_self": null,
       "border": null,
       "bottom": null,
       "display": null,
       "flex": null,
       "flex_flow": null,
       "grid_area": null,
       "grid_auto_columns": null,
       "grid_auto_flow": null,
       "grid_auto_rows": null,
       "grid_column": null,
       "grid_gap": null,
       "grid_row": null,
       "grid_template_areas": null,
       "grid_template_columns": null,
       "grid_template_rows": null,
       "height": null,
       "justify_content": null,
       "justify_items": null,
       "left": null,
       "margin": null,
       "max_height": null,
       "max_width": null,
       "min_height": null,
       "min_width": null,
       "object_fit": null,
       "object_position": null,
       "order": null,
       "overflow": null,
       "overflow_x": null,
       "overflow_y": null,
       "padding": null,
       "right": null,
       "top": null,
       "visibility": null,
       "width": null
      }
     }
    },
    "version_major": 2,
    "version_minor": 0
   }
  }
 },
 "nbformat": 4,
 "nbformat_minor": 5
}
