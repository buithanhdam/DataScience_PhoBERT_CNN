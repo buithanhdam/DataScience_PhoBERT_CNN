{
  "nbformat": 4,
  "nbformat_minor": 0,
  "metadata": {
    "colab": {
      "provenance": [],
      "collapsed_sections": [
        "_leEuhPQUiwC"
      ]
    },
    "kernelspec": {
      "name": "python3",
      "display_name": "Python 3"
    },
    "language_info": {
      "name": "python"
    }
  },
  "cells": [
    {
      "cell_type": "markdown",
      "source": [
        "# Pre"
      ],
      "metadata": {
        "id": "_leEuhPQUiwC"
      }
    },
    {
      "cell_type": "markdown",
      "source": [
        "Import libraries"
      ],
      "metadata": {
        "id": "iHxLSAJakHXy"
      }
    },
    {
      "cell_type": "code",
      "source": [
        "\n",
        "!pip install torch\n",
        "!pip install transformers"
      ],
      "metadata": {
        "colab": {
          "base_uri": "https://localhost:8080/"
        },
        "id": "_dpRJkj0WPxU",
        "outputId": "ba930632-9401-4730-9e63-9782841236a2"
      },
      "execution_count": null,
      "outputs": [
        {
          "output_type": "stream",
          "name": "stdout",
          "text": [
            "Requirement already satisfied: torch in /usr/local/lib/python3.10/dist-packages (2.1.0+cu118)\n",
            "Requirement already satisfied: filelock in /usr/local/lib/python3.10/dist-packages (from torch) (3.12.4)\n",
            "Requirement already satisfied: typing-extensions in /usr/local/lib/python3.10/dist-packages (from torch) (4.5.0)\n",
            "Requirement already satisfied: sympy in /usr/local/lib/python3.10/dist-packages (from torch) (1.12)\n",
            "Requirement already satisfied: networkx in /usr/local/lib/python3.10/dist-packages (from torch) (3.1)\n",
            "Requirement already satisfied: jinja2 in /usr/local/lib/python3.10/dist-packages (from torch) (3.1.2)\n",
            "Requirement already satisfied: fsspec in /usr/local/lib/python3.10/dist-packages (from torch) (2023.6.0)\n",
            "Requirement already satisfied: triton==2.1.0 in /usr/local/lib/python3.10/dist-packages (from torch) (2.1.0)\n",
            "Requirement already satisfied: MarkupSafe>=2.0 in /usr/local/lib/python3.10/dist-packages (from jinja2->torch) (2.1.3)\n",
            "Requirement already satisfied: mpmath>=0.19 in /usr/local/lib/python3.10/dist-packages (from sympy->torch) (1.3.0)\n",
            "Requirement already satisfied: transformers in /usr/local/lib/python3.10/dist-packages (4.34.1)\n",
            "Requirement already satisfied: filelock in /usr/local/lib/python3.10/dist-packages (from transformers) (3.12.4)\n",
            "Requirement already satisfied: huggingface-hub<1.0,>=0.16.4 in /usr/local/lib/python3.10/dist-packages (from transformers) (0.17.3)\n",
            "Requirement already satisfied: numpy>=1.17 in /usr/local/lib/python3.10/dist-packages (from transformers) (1.23.5)\n",
            "Requirement already satisfied: packaging>=20.0 in /usr/local/lib/python3.10/dist-packages (from transformers) (23.2)\n",
            "Requirement already satisfied: pyyaml>=5.1 in /usr/local/lib/python3.10/dist-packages (from transformers) (6.0.1)\n",
            "Requirement already satisfied: regex!=2019.12.17 in /usr/local/lib/python3.10/dist-packages (from transformers) (2023.6.3)\n",
            "Requirement already satisfied: requests in /usr/local/lib/python3.10/dist-packages (from transformers) (2.31.0)\n",
            "Requirement already satisfied: tokenizers<0.15,>=0.14 in /usr/local/lib/python3.10/dist-packages (from transformers) (0.14.1)\n",
            "Requirement already satisfied: safetensors>=0.3.1 in /usr/local/lib/python3.10/dist-packages (from transformers) (0.4.0)\n",
            "Requirement already satisfied: tqdm>=4.27 in /usr/local/lib/python3.10/dist-packages (from transformers) (4.66.1)\n",
            "Requirement already satisfied: fsspec in /usr/local/lib/python3.10/dist-packages (from huggingface-hub<1.0,>=0.16.4->transformers) (2023.6.0)\n",
            "Requirement already satisfied: typing-extensions>=3.7.4.3 in /usr/local/lib/python3.10/dist-packages (from huggingface-hub<1.0,>=0.16.4->transformers) (4.5.0)\n",
            "Requirement already satisfied: charset-normalizer<4,>=2 in /usr/local/lib/python3.10/dist-packages (from requests->transformers) (3.3.0)\n",
            "Requirement already satisfied: idna<4,>=2.5 in /usr/local/lib/python3.10/dist-packages (from requests->transformers) (3.4)\n",
            "Requirement already satisfied: urllib3<3,>=1.21.1 in /usr/local/lib/python3.10/dist-packages (from requests->transformers) (2.0.7)\n",
            "Requirement already satisfied: certifi>=2017.4.17 in /usr/local/lib/python3.10/dist-packages (from requests->transformers) (2023.7.22)\n"
          ]
        }
      ]
    },
    {
      "cell_type": "code",
      "execution_count": null,
      "metadata": {
        "id": "CmyovMvbjyXU"
      },
      "outputs": [],
      "source": [
        "import pandas as pd\n",
        "import json\n",
        "from sklearn.feature_extraction.text import TfidfVectorizer\n",
        "from sklearn.decomposition import TruncatedSVD\n",
        "import numpy as np\n",
        "import os, re, string\n",
        "import torch\n",
        "import re\n",
        "import torch.nn as nn\n",
        "import logging\n",
        "from transformers import AutoTokenizer,  PhobertTokenizer"
      ]
    },
    {
      "cell_type": "code",
      "source": [
        "# connect gg drive\n",
        "from google.colab import drive\n",
        "drive.mount('/content/gdrive')\n",
        "%cd '/content/gdrive/MyDrive/Colab Notebooks/Challenge'"
      ],
      "metadata": {
        "colab": {
          "base_uri": "https://localhost:8080/"
        },
        "id": "8xJWfXNdkcWR",
        "outputId": "7a9d036c-009e-48ad-e0f7-8a9ae12ad051"
      },
      "execution_count": null,
      "outputs": [
        {
          "output_type": "stream",
          "name": "stdout",
          "text": [
            "Drive already mounted at /content/gdrive; to attempt to forcibly remount, call drive.mount(\"/content/gdrive\", force_remount=True).\n",
            "/content/gdrive/MyDrive/Colab Notebooks/Challenge\n"
          ]
        }
      ]
    },
    {
      "cell_type": "code",
      "source": [
        "df = pd.read_json(\"ise-dsc01-train.json\")\n",
        "df = df.transpose()\n",
        "df.head(10)\n"
      ],
      "metadata": {
        "colab": {
          "base_uri": "https://localhost:8080/",
          "height": 537
        },
        "id": "pVV-GOSvlnXZ",
        "outputId": "5fd9e6b7-0717-478a-ed8e-2730bd19277c"
      },
      "execution_count": null,
      "outputs": [
        {
          "output_type": "execute_result",
          "data": {
            "text/plain": [
              "                                                context  \\\n",
              "7125  Phát biểu tại lễ ký kết vào ngày 17/11, Giám đ...   \n",
              "7126  Phát biểu tại lễ ký kết vào ngày 17/11, Giám đ...   \n",
              "7127  Phát biểu tại lễ ký kết vào ngày 17/11, Giám đ...   \n",
              "7128  Đối với các nhà khoa học, trí thức, điều kiện ...   \n",
              "7129  Đối với các nhà khoa học, trí thức, điều kiện ...   \n",
              "7130  Đối với các nhà khoa học, trí thức, điều kiện ...   \n",
              "7131  Thầy Anh kể, từ nhiều năm trước, thông tin về ...   \n",
              "7132  Thầy Anh kể, từ nhiều năm trước, thông tin về ...   \n",
              "7133  Thầy Anh kể, từ nhiều năm trước, thông tin về ...   \n",
              "7134  PGS.TS Nguyễn Quang Liệu, hiệu trưởng trường T...   \n",
              "\n",
              "                                                  claim    verdict  \\\n",
              "7125  Ngoài việc không giới hạn mức lương, công ty c...  SUPPORTED   \n",
              "7126  Thành lập năm 2016, phát triển phần mềm, tổ ch...  SUPPORTED   \n",
              "7127  Nhằm phát triển đội ngũ, FABA thường tổ chức n...  SUPPORTED   \n",
              "7128  Sở dĩ vị trí kỹ sư phần mềm có mức lương cao n...  SUPPORTED   \n",
              "7129  Theo Adeco Việt Nam, mức lương cao nhất đối vớ...  SUPPORTED   \n",
              "7130  Việc ủng hộ phương án vừa làm việc ở nước ngoà...  SUPPORTED   \n",
              "7131  Một học sinh tâm sự với thầy rằng không dám gó...  SUPPORTED   \n",
              "7132  Khi tiếp nhận, nếu nội dung phản ánh nằm ngoài...  SUPPORTED   \n",
              "7133  Ví dụ, năm 2020 một học sinh tại THCS Quỳnh Ph...  SUPPORTED   \n",
              "7134  Điểm xét tuyển là tổng điểm các môn thi theo t...  SUPPORTED   \n",
              "\n",
              "                                               evidence    domain  \n",
              "7125  Công ty cũng có chế độ đãi ngộ tốt, có lương t...  giao-duc  \n",
              "7126  FABA Technology thành lập năm 2016, chuyên cun...  giao-duc  \n",
              "7127  Bên cạnh đó, FABA thường xuyên tổ chức những d...  giao-duc  \n",
              "7128  Theo Adeco Việt Nam, mức lương cao nhất đối vớ...  giao-duc  \n",
              "7129  Trong khi đó, theo báo cáo \"Thị trường nhân lự...  giao-duc  \n",
              "7130  Tiến sĩ Liêm cũng ủng hộ phương án vừa làm việ...  giao-duc  \n",
              "7131  Học sinh này tâm sự rằng các em rất muốn được ...  giao-duc  \n",
              "7132  Nhận tin báo, thầy Anh chuyển nội dung tới côn...  giao-duc  \n",
              "7133  Hơn hai năm công bố số điện thoại, vị hiệu trư...  giao-duc  \n",
              "7134  Trường không cộng điểm ưu tiên trong tuyển sin...  giao-duc  "
            ],
            "text/html": [
              "\n",
              "  <div id=\"df-53970b08-6d27-42b2-b37b-181d9bd6244c\" class=\"colab-df-container\">\n",
              "    <div>\n",
              "<style scoped>\n",
              "    .dataframe tbody tr th:only-of-type {\n",
              "        vertical-align: middle;\n",
              "    }\n",
              "\n",
              "    .dataframe tbody tr th {\n",
              "        vertical-align: top;\n",
              "    }\n",
              "\n",
              "    .dataframe thead th {\n",
              "        text-align: right;\n",
              "    }\n",
              "</style>\n",
              "<table border=\"1\" class=\"dataframe\">\n",
              "  <thead>\n",
              "    <tr style=\"text-align: right;\">\n",
              "      <th></th>\n",
              "      <th>context</th>\n",
              "      <th>claim</th>\n",
              "      <th>verdict</th>\n",
              "      <th>evidence</th>\n",
              "      <th>domain</th>\n",
              "    </tr>\n",
              "  </thead>\n",
              "  <tbody>\n",
              "    <tr>\n",
              "      <th>7125</th>\n",
              "      <td>Phát biểu tại lễ ký kết vào ngày 17/11, Giám đ...</td>\n",
              "      <td>Ngoài việc không giới hạn mức lương, công ty c...</td>\n",
              "      <td>SUPPORTED</td>\n",
              "      <td>Công ty cũng có chế độ đãi ngộ tốt, có lương t...</td>\n",
              "      <td>giao-duc</td>\n",
              "    </tr>\n",
              "    <tr>\n",
              "      <th>7126</th>\n",
              "      <td>Phát biểu tại lễ ký kết vào ngày 17/11, Giám đ...</td>\n",
              "      <td>Thành lập năm 2016, phát triển phần mềm, tổ ch...</td>\n",
              "      <td>SUPPORTED</td>\n",
              "      <td>FABA Technology thành lập năm 2016, chuyên cun...</td>\n",
              "      <td>giao-duc</td>\n",
              "    </tr>\n",
              "    <tr>\n",
              "      <th>7127</th>\n",
              "      <td>Phát biểu tại lễ ký kết vào ngày 17/11, Giám đ...</td>\n",
              "      <td>Nhằm phát triển đội ngũ, FABA thường tổ chức n...</td>\n",
              "      <td>SUPPORTED</td>\n",
              "      <td>Bên cạnh đó, FABA thường xuyên tổ chức những d...</td>\n",
              "      <td>giao-duc</td>\n",
              "    </tr>\n",
              "    <tr>\n",
              "      <th>7128</th>\n",
              "      <td>Đối với các nhà khoa học, trí thức, điều kiện ...</td>\n",
              "      <td>Sở dĩ vị trí kỹ sư phần mềm có mức lương cao n...</td>\n",
              "      <td>SUPPORTED</td>\n",
              "      <td>Theo Adeco Việt Nam, mức lương cao nhất đối vớ...</td>\n",
              "      <td>giao-duc</td>\n",
              "    </tr>\n",
              "    <tr>\n",
              "      <th>7129</th>\n",
              "      <td>Đối với các nhà khoa học, trí thức, điều kiện ...</td>\n",
              "      <td>Theo Adeco Việt Nam, mức lương cao nhất đối vớ...</td>\n",
              "      <td>SUPPORTED</td>\n",
              "      <td>Trong khi đó, theo báo cáo \"Thị trường nhân lự...</td>\n",
              "      <td>giao-duc</td>\n",
              "    </tr>\n",
              "    <tr>\n",
              "      <th>7130</th>\n",
              "      <td>Đối với các nhà khoa học, trí thức, điều kiện ...</td>\n",
              "      <td>Việc ủng hộ phương án vừa làm việc ở nước ngoà...</td>\n",
              "      <td>SUPPORTED</td>\n",
              "      <td>Tiến sĩ Liêm cũng ủng hộ phương án vừa làm việ...</td>\n",
              "      <td>giao-duc</td>\n",
              "    </tr>\n",
              "    <tr>\n",
              "      <th>7131</th>\n",
              "      <td>Thầy Anh kể, từ nhiều năm trước, thông tin về ...</td>\n",
              "      <td>Một học sinh tâm sự với thầy rằng không dám gó...</td>\n",
              "      <td>SUPPORTED</td>\n",
              "      <td>Học sinh này tâm sự rằng các em rất muốn được ...</td>\n",
              "      <td>giao-duc</td>\n",
              "    </tr>\n",
              "    <tr>\n",
              "      <th>7132</th>\n",
              "      <td>Thầy Anh kể, từ nhiều năm trước, thông tin về ...</td>\n",
              "      <td>Khi tiếp nhận, nếu nội dung phản ánh nằm ngoài...</td>\n",
              "      <td>SUPPORTED</td>\n",
              "      <td>Nhận tin báo, thầy Anh chuyển nội dung tới côn...</td>\n",
              "      <td>giao-duc</td>\n",
              "    </tr>\n",
              "    <tr>\n",
              "      <th>7133</th>\n",
              "      <td>Thầy Anh kể, từ nhiều năm trước, thông tin về ...</td>\n",
              "      <td>Ví dụ, năm 2020 một học sinh tại THCS Quỳnh Ph...</td>\n",
              "      <td>SUPPORTED</td>\n",
              "      <td>Hơn hai năm công bố số điện thoại, vị hiệu trư...</td>\n",
              "      <td>giao-duc</td>\n",
              "    </tr>\n",
              "    <tr>\n",
              "      <th>7134</th>\n",
              "      <td>PGS.TS Nguyễn Quang Liệu, hiệu trưởng trường T...</td>\n",
              "      <td>Điểm xét tuyển là tổng điểm các môn thi theo t...</td>\n",
              "      <td>SUPPORTED</td>\n",
              "      <td>Trường không cộng điểm ưu tiên trong tuyển sin...</td>\n",
              "      <td>giao-duc</td>\n",
              "    </tr>\n",
              "  </tbody>\n",
              "</table>\n",
              "</div>\n",
              "    <div class=\"colab-df-buttons\">\n",
              "\n",
              "  <div class=\"colab-df-container\">\n",
              "    <button class=\"colab-df-convert\" onclick=\"convertToInteractive('df-53970b08-6d27-42b2-b37b-181d9bd6244c')\"\n",
              "            title=\"Convert this dataframe to an interactive table.\"\n",
              "            style=\"display:none;\">\n",
              "\n",
              "  <svg xmlns=\"http://www.w3.org/2000/svg\" height=\"24px\" viewBox=\"0 -960 960 960\">\n",
              "    <path d=\"M120-120v-720h720v720H120Zm60-500h600v-160H180v160Zm220 220h160v-160H400v160Zm0 220h160v-160H400v160ZM180-400h160v-160H180v160Zm440 0h160v-160H620v160ZM180-180h160v-160H180v160Zm440 0h160v-160H620v160Z\"/>\n",
              "  </svg>\n",
              "    </button>\n",
              "\n",
              "  <style>\n",
              "    .colab-df-container {\n",
              "      display:flex;\n",
              "      gap: 12px;\n",
              "    }\n",
              "\n",
              "    .colab-df-convert {\n",
              "      background-color: #E8F0FE;\n",
              "      border: none;\n",
              "      border-radius: 50%;\n",
              "      cursor: pointer;\n",
              "      display: none;\n",
              "      fill: #1967D2;\n",
              "      height: 32px;\n",
              "      padding: 0 0 0 0;\n",
              "      width: 32px;\n",
              "    }\n",
              "\n",
              "    .colab-df-convert:hover {\n",
              "      background-color: #E2EBFA;\n",
              "      box-shadow: 0px 1px 2px rgba(60, 64, 67, 0.3), 0px 1px 3px 1px rgba(60, 64, 67, 0.15);\n",
              "      fill: #174EA6;\n",
              "    }\n",
              "\n",
              "    .colab-df-buttons div {\n",
              "      margin-bottom: 4px;\n",
              "    }\n",
              "\n",
              "    [theme=dark] .colab-df-convert {\n",
              "      background-color: #3B4455;\n",
              "      fill: #D2E3FC;\n",
              "    }\n",
              "\n",
              "    [theme=dark] .colab-df-convert:hover {\n",
              "      background-color: #434B5C;\n",
              "      box-shadow: 0px 1px 3px 1px rgba(0, 0, 0, 0.15);\n",
              "      filter: drop-shadow(0px 1px 2px rgba(0, 0, 0, 0.3));\n",
              "      fill: #FFFFFF;\n",
              "    }\n",
              "  </style>\n",
              "\n",
              "    <script>\n",
              "      const buttonEl =\n",
              "        document.querySelector('#df-53970b08-6d27-42b2-b37b-181d9bd6244c button.colab-df-convert');\n",
              "      buttonEl.style.display =\n",
              "        google.colab.kernel.accessAllowed ? 'block' : 'none';\n",
              "\n",
              "      async function convertToInteractive(key) {\n",
              "        const element = document.querySelector('#df-53970b08-6d27-42b2-b37b-181d9bd6244c');\n",
              "        const dataTable =\n",
              "          await google.colab.kernel.invokeFunction('convertToInteractive',\n",
              "                                                    [key], {});\n",
              "        if (!dataTable) return;\n",
              "\n",
              "        const docLinkHtml = 'Like what you see? Visit the ' +\n",
              "          '<a target=\"_blank\" href=https://colab.research.google.com/notebooks/data_table.ipynb>data table notebook</a>'\n",
              "          + ' to learn more about interactive tables.';\n",
              "        element.innerHTML = '';\n",
              "        dataTable['output_type'] = 'display_data';\n",
              "        await google.colab.output.renderOutput(dataTable, element);\n",
              "        const docLink = document.createElement('div');\n",
              "        docLink.innerHTML = docLinkHtml;\n",
              "        element.appendChild(docLink);\n",
              "      }\n",
              "    </script>\n",
              "  </div>\n",
              "\n",
              "\n",
              "<div id=\"df-3959b75d-8845-4ac4-b3c0-1b1a72c96408\">\n",
              "  <button class=\"colab-df-quickchart\" onclick=\"quickchart('df-3959b75d-8845-4ac4-b3c0-1b1a72c96408')\"\n",
              "            title=\"Suggest charts.\"\n",
              "            style=\"display:none;\">\n",
              "\n",
              "<svg xmlns=\"http://www.w3.org/2000/svg\" height=\"24px\"viewBox=\"0 0 24 24\"\n",
              "     width=\"24px\">\n",
              "    <g>\n",
              "        <path d=\"M19 3H5c-1.1 0-2 .9-2 2v14c0 1.1.9 2 2 2h14c1.1 0 2-.9 2-2V5c0-1.1-.9-2-2-2zM9 17H7v-7h2v7zm4 0h-2V7h2v10zm4 0h-2v-4h2v4z\"/>\n",
              "    </g>\n",
              "</svg>\n",
              "  </button>\n",
              "\n",
              "<style>\n",
              "  .colab-df-quickchart {\n",
              "      --bg-color: #E8F0FE;\n",
              "      --fill-color: #1967D2;\n",
              "      --hover-bg-color: #E2EBFA;\n",
              "      --hover-fill-color: #174EA6;\n",
              "      --disabled-fill-color: #AAA;\n",
              "      --disabled-bg-color: #DDD;\n",
              "  }\n",
              "\n",
              "  [theme=dark] .colab-df-quickchart {\n",
              "      --bg-color: #3B4455;\n",
              "      --fill-color: #D2E3FC;\n",
              "      --hover-bg-color: #434B5C;\n",
              "      --hover-fill-color: #FFFFFF;\n",
              "      --disabled-bg-color: #3B4455;\n",
              "      --disabled-fill-color: #666;\n",
              "  }\n",
              "\n",
              "  .colab-df-quickchart {\n",
              "    background-color: var(--bg-color);\n",
              "    border: none;\n",
              "    border-radius: 50%;\n",
              "    cursor: pointer;\n",
              "    display: none;\n",
              "    fill: var(--fill-color);\n",
              "    height: 32px;\n",
              "    padding: 0;\n",
              "    width: 32px;\n",
              "  }\n",
              "\n",
              "  .colab-df-quickchart:hover {\n",
              "    background-color: var(--hover-bg-color);\n",
              "    box-shadow: 0 1px 2px rgba(60, 64, 67, 0.3), 0 1px 3px 1px rgba(60, 64, 67, 0.15);\n",
              "    fill: var(--button-hover-fill-color);\n",
              "  }\n",
              "\n",
              "  .colab-df-quickchart-complete:disabled,\n",
              "  .colab-df-quickchart-complete:disabled:hover {\n",
              "    background-color: var(--disabled-bg-color);\n",
              "    fill: var(--disabled-fill-color);\n",
              "    box-shadow: none;\n",
              "  }\n",
              "\n",
              "  .colab-df-spinner {\n",
              "    border: 2px solid var(--fill-color);\n",
              "    border-color: transparent;\n",
              "    border-bottom-color: var(--fill-color);\n",
              "    animation:\n",
              "      spin 1s steps(1) infinite;\n",
              "  }\n",
              "\n",
              "  @keyframes spin {\n",
              "    0% {\n",
              "      border-color: transparent;\n",
              "      border-bottom-color: var(--fill-color);\n",
              "      border-left-color: var(--fill-color);\n",
              "    }\n",
              "    20% {\n",
              "      border-color: transparent;\n",
              "      border-left-color: var(--fill-color);\n",
              "      border-top-color: var(--fill-color);\n",
              "    }\n",
              "    30% {\n",
              "      border-color: transparent;\n",
              "      border-left-color: var(--fill-color);\n",
              "      border-top-color: var(--fill-color);\n",
              "      border-right-color: var(--fill-color);\n",
              "    }\n",
              "    40% {\n",
              "      border-color: transparent;\n",
              "      border-right-color: var(--fill-color);\n",
              "      border-top-color: var(--fill-color);\n",
              "    }\n",
              "    60% {\n",
              "      border-color: transparent;\n",
              "      border-right-color: var(--fill-color);\n",
              "    }\n",
              "    80% {\n",
              "      border-color: transparent;\n",
              "      border-right-color: var(--fill-color);\n",
              "      border-bottom-color: var(--fill-color);\n",
              "    }\n",
              "    90% {\n",
              "      border-color: transparent;\n",
              "      border-bottom-color: var(--fill-color);\n",
              "    }\n",
              "  }\n",
              "</style>\n",
              "\n",
              "  <script>\n",
              "    async function quickchart(key) {\n",
              "      const quickchartButtonEl =\n",
              "        document.querySelector('#' + key + ' button');\n",
              "      quickchartButtonEl.disabled = true;  // To prevent multiple clicks.\n",
              "      quickchartButtonEl.classList.add('colab-df-spinner');\n",
              "      try {\n",
              "        const charts = await google.colab.kernel.invokeFunction(\n",
              "            'suggestCharts', [key], {});\n",
              "      } catch (error) {\n",
              "        console.error('Error during call to suggestCharts:', error);\n",
              "      }\n",
              "      quickchartButtonEl.classList.remove('colab-df-spinner');\n",
              "      quickchartButtonEl.classList.add('colab-df-quickchart-complete');\n",
              "    }\n",
              "    (() => {\n",
              "      let quickchartButtonEl =\n",
              "        document.querySelector('#df-3959b75d-8845-4ac4-b3c0-1b1a72c96408 button');\n",
              "      quickchartButtonEl.style.display =\n",
              "        google.colab.kernel.accessAllowed ? 'block' : 'none';\n",
              "    })();\n",
              "  </script>\n",
              "</div>\n",
              "    </div>\n",
              "  </div>\n"
            ]
          },
          "metadata": {},
          "execution_count": 34
        }
      ]
    },
    {
      "cell_type": "code",
      "source": [
        "test_df = pd.read_json(\"ise-dsc01-public-test-offcial.json\")\n",
        "test_df = test_df.transpose()\n",
        "\n",
        "test_df.head(10)"
      ],
      "metadata": {
        "id": "L9VTivWgtUZ7",
        "colab": {
          "base_uri": "https://localhost:8080/",
          "height": 363
        },
        "outputId": "3df4bdcb-c6dc-4af1-8332-0ac724fea4b5"
      },
      "execution_count": null,
      "outputs": [
        {
          "output_type": "execute_result",
          "data": {
            "text/plain": [
              "                                                 context  \\\n",
              "29706  Ngày 13/3, PGS.TS Phạm Cẩm Phương, Giám đốc Tr...   \n",
              "32454  STEM bao gồm lĩnh vực khoa học (Science), công...   \n",
              "41947  Trong khi tranh cãi còn chưa dứt về số tài liệ...   \n",
              "47909  Nằm trên đường Nguyễn Biểu, quận 5, tiệm há cả...   \n",
              "46798  Năm nay, thời tiết nắng nhiều nhưng mưa ít khi...   \n",
              "47255  Đây là năm thứ 2 cuộc thi Sáng kiến Khoa học (...   \n",
              "41443  Mì sụa là một trong những món ăn truyền thống ...   \n",
              "39120  Trong kỳ nghỉ lễ kéo dài 5 ngày dịp 30/4 - 1/5...   \n",
              "32538  Nguyễn Ngọc Thiện là học sinh lớp 7 tại trường...   \n",
              "46995  Đây là năm thứ hai VnExpress tổ chức cuộc thi ...   \n",
              "\n",
              "                                                   claim  \n",
              "29706  Nên kiểm tra gene trẻ sơ sinh khi gia đình có ...  \n",
              "32454  mba tập trung vào kỹ năng kinh doanh, quản lý ...  \n",
              "41947  Cuộc tranh cãi còn chưa dứt về số tài liệu mật...  \n",
              "47909  Tiệm há cảo của anh Hùng có 6 vị nhân, được là...  \n",
              "46798  Cách trung tâm Thủ đô chừng 100km, công viên T...  \n",
              "47255  Yêu cầu giải pháp/sản phẩm dự thi được mô tả b...  \n",
              "41443        Món ăn truyền thống của người Hoa là mì sụa  \n",
              "39120  Trong các ngày cuối tuần từ 14/4 đến dịp lễ 30...  \n",
              "32538  thiện đã chia sẻ kinh nghiệm học tập với hơn 1...  \n",
              "46995  Ngoài ra cuộc thi cũng chọn và trao cho tác gi...  "
            ],
            "text/html": [
              "\n",
              "  <div id=\"df-544f2b49-3d72-4196-b94f-68c293077e0e\" class=\"colab-df-container\">\n",
              "    <div>\n",
              "<style scoped>\n",
              "    .dataframe tbody tr th:only-of-type {\n",
              "        vertical-align: middle;\n",
              "    }\n",
              "\n",
              "    .dataframe tbody tr th {\n",
              "        vertical-align: top;\n",
              "    }\n",
              "\n",
              "    .dataframe thead th {\n",
              "        text-align: right;\n",
              "    }\n",
              "</style>\n",
              "<table border=\"1\" class=\"dataframe\">\n",
              "  <thead>\n",
              "    <tr style=\"text-align: right;\">\n",
              "      <th></th>\n",
              "      <th>context</th>\n",
              "      <th>claim</th>\n",
              "    </tr>\n",
              "  </thead>\n",
              "  <tbody>\n",
              "    <tr>\n",
              "      <th>29706</th>\n",
              "      <td>Ngày 13/3, PGS.TS Phạm Cẩm Phương, Giám đốc Tr...</td>\n",
              "      <td>Nên kiểm tra gene trẻ sơ sinh khi gia đình có ...</td>\n",
              "    </tr>\n",
              "    <tr>\n",
              "      <th>32454</th>\n",
              "      <td>STEM bao gồm lĩnh vực khoa học (Science), công...</td>\n",
              "      <td>mba tập trung vào kỹ năng kinh doanh, quản lý ...</td>\n",
              "    </tr>\n",
              "    <tr>\n",
              "      <th>41947</th>\n",
              "      <td>Trong khi tranh cãi còn chưa dứt về số tài liệ...</td>\n",
              "      <td>Cuộc tranh cãi còn chưa dứt về số tài liệu mật...</td>\n",
              "    </tr>\n",
              "    <tr>\n",
              "      <th>47909</th>\n",
              "      <td>Nằm trên đường Nguyễn Biểu, quận 5, tiệm há cả...</td>\n",
              "      <td>Tiệm há cảo của anh Hùng có 6 vị nhân, được là...</td>\n",
              "    </tr>\n",
              "    <tr>\n",
              "      <th>46798</th>\n",
              "      <td>Năm nay, thời tiết nắng nhiều nhưng mưa ít khi...</td>\n",
              "      <td>Cách trung tâm Thủ đô chừng 100km, công viên T...</td>\n",
              "    </tr>\n",
              "    <tr>\n",
              "      <th>47255</th>\n",
              "      <td>Đây là năm thứ 2 cuộc thi Sáng kiến Khoa học (...</td>\n",
              "      <td>Yêu cầu giải pháp/sản phẩm dự thi được mô tả b...</td>\n",
              "    </tr>\n",
              "    <tr>\n",
              "      <th>41443</th>\n",
              "      <td>Mì sụa là một trong những món ăn truyền thống ...</td>\n",
              "      <td>Món ăn truyền thống của người Hoa là mì sụa</td>\n",
              "    </tr>\n",
              "    <tr>\n",
              "      <th>39120</th>\n",
              "      <td>Trong kỳ nghỉ lễ kéo dài 5 ngày dịp 30/4 - 1/5...</td>\n",
              "      <td>Trong các ngày cuối tuần từ 14/4 đến dịp lễ 30...</td>\n",
              "    </tr>\n",
              "    <tr>\n",
              "      <th>32538</th>\n",
              "      <td>Nguyễn Ngọc Thiện là học sinh lớp 7 tại trường...</td>\n",
              "      <td>thiện đã chia sẻ kinh nghiệm học tập với hơn 1...</td>\n",
              "    </tr>\n",
              "    <tr>\n",
              "      <th>46995</th>\n",
              "      <td>Đây là năm thứ hai VnExpress tổ chức cuộc thi ...</td>\n",
              "      <td>Ngoài ra cuộc thi cũng chọn và trao cho tác gi...</td>\n",
              "    </tr>\n",
              "  </tbody>\n",
              "</table>\n",
              "</div>\n",
              "    <div class=\"colab-df-buttons\">\n",
              "\n",
              "  <div class=\"colab-df-container\">\n",
              "    <button class=\"colab-df-convert\" onclick=\"convertToInteractive('df-544f2b49-3d72-4196-b94f-68c293077e0e')\"\n",
              "            title=\"Convert this dataframe to an interactive table.\"\n",
              "            style=\"display:none;\">\n",
              "\n",
              "  <svg xmlns=\"http://www.w3.org/2000/svg\" height=\"24px\" viewBox=\"0 -960 960 960\">\n",
              "    <path d=\"M120-120v-720h720v720H120Zm60-500h600v-160H180v160Zm220 220h160v-160H400v160Zm0 220h160v-160H400v160ZM180-400h160v-160H180v160Zm440 0h160v-160H620v160ZM180-180h160v-160H180v160Zm440 0h160v-160H620v160Z\"/>\n",
              "  </svg>\n",
              "    </button>\n",
              "\n",
              "  <style>\n",
              "    .colab-df-container {\n",
              "      display:flex;\n",
              "      gap: 12px;\n",
              "    }\n",
              "\n",
              "    .colab-df-convert {\n",
              "      background-color: #E8F0FE;\n",
              "      border: none;\n",
              "      border-radius: 50%;\n",
              "      cursor: pointer;\n",
              "      display: none;\n",
              "      fill: #1967D2;\n",
              "      height: 32px;\n",
              "      padding: 0 0 0 0;\n",
              "      width: 32px;\n",
              "    }\n",
              "\n",
              "    .colab-df-convert:hover {\n",
              "      background-color: #E2EBFA;\n",
              "      box-shadow: 0px 1px 2px rgba(60, 64, 67, 0.3), 0px 1px 3px 1px rgba(60, 64, 67, 0.15);\n",
              "      fill: #174EA6;\n",
              "    }\n",
              "\n",
              "    .colab-df-buttons div {\n",
              "      margin-bottom: 4px;\n",
              "    }\n",
              "\n",
              "    [theme=dark] .colab-df-convert {\n",
              "      background-color: #3B4455;\n",
              "      fill: #D2E3FC;\n",
              "    }\n",
              "\n",
              "    [theme=dark] .colab-df-convert:hover {\n",
              "      background-color: #434B5C;\n",
              "      box-shadow: 0px 1px 3px 1px rgba(0, 0, 0, 0.15);\n",
              "      filter: drop-shadow(0px 1px 2px rgba(0, 0, 0, 0.3));\n",
              "      fill: #FFFFFF;\n",
              "    }\n",
              "  </style>\n",
              "\n",
              "    <script>\n",
              "      const buttonEl =\n",
              "        document.querySelector('#df-544f2b49-3d72-4196-b94f-68c293077e0e button.colab-df-convert');\n",
              "      buttonEl.style.display =\n",
              "        google.colab.kernel.accessAllowed ? 'block' : 'none';\n",
              "\n",
              "      async function convertToInteractive(key) {\n",
              "        const element = document.querySelector('#df-544f2b49-3d72-4196-b94f-68c293077e0e');\n",
              "        const dataTable =\n",
              "          await google.colab.kernel.invokeFunction('convertToInteractive',\n",
              "                                                    [key], {});\n",
              "        if (!dataTable) return;\n",
              "\n",
              "        const docLinkHtml = 'Like what you see? Visit the ' +\n",
              "          '<a target=\"_blank\" href=https://colab.research.google.com/notebooks/data_table.ipynb>data table notebook</a>'\n",
              "          + ' to learn more about interactive tables.';\n",
              "        element.innerHTML = '';\n",
              "        dataTable['output_type'] = 'display_data';\n",
              "        await google.colab.output.renderOutput(dataTable, element);\n",
              "        const docLink = document.createElement('div');\n",
              "        docLink.innerHTML = docLinkHtml;\n",
              "        element.appendChild(docLink);\n",
              "      }\n",
              "    </script>\n",
              "  </div>\n",
              "\n",
              "\n",
              "<div id=\"df-ba0c5c68-8418-4c83-9e2b-65ce07602417\">\n",
              "  <button class=\"colab-df-quickchart\" onclick=\"quickchart('df-ba0c5c68-8418-4c83-9e2b-65ce07602417')\"\n",
              "            title=\"Suggest charts.\"\n",
              "            style=\"display:none;\">\n",
              "\n",
              "<svg xmlns=\"http://www.w3.org/2000/svg\" height=\"24px\"viewBox=\"0 0 24 24\"\n",
              "     width=\"24px\">\n",
              "    <g>\n",
              "        <path d=\"M19 3H5c-1.1 0-2 .9-2 2v14c0 1.1.9 2 2 2h14c1.1 0 2-.9 2-2V5c0-1.1-.9-2-2-2zM9 17H7v-7h2v7zm4 0h-2V7h2v10zm4 0h-2v-4h2v4z\"/>\n",
              "    </g>\n",
              "</svg>\n",
              "  </button>\n",
              "\n",
              "<style>\n",
              "  .colab-df-quickchart {\n",
              "      --bg-color: #E8F0FE;\n",
              "      --fill-color: #1967D2;\n",
              "      --hover-bg-color: #E2EBFA;\n",
              "      --hover-fill-color: #174EA6;\n",
              "      --disabled-fill-color: #AAA;\n",
              "      --disabled-bg-color: #DDD;\n",
              "  }\n",
              "\n",
              "  [theme=dark] .colab-df-quickchart {\n",
              "      --bg-color: #3B4455;\n",
              "      --fill-color: #D2E3FC;\n",
              "      --hover-bg-color: #434B5C;\n",
              "      --hover-fill-color: #FFFFFF;\n",
              "      --disabled-bg-color: #3B4455;\n",
              "      --disabled-fill-color: #666;\n",
              "  }\n",
              "\n",
              "  .colab-df-quickchart {\n",
              "    background-color: var(--bg-color);\n",
              "    border: none;\n",
              "    border-radius: 50%;\n",
              "    cursor: pointer;\n",
              "    display: none;\n",
              "    fill: var(--fill-color);\n",
              "    height: 32px;\n",
              "    padding: 0;\n",
              "    width: 32px;\n",
              "  }\n",
              "\n",
              "  .colab-df-quickchart:hover {\n",
              "    background-color: var(--hover-bg-color);\n",
              "    box-shadow: 0 1px 2px rgba(60, 64, 67, 0.3), 0 1px 3px 1px rgba(60, 64, 67, 0.15);\n",
              "    fill: var(--button-hover-fill-color);\n",
              "  }\n",
              "\n",
              "  .colab-df-quickchart-complete:disabled,\n",
              "  .colab-df-quickchart-complete:disabled:hover {\n",
              "    background-color: var(--disabled-bg-color);\n",
              "    fill: var(--disabled-fill-color);\n",
              "    box-shadow: none;\n",
              "  }\n",
              "\n",
              "  .colab-df-spinner {\n",
              "    border: 2px solid var(--fill-color);\n",
              "    border-color: transparent;\n",
              "    border-bottom-color: var(--fill-color);\n",
              "    animation:\n",
              "      spin 1s steps(1) infinite;\n",
              "  }\n",
              "\n",
              "  @keyframes spin {\n",
              "    0% {\n",
              "      border-color: transparent;\n",
              "      border-bottom-color: var(--fill-color);\n",
              "      border-left-color: var(--fill-color);\n",
              "    }\n",
              "    20% {\n",
              "      border-color: transparent;\n",
              "      border-left-color: var(--fill-color);\n",
              "      border-top-color: var(--fill-color);\n",
              "    }\n",
              "    30% {\n",
              "      border-color: transparent;\n",
              "      border-left-color: var(--fill-color);\n",
              "      border-top-color: var(--fill-color);\n",
              "      border-right-color: var(--fill-color);\n",
              "    }\n",
              "    40% {\n",
              "      border-color: transparent;\n",
              "      border-right-color: var(--fill-color);\n",
              "      border-top-color: var(--fill-color);\n",
              "    }\n",
              "    60% {\n",
              "      border-color: transparent;\n",
              "      border-right-color: var(--fill-color);\n",
              "    }\n",
              "    80% {\n",
              "      border-color: transparent;\n",
              "      border-right-color: var(--fill-color);\n",
              "      border-bottom-color: var(--fill-color);\n",
              "    }\n",
              "    90% {\n",
              "      border-color: transparent;\n",
              "      border-bottom-color: var(--fill-color);\n",
              "    }\n",
              "  }\n",
              "</style>\n",
              "\n",
              "  <script>\n",
              "    async function quickchart(key) {\n",
              "      const quickchartButtonEl =\n",
              "        document.querySelector('#' + key + ' button');\n",
              "      quickchartButtonEl.disabled = true;  // To prevent multiple clicks.\n",
              "      quickchartButtonEl.classList.add('colab-df-spinner');\n",
              "      try {\n",
              "        const charts = await google.colab.kernel.invokeFunction(\n",
              "            'suggestCharts', [key], {});\n",
              "      } catch (error) {\n",
              "        console.error('Error during call to suggestCharts:', error);\n",
              "      }\n",
              "      quickchartButtonEl.classList.remove('colab-df-spinner');\n",
              "      quickchartButtonEl.classList.add('colab-df-quickchart-complete');\n",
              "    }\n",
              "    (() => {\n",
              "      let quickchartButtonEl =\n",
              "        document.querySelector('#df-ba0c5c68-8418-4c83-9e2b-65ce07602417 button');\n",
              "      quickchartButtonEl.style.display =\n",
              "        google.colab.kernel.accessAllowed ? 'block' : 'none';\n",
              "    })();\n",
              "  </script>\n",
              "</div>\n",
              "    </div>\n",
              "  </div>\n"
            ]
          },
          "metadata": {},
          "execution_count": 35
        }
      ]
    },
    {
      "cell_type": "code",
      "source": [
        "def clean_text(example):\n",
        "  text = example\n",
        "  text = re.sub(r'[^\\w\\s]', '', text)\n",
        "  text = re.sub(r'[ \\n]', ' ', text)\n",
        "  text = re.sub(r' +', ' ', text).strip()\n",
        "  text = text.lower()\n",
        "  return text\n"
      ],
      "metadata": {
        "id": "M1XBVlQlYE1_"
      },
      "execution_count": null,
      "outputs": []
    },
    {
      "cell_type": "code",
      "source": [
        "verdicts = df['verdict'].unique().tolist()\n",
        "num_labels = len(verdicts)\n",
        "def to_category_vector(label):\n",
        "  return verdicts.index(label)\n",
        "\n",
        "# Show example\n",
        "print(to_category_vector(\"NEI\"))\n",
        "print(num_labels)"
      ],
      "metadata": {
        "colab": {
          "base_uri": "https://localhost:8080/"
        },
        "id": "Oi39uNt42MPk",
        "outputId": "522ed56a-402b-4965-f9fc-03df9064c47e"
      },
      "execution_count": null,
      "outputs": [
        {
          "output_type": "stream",
          "name": "stdout",
          "text": [
            "1\n",
            "3\n"
          ]
        }
      ]
    },
    {
      "cell_type": "code",
      "source": [
        "df['evidence'].head(20)"
      ],
      "metadata": {
        "colab": {
          "base_uri": "https://localhost:8080/"
        },
        "id": "5IwIs4iuzXx7",
        "outputId": "5b8d92d5-a7bf-40d0-b994-6159631161ac"
      },
      "execution_count": null,
      "outputs": [
        {
          "output_type": "execute_result",
          "data": {
            "text/plain": [
              "7125    Công ty cũng có chế độ đãi ngộ tốt, có lương t...\n",
              "7126    FABA Technology thành lập năm 2016, chuyên cun...\n",
              "7127    Bên cạnh đó, FABA thường xuyên tổ chức những d...\n",
              "7128    Theo Adeco Việt Nam, mức lương cao nhất đối vớ...\n",
              "7129    Trong khi đó, theo báo cáo \"Thị trường nhân lự...\n",
              "7130    Tiến sĩ Liêm cũng ủng hộ phương án vừa làm việ...\n",
              "7131    Học sinh này tâm sự rằng các em rất muốn được ...\n",
              "7132    Nhận tin báo, thầy Anh chuyển nội dung tới côn...\n",
              "7133    Hơn hai năm công bố số điện thoại, vị hiệu trư...\n",
              "7134    Trường không cộng điểm ưu tiên trong tuyển sin...\n",
              "7135    Điểm xét tuyển vào lớp này là tổng ba môn chun...\n",
              "7136    Điểm xét tuyển vào lớp này là tổng ba môn chun...\n",
              "7137    Thí sinh chỉ trúng tuyển một nguyện vọng cao n...\n",
              "7138    Các ngành thuộc khối sức khỏe có mức điểm chuẩ...\n",
              "7139    Các ngành thuộc khối sức khỏe có mức điểm chuẩ...\n",
              "7140     Chỉ tiêu, tổ hợp xét tuyển từng ngành như sau...\n",
              "7141    Năm ngoái, điểm chuẩn Học viện Ngân hàng theo ...\n",
              "7142    TS Trần Mạnh Hà, Trưởng phòng Đào tạo, hôm 28/...\n",
              "7143    Các dạng thức khác gồm vu khống (16,1%), theo ...\n",
              "7144    Lee cũng cho rằng nhiều học sinh đã mất niềm t...\n",
              "Name: evidence, dtype: object"
            ]
          },
          "metadata": {},
          "execution_count": 38
        }
      ]
    },
    {
      "cell_type": "code",
      "source": [
        "df['evidence'] = df['evidence'].fillna('Không có chứng cứ')"
      ],
      "metadata": {
        "id": "JVU01ZumycPW"
      },
      "execution_count": null,
      "outputs": []
    },
    {
      "cell_type": "code",
      "source": [
        "df.info()"
      ],
      "metadata": {
        "colab": {
          "base_uri": "https://localhost:8080/"
        },
        "id": "9XrlRqAsyDU1",
        "outputId": "377f8490-341d-4063-ec4f-7136731864af"
      },
      "execution_count": null,
      "outputs": [
        {
          "output_type": "stream",
          "name": "stdout",
          "text": [
            "<class 'pandas.core.frame.DataFrame'>\n",
            "Int64Index: 26967 entries, 7125 to 48031\n",
            "Data columns (total 5 columns):\n",
            " #   Column    Non-Null Count  Dtype \n",
            "---  ------    --------------  ----- \n",
            " 0   context   26967 non-null  object\n",
            " 1   claim     26967 non-null  object\n",
            " 2   verdict   26967 non-null  object\n",
            " 3   evidence  26967 non-null  object\n",
            " 4   domain    26967 non-null  object\n",
            "dtypes: object(5)\n",
            "memory usage: 2.2+ MB\n"
          ]
        }
      ]
    },
    {
      "cell_type": "code",
      "source": [
        "\n",
        "# ctxDF = df['context'].apply(text_to_sentences)\n",
        "# claimDF = df['claim'].apply(text_to_sentences)\n",
        "ctxDF = df['context'].apply(clean_text)\n",
        "claimDF = df['claim'].apply(clean_text)\n",
        "evidenceDF = df['evidence'].apply(clean_text)\n",
        "\n",
        "testCtxDF = test_df['context'].apply(clean_text)\n",
        "testClaimDF = test_df['claim'].apply(clean_text)"
      ],
      "metadata": {
        "id": "u4hj2zoVOBME"
      },
      "execution_count": null,
      "outputs": []
    },
    {
      "cell_type": "code",
      "source": [
        "verDF = df['verdict'].apply(to_category_vector)\n",
        "verDF"
      ],
      "metadata": {
        "colab": {
          "base_uri": "https://localhost:8080/"
        },
        "id": "Evixq8Ty2b2Z",
        "outputId": "5f425d03-27c3-4abf-bdbc-4d5e2f04c0e1"
      },
      "execution_count": null,
      "outputs": [
        {
          "output_type": "execute_result",
          "data": {
            "text/plain": [
              "7125     0\n",
              "7126     0\n",
              "7127     0\n",
              "7128     0\n",
              "7129     0\n",
              "        ..\n",
              "48027    2\n",
              "48028    2\n",
              "48029    2\n",
              "48030    2\n",
              "48031    2\n",
              "Name: verdict, Length: 26967, dtype: int64"
            ]
          },
          "metadata": {},
          "execution_count": 42
        }
      ]
    },
    {
      "cell_type": "code",
      "source": [
        "contexts = ctxDF.values.tolist()\n",
        "claims = claimDF.values.tolist()\n",
        "verdicts = verDF.values.tolist()\n",
        "evidences = evidenceDF.values.tolist()"
      ],
      "metadata": {
        "id": "als4edyU2NNI"
      },
      "execution_count": null,
      "outputs": []
    },
    {
      "cell_type": "code",
      "source": [
        "len(verdicts)"
      ],
      "metadata": {
        "colab": {
          "base_uri": "https://localhost:8080/"
        },
        "id": "OmwAKg7WP0cg",
        "outputId": "5ff5d27a-e7ea-49ae-ba8f-08d6786fa39f"
      },
      "execution_count": null,
      "outputs": [
        {
          "output_type": "execute_result",
          "data": {
            "text/plain": [
              "26967"
            ]
          },
          "metadata": {},
          "execution_count": 44
        }
      ]
    },
    {
      "cell_type": "markdown",
      "source": [
        "# Post"
      ],
      "metadata": {
        "id": "moZrBbKjUn5K"
      }
    },
    {
      "cell_type": "code",
      "source": [
        "# train_contexts, test_contexts, train_claims, test_claims, train_verdicts, test_verdicts,  = train_test_split(contexts, claims,verdicts, test_size=0.2, random_state=42)\n",
        "train_contexts =contexts\n",
        "train_claims = claims\n",
        "train_verdicts = verdicts\n",
        "train_evidences = evidences\n",
        "\n",
        "test_contexts = testCtxDF.values.tolist()\n",
        "test_claims = testClaimDF.values.tolist()"
      ],
      "metadata": {
        "id": "NGzXxwdLyMsX"
      },
      "execution_count": null,
      "outputs": []
    },
    {
      "cell_type": "code",
      "source": [
        "\n",
        "\n",
        "tokenizer = PhobertTokenizer.from_pretrained('vinai/phobert-base')\n",
        "\n",
        "transformers_logger = logging.getLogger(\"transformers\")\n",
        "transformers_logger.setLevel(logging.ERROR)"
      ],
      "metadata": {
        "id": "Klzhn4r1TVYS"
      },
      "execution_count": null,
      "outputs": []
    },
    {
      "cell_type": "code",
      "source": [
        "train_encoded_inputs = tokenizer(train_contexts,train_claims,\n",
        "                           add_special_tokens=True,\n",
        "                           truncation=True,\n",
        "                           padding='max_length', max_length=64, return_tensors=\"pt\")\n"
      ],
      "metadata": {
        "id": "3_v3hLvoLoDw"
      },
      "execution_count": null,
      "outputs": []
    },
    {
      "cell_type": "code",
      "source": [
        "test_encoded_inputs = tokenizer(test_contexts,test_claims,\n",
        "                           add_special_tokens=True,\n",
        "                           truncation=True,\n",
        "                           padding='max_length', max_length=64, return_tensors=\"pt\")\n"
      ],
      "metadata": {
        "id": "kLlvg0tQy_En"
      },
      "execution_count": null,
      "outputs": []
    },
    {
      "cell_type": "code",
      "source": [
        "\n",
        "# Mã hóa nhãn (verdict) thành các giá trị số nguyên\n",
        "# label_map = {\"SUPPORTED\": 0, \"NEI\": 1, \"REFUTED\": 2}\n",
        "# labels = [label_map[label] for label in verdicts]\n",
        "\n",
        "train_input_ids = train_encoded_inputs[\"input_ids\"]\n",
        "train_attention_mask = train_encoded_inputs[\"attention_mask\"]\n",
        "train_labels = torch.tensor(train_verdicts)\n"
      ],
      "metadata": {
        "id": "hcCWP3xFldXB"
      },
      "execution_count": null,
      "outputs": []
    },
    {
      "cell_type": "code",
      "source": [
        "test_input_ids = test_encoded_inputs[\"input_ids\"]\n",
        "test_attention_mask = test_encoded_inputs[\"attention_mask\"]\n"
      ],
      "metadata": {
        "id": "M-yx-ZWcPP7Q"
      },
      "execution_count": null,
      "outputs": []
    },
    {
      "cell_type": "code",
      "source": [
        "torch.save(train_input_ids, \"train_input_ids.pt\")\n",
        "torch.save(train_attention_mask, \"train_attention_mask.pt\")\n",
        "torch.save(train_labels, \"train_labels.pt\")"
      ],
      "metadata": {
        "id": "6bB4RWptQ104"
      },
      "execution_count": null,
      "outputs": []
    },
    {
      "cell_type": "code",
      "source": [
        "torch.save(test_input_ids, \"test_input_ids.pt\")\n",
        "torch.save(test_attention_mask, \"test_attention_mask.pt\")"
      ],
      "metadata": {
        "id": "_Ze2JEYZRISu"
      },
      "execution_count": null,
      "outputs": []
    },
    {
      "cell_type": "code",
      "source": [
        "train_combined_data = [context + ' ' + claim for context, claim in zip(train_contexts, train_claims)]\n",
        "test_combined_data = [context + ' ' + claim for context, claim in zip(test_contexts, test_claims)]"
      ],
      "metadata": {
        "id": "PUcAuv--SmDf"
      },
      "execution_count": null,
      "outputs": []
    },
    {
      "cell_type": "code",
      "source": [
        "# Encode claim and context using TF-IDF vectorizer\n",
        "tfidf_vectorizer = TfidfVectorizer()\n",
        "train_tfidf_matrix = tfidf_vectorizer.fit_transform(train_combined_data)\n",
        "test_tfidf_matrix = tfidf_vectorizer.fit_transform(test_combined_data)\n",
        "# Apply SVD to reduce dimensionality of TF-IDF matrix\n",
        "svd = TruncatedSVD(n_components=64)\n",
        "train_svd_matrix = svd.fit_transform(train_tfidf_matrix)\n",
        "test_svd_matrix = svd.fit_transform(test_tfidf_matrix)"
      ],
      "metadata": {
        "id": "zShA99tuMi8b"
      },
      "execution_count": null,
      "outputs": []
    },
    {
      "cell_type": "code",
      "source": [
        "train_svd_matrix= torch.tensor(train_svd_matrix)\n",
        "test_svd_matrix = torch.tensor(test_svd_matrix)"
      ],
      "metadata": {
        "id": "DPjNYTHPS34H"
      },
      "execution_count": null,
      "outputs": []
    },
    {
      "cell_type": "code",
      "source": [
        "torch.save(train_svd_matrix, \"train_svd_matrix.pt\")\n",
        "torch.save(test_svd_matrix, \"test_svd_matrix.pt\")"
      ],
      "metadata": {
        "id": "UF6Rb8R8M_FX"
      },
      "execution_count": null,
      "outputs": []
    }
  ]
}